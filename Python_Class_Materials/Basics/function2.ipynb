{
 "cells": [
  {
   "cell_type": "code",
   "execution_count": 1,
   "id": "4a230dd7",
   "metadata": {},
   "outputs": [],
   "source": [
    "def test(a,b,c,d,e):\n",
    "    return a,b,c,d,e"
   ]
  },
  {
   "cell_type": "code",
   "execution_count": 2,
   "id": "b39d2e03",
   "metadata": {},
   "outputs": [
    {
     "data": {
      "text/plain": [
       "(10, 20, 30, 40, 50)"
      ]
     },
     "execution_count": 2,
     "metadata": {},
     "output_type": "execute_result"
    }
   ],
   "source": [
    "test(10,20,30,40,50)"
   ]
  },
  {
   "cell_type": "code",
   "execution_count": 3,
   "id": "9fd0b3ae",
   "metadata": {},
   "outputs": [],
   "source": [
    "#*args any number of argument\n",
    "def test1(*args):\n",
    "    return args"
   ]
  },
  {
   "cell_type": "code",
   "execution_count": 4,
   "id": "b71f72a6",
   "metadata": {},
   "outputs": [
    {
     "data": {
      "text/plain": [
       "(1, 2, 2, 3, 3, 4, 4, 5, 5, 6, 6, 7, 7, 8, 8, 9, 9, 1)"
      ]
     },
     "execution_count": 4,
     "metadata": {},
     "output_type": "execute_result"
    }
   ],
   "source": [
    "test1(1,2,2,3,3,4,4,5,5,6,6,7,7,8,8,9,9,1)"
   ]
  },
  {
   "cell_type": "code",
   "execution_count": 5,
   "id": "98dbbd2a",
   "metadata": {},
   "outputs": [
    {
     "data": {
      "text/plain": [
       "(['harshi', 1, 23],)"
      ]
     },
     "execution_count": 5,
     "metadata": {},
     "output_type": "execute_result"
    }
   ],
   "source": [
    "test1([\"harshi\",1,23])"
   ]
  },
  {
   "cell_type": "code",
   "execution_count": 6,
   "id": "b63f6f84",
   "metadata": {},
   "outputs": [],
   "source": [
    "#any name instead of args\n",
    "def test2(*hari):\n",
    "    return hari"
   ]
  },
  {
   "cell_type": "code",
   "execution_count": 7,
   "id": "4a4ab861",
   "metadata": {},
   "outputs": [
    {
     "data": {
      "text/plain": [
       "(1, 1, 2, 2, 'hari')"
      ]
     },
     "execution_count": 7,
     "metadata": {},
     "output_type": "execute_result"
    }
   ],
   "source": [
    "test2(1,1,2,2,\"hari\")"
   ]
  },
  {
   "cell_type": "code",
   "execution_count": 13,
   "id": "fe299382",
   "metadata": {},
   "outputs": [],
   "source": [
    "#for specific variable a \n",
    "def test3(*hari, a):\n",
    "    return hari,a"
   ]
  },
  {
   "cell_type": "code",
   "execution_count": 14,
   "id": "1d50537b",
   "metadata": {},
   "outputs": [
    {
     "data": {
      "text/plain": [
       "((34, 24, 34, 24), 25)"
      ]
     },
     "execution_count": 14,
     "metadata": {},
     "output_type": "execute_result"
    }
   ],
   "source": [
    "test3(34,24,34,24,a=25)"
   ]
  },
  {
   "cell_type": "code",
   "execution_count": 15,
   "id": "7fae8933",
   "metadata": {},
   "outputs": [],
   "source": [
    "def test4(*hari,a,b,c,d):\n",
    "    return hari,a,b,c,d"
   ]
  },
  {
   "cell_type": "code",
   "execution_count": 17,
   "id": "8bfc453d",
   "metadata": {},
   "outputs": [
    {
     "data": {
      "text/plain": [
       "((123, 321, 456), 1, 2, 3, 4)"
      ]
     },
     "execution_count": 17,
     "metadata": {},
     "output_type": "execute_result"
    }
   ],
   "source": [
    "test4(123,321,456,a=1,b=2,c=3,d=4)"
   ]
  },
  {
   "cell_type": "code",
   "execution_count": 18,
   "id": "12dadf73",
   "metadata": {},
   "outputs": [],
   "source": [
    "def test5(a,*hari,b,c):\n",
    "    return a,hari,b,c"
   ]
  },
  {
   "cell_type": "code",
   "execution_count": 19,
   "id": "4e235079",
   "metadata": {},
   "outputs": [
    {
     "data": {
      "text/plain": [
       "('ast', ([1, 2, 3], 45, 52), 12, 52)"
      ]
     },
     "execution_count": 19,
     "metadata": {},
     "output_type": "execute_result"
    }
   ],
   "source": [
    "test5(\"ast\",[1,2,3],45,52,b=12,c=52)"
   ]
  },
  {
   "cell_type": "code",
   "execution_count": 28,
   "id": "19c06030",
   "metadata": {},
   "outputs": [],
   "source": [
    "def test6(*hari):\n",
    "    a=[]\n",
    "    for i in hari:\n",
    "        if type(i)==list:\n",
    "            a.append(i)\n",
    "    return a"
   ]
  },
  {
   "cell_type": "code",
   "execution_count": 29,
   "id": "4a444a40",
   "metadata": {},
   "outputs": [
    {
     "data": {
      "text/plain": [
       "[[1, 2, 3], ['hari,1,2,3']]"
      ]
     },
     "execution_count": 29,
     "metadata": {},
     "output_type": "execute_result"
    }
   ],
   "source": [
    "test6([1,2,3],[\"hari,1,2,3\"],1,2,3)"
   ]
  },
  {
   "cell_type": "code",
   "execution_count": 30,
   "id": "16bf1f38",
   "metadata": {},
   "outputs": [],
   "source": [
    "d ={\"a\":[1,2,3],\"b\":[4,5,6]}"
   ]
  },
  {
   "cell_type": "code",
   "execution_count": 31,
   "id": "e24d9db7",
   "metadata": {},
   "outputs": [
    {
     "data": {
      "text/plain": [
       "[1, 2, 3]"
      ]
     },
     "execution_count": 31,
     "metadata": {},
     "output_type": "execute_result"
    }
   ],
   "source": [
    "d[\"a\"]"
   ]
  },
  {
   "cell_type": "code",
   "execution_count": 32,
   "id": "41a91131",
   "metadata": {},
   "outputs": [],
   "source": [
    "#key word argument\n",
    "#dict\n",
    "def test7(**kwargs):\n",
    "    return kwargs"
   ]
  },
  {
   "cell_type": "code",
   "execution_count": 34,
   "id": "2449716c",
   "metadata": {},
   "outputs": [
    {
     "data": {
      "text/plain": [
       "{'a': 1, 'b': 2, 'c': 3}"
      ]
     },
     "execution_count": 34,
     "metadata": {},
     "output_type": "execute_result"
    }
   ],
   "source": [
    "test7(a=1,b=2,c=3)"
   ]
  },
  {
   "cell_type": "code",
   "execution_count": 35,
   "id": "a500f1ba",
   "metadata": {},
   "outputs": [],
   "source": [
    "def test8(**hari):\n",
    "    return hari"
   ]
  },
  {
   "cell_type": "code",
   "execution_count": 36,
   "id": "edf3730c",
   "metadata": {},
   "outputs": [
    {
     "data": {
      "text/plain": [
       "{'a': 1, 'b': 2, 'c': 3, 'd': 4, 'e': 5}"
      ]
     },
     "execution_count": 36,
     "metadata": {},
     "output_type": "execute_result"
    }
   ],
   "source": [
    "test8(a=1,b=2,c=3,d=4,e=5)"
   ]
  },
  {
   "cell_type": "code",
   "execution_count": 37,
   "id": "becb02e1",
   "metadata": {},
   "outputs": [
    {
     "data": {
      "text/plain": [
       "{'v': 'hari'}"
      ]
     },
     "execution_count": 37,
     "metadata": {},
     "output_type": "execute_result"
    }
   ],
   "source": [
    "#when both key and value r string thn we have to write key without quote\n",
    "test8(v=\"hari\")"
   ]
  },
  {
   "cell_type": "code",
   "execution_count": 38,
   "id": "7349c625",
   "metadata": {},
   "outputs": [],
   "source": [
    "def test9(**hari):\n",
    "    return hari"
   ]
  },
  {
   "cell_type": "code",
   "execution_count": 39,
   "id": "6a000023",
   "metadata": {},
   "outputs": [
    {
     "data": {
      "text/plain": [
       "{'name': 'Hari',\n",
       " 'empid': '1968952',\n",
       " 'phone': '7022195404',\n",
       " 'mail_id': 'ajhdjhj'}"
      ]
     },
     "execution_count": 39,
     "metadata": {},
     "output_type": "execute_result"
    }
   ],
   "source": [
    "test9(name=\"Hari\",empid=\"1968952\",phone=\"7022195404\",mail_id=\"ajhdjhj\")"
   ]
  },
  {
   "cell_type": "code",
   "execution_count": 40,
   "id": "7123ab63",
   "metadata": {},
   "outputs": [],
   "source": [
    "def test10(a,**hari):\n",
    "    return hari,a"
   ]
  },
  {
   "cell_type": "code",
   "execution_count": 42,
   "id": "13cb4553",
   "metadata": {},
   "outputs": [
    {
     "data": {
      "text/plain": [
       "({'d': 1, 'b': 2, 'c': 3}, 45)"
      ]
     },
     "execution_count": 42,
     "metadata": {},
     "output_type": "execute_result"
    }
   ],
   "source": [
    "test10(45,d=1,b=2,c=3)"
   ]
  },
  {
   "cell_type": "code",
   "execution_count": 43,
   "id": "e26d232e",
   "metadata": {},
   "outputs": [
    {
     "ename": "SyntaxError",
     "evalue": "invalid syntax (Temp/ipykernel_13280/8428857.py, line 1)",
     "output_type": "error",
     "traceback": [
      "\u001b[1;36m  File \u001b[1;32m\"C:\\Users\\Harshith D\\AppData\\Local\\Temp/ipykernel_13280/8428857.py\"\u001b[1;36m, line \u001b[1;32m1\u001b[0m\n\u001b[1;33m    def test11(a,**hari,*args):\u001b[0m\n\u001b[1;37m                        ^\u001b[0m\n\u001b[1;31mSyntaxError\u001b[0m\u001b[1;31m:\u001b[0m invalid syntax\n"
     ]
    }
   ],
   "source": [
    "def test11(a,**hari,*args):\n",
    "    return hari,a,args"
   ]
  },
  {
   "cell_type": "code",
   "execution_count": 44,
   "id": "b2a9f6d7",
   "metadata": {},
   "outputs": [],
   "source": [
    "#sequence as shown below a *args **args\n",
    "def test12(a,*args,**kwargs):\n",
    "    return a,args,kwargs"
   ]
  },
  {
   "cell_type": "code",
   "execution_count": 45,
   "id": "cd313b02",
   "metadata": {},
   "outputs": [
    {
     "data": {
      "text/plain": [
       "(45, (12, 23, 34, 45, 56), {'g': 45, 'l': 56})"
      ]
     },
     "execution_count": 45,
     "metadata": {},
     "output_type": "execute_result"
    }
   ],
   "source": [
    "test12(45,12,23,34,45,56,g=45,l=56)"
   ]
  },
  {
   "cell_type": "code",
   "execution_count": 47,
   "id": "f8ba77b3",
   "metadata": {},
   "outputs": [],
   "source": [
    "def test13(*args,a,**kwargs):\n",
    "    return a,args,kwargs"
   ]
  },
  {
   "cell_type": "code",
   "execution_count": 48,
   "id": "97d5586c",
   "metadata": {},
   "outputs": [
    {
     "data": {
      "text/plain": [
       "(1, (12, 2, 3, 4, 5, 6, 7, 8), {'b': 2, 'c': 12})"
      ]
     },
     "execution_count": 48,
     "metadata": {},
     "output_type": "execute_result"
    }
   ],
   "source": [
    "test13(12,2,3,4,5,6,7,8,a=1,b=2,c=12)"
   ]
  },
  {
   "cell_type": "code",
   "execution_count": 49,
   "id": "fa2085f0",
   "metadata": {},
   "outputs": [],
   "source": [
    "def test14(a,b):\n",
    "    return a*b"
   ]
  },
  {
   "cell_type": "code",
   "execution_count": 50,
   "id": "025594d6",
   "metadata": {},
   "outputs": [
    {
     "data": {
      "text/plain": [
       "200"
      ]
     },
     "execution_count": 50,
     "metadata": {},
     "output_type": "execute_result"
    }
   ],
   "source": [
    "test14(10,20)"
   ]
  },
  {
   "cell_type": "code",
   "execution_count": 52,
   "id": "a9ea0f44",
   "metadata": {},
   "outputs": [],
   "source": [
    "#func without name ->Lamda\n",
    "#anonymous func\n",
    "a = lambda a,b :a*b"
   ]
  },
  {
   "cell_type": "code",
   "execution_count": 53,
   "id": "077fa124",
   "metadata": {},
   "outputs": [
    {
     "data": {
      "text/plain": [
       "200"
      ]
     },
     "execution_count": 53,
     "metadata": {},
     "output_type": "execute_result"
    }
   ],
   "source": [
    "a(10,20)"
   ]
  },
  {
   "cell_type": "code",
   "execution_count": 2,
   "id": "4cab41cc",
   "metadata": {},
   "outputs": [],
   "source": [
    "x = lambda x:[i for i in x]"
   ]
  },
  {
   "cell_type": "code",
   "execution_count": 3,
   "id": "b5a9a6af",
   "metadata": {},
   "outputs": [
    {
     "data": {
      "text/plain": [
       "[4, 5, 6, 6]"
      ]
     },
     "execution_count": 3,
     "metadata": {},
     "output_type": "execute_result"
    }
   ],
   "source": [
    "x([4,5,6,6])"
   ]
  },
  {
   "cell_type": "code",
   "execution_count": 10,
   "id": "cb232119",
   "metadata": {},
   "outputs": [],
   "source": [
    "a =10\n",
    "def test16(c,d):\n",
    "    c=5\n",
    "    return c*d"
   ]
  },
  {
   "cell_type": "code",
   "execution_count": 11,
   "id": "620e6922",
   "metadata": {},
   "outputs": [
    {
     "data": {
      "text/plain": [
       "250"
      ]
     },
     "execution_count": 11,
     "metadata": {},
     "output_type": "execute_result"
    }
   ],
   "source": [
    "test16(a,50)"
   ]
  },
  {
   "cell_type": "code",
   "execution_count": 13,
   "id": "7b1c31f2",
   "metadata": {},
   "outputs": [],
   "source": [
    "l =[1,2,3,4,5,6]\n",
    "l1=[]\n",
    "for i in l:\n",
    "    l1.append(i+2)"
   ]
  },
  {
   "cell_type": "code",
   "execution_count": 14,
   "id": "5d7e400a",
   "metadata": {},
   "outputs": [
    {
     "data": {
      "text/plain": [
       "[3, 4, 5, 6, 7, 8]"
      ]
     },
     "execution_count": 14,
     "metadata": {},
     "output_type": "execute_result"
    }
   ],
   "source": [
    "l1"
   ]
  },
  {
   "cell_type": "code",
   "execution_count": 15,
   "id": "365769e4",
   "metadata": {},
   "outputs": [],
   "source": [
    "def test17(a):\n",
    "    l1=[]\n",
    "    for i in a:\n",
    "        l1.append(i+2)\n",
    "    return l1"
   ]
  },
  {
   "cell_type": "code",
   "execution_count": 16,
   "id": "00406c20",
   "metadata": {},
   "outputs": [
    {
     "data": {
      "text/plain": [
       "[3, 4, 5, 6, 7, 8]"
      ]
     },
     "execution_count": 16,
     "metadata": {},
     "output_type": "execute_result"
    }
   ],
   "source": [
    "test17(l)"
   ]
  },
  {
   "cell_type": "code",
   "execution_count": 17,
   "id": "a01a7a32",
   "metadata": {},
   "outputs": [],
   "source": [
    "a =  lambda a:[i+2 for i in a]"
   ]
  },
  {
   "cell_type": "code",
   "execution_count": 19,
   "id": "0ebef347",
   "metadata": {},
   "outputs": [
    {
     "data": {
      "text/plain": [
       "[3, 4, 5, 6, 7, 8]"
      ]
     },
     "execution_count": 19,
     "metadata": {},
     "output_type": "execute_result"
    }
   ],
   "source": [
    "a(l)"
   ]
  },
  {
   "cell_type": "code",
   "execution_count": 20,
   "id": "efc97e6a",
   "metadata": {},
   "outputs": [
    {
     "data": {
      "text/plain": [
       "[3, 4, 5, 6, 7, 8]"
      ]
     },
     "execution_count": 20,
     "metadata": {},
     "output_type": "execute_result"
    }
   ],
   "source": [
    "[i+2 for i in l]"
   ]
  },
  {
   "cell_type": "code",
   "execution_count": 21,
   "id": "1708680f",
   "metadata": {},
   "outputs": [
    {
     "data": {
      "text/plain": [
       "[(1, 2), (4, 4), (9, 6), (16, 8), (25, 10), (36, 12)]"
      ]
     },
     "execution_count": 21,
     "metadata": {},
     "output_type": "execute_result"
    }
   ],
   "source": [
    "[(i**2,i+i) for i in l]"
   ]
  },
  {
   "cell_type": "code",
   "execution_count": 22,
   "id": "b4587fff",
   "metadata": {},
   "outputs": [
    {
     "data": {
      "text/plain": [
       "[(1, 2), (4, 4), (9, 6)]"
      ]
     },
     "execution_count": 22,
     "metadata": {},
     "output_type": "execute_result"
    }
   ],
   "source": [
    "[(i**2,i+i) for i in l if i <4]"
   ]
  },
  {
   "cell_type": "code",
   "execution_count": 23,
   "id": "d945ccdb",
   "metadata": {},
   "outputs": [],
   "source": [
    " d = {1:1, 2:4,3:9}"
   ]
  },
  {
   "cell_type": "code",
   "execution_count": 24,
   "id": "6987bba0",
   "metadata": {},
   "outputs": [
    {
     "data": {
      "text/plain": [
       "{0: 0, 1: 1, 2: 4, 3: 9, 4: 16, 5: 25, 6: 36, 7: 49, 8: 64, 9: 81}"
      ]
     },
     "execution_count": 24,
     "metadata": {},
     "output_type": "execute_result"
    }
   ],
   "source": [
    "{i:i**2 for i in range(10)}"
   ]
  },
  {
   "cell_type": "code",
   "execution_count": 27,
   "id": "d4a03fe8",
   "metadata": {},
   "outputs": [],
   "source": [
    "d1={}\n",
    "for i in range(10):\n",
    "    d1[i] =i**2"
   ]
  },
  {
   "cell_type": "code",
   "execution_count": 28,
   "id": "823baf9a",
   "metadata": {},
   "outputs": [
    {
     "data": {
      "text/plain": [
       "{0: 0, 1: 1, 2: 4, 3: 9, 4: 16, 5: 25, 6: 36, 7: 49, 8: 64, 9: 81}"
      ]
     },
     "execution_count": 28,
     "metadata": {},
     "output_type": "execute_result"
    }
   ],
   "source": [
    "d1"
   ]
  },
  {
   "cell_type": "code",
   "execution_count": 31,
   "id": "71430f81",
   "metadata": {},
   "outputs": [
    {
     "data": {
      "text/plain": [
       "(0, 1, 2, 3, 4, 5, 6, 7, 8, 9)"
      ]
     },
     "execution_count": 31,
     "metadata": {},
     "output_type": "execute_result"
    }
   ],
   "source": [
    "tuple(i for i in range(10))"
   ]
  },
  {
   "cell_type": "code",
   "execution_count": 32,
   "id": "2acea179",
   "metadata": {},
   "outputs": [
    {
     "ename": "TypeError",
     "evalue": "'int' object is not iterable",
     "output_type": "error",
     "traceback": [
      "\u001b[1;31m---------------------------------------------------------------------------\u001b[0m",
      "\u001b[1;31mTypeError\u001b[0m                                 Traceback (most recent call last)",
      "\u001b[1;32m~\\AppData\\Local\\Temp/ipykernel_24260/1601103067.py\u001b[0m in \u001b[0;36m<module>\u001b[1;34m\u001b[0m\n\u001b[0;32m      1\u001b[0m \u001b[0ma\u001b[0m\u001b[1;33m=\u001b[0m\u001b[1;36m56\u001b[0m\u001b[1;33m\u001b[0m\u001b[1;33m\u001b[0m\u001b[0m\n\u001b[1;32m----> 2\u001b[1;33m \u001b[1;32mfor\u001b[0m \u001b[0mi\u001b[0m \u001b[1;32min\u001b[0m \u001b[0ma\u001b[0m\u001b[1;33m:\u001b[0m\u001b[1;33m\u001b[0m\u001b[1;33m\u001b[0m\u001b[0m\n\u001b[0m\u001b[0;32m      3\u001b[0m     \u001b[0mprint\u001b[0m\u001b[1;33m(\u001b[0m\u001b[0mi\u001b[0m\u001b[1;33m)\u001b[0m\u001b[1;33m\u001b[0m\u001b[1;33m\u001b[0m\u001b[0m\n",
      "\u001b[1;31mTypeError\u001b[0m: 'int' object is not iterable"
     ]
    }
   ],
   "source": [
    "a=56\n",
    "for i in a:\n",
    "    print(i)"
   ]
  },
  {
   "cell_type": "code",
   "execution_count": 33,
   "id": "fefac218",
   "metadata": {},
   "outputs": [
    {
     "name": "stdout",
     "output_type": "stream",
     "text": [
      "h\n",
      "a\n",
      "r\n",
      "i\n"
     ]
    }
   ],
   "source": [
    "s =\"hari\"\n",
    "for i in s:\n",
    "    print(i)"
   ]
  },
  {
   "cell_type": "code",
   "execution_count": 34,
   "id": "610ecdaa",
   "metadata": {},
   "outputs": [
    {
     "ename": "TypeError",
     "evalue": "'str' object is not an iterator",
     "output_type": "error",
     "traceback": [
      "\u001b[1;31m---------------------------------------------------------------------------\u001b[0m",
      "\u001b[1;31mTypeError\u001b[0m                                 Traceback (most recent call last)",
      "\u001b[1;32m~\\AppData\\Local\\Temp/ipykernel_24260/1977886155.py\u001b[0m in \u001b[0;36m<module>\u001b[1;34m\u001b[0m\n\u001b[1;32m----> 1\u001b[1;33m \u001b[0mnext\u001b[0m\u001b[1;33m(\u001b[0m\u001b[0ms\u001b[0m\u001b[1;33m)\u001b[0m\u001b[1;33m\u001b[0m\u001b[1;33m\u001b[0m\u001b[0m\n\u001b[0m",
      "\u001b[1;31mTypeError\u001b[0m: 'str' object is not an iterator"
     ]
    }
   ],
   "source": [
    "next(s)"
   ]
  },
  {
   "cell_type": "code",
   "execution_count": 35,
   "id": "992cb493",
   "metadata": {},
   "outputs": [],
   "source": [
    "b = iter(s)"
   ]
  },
  {
   "cell_type": "code",
   "execution_count": 36,
   "id": "13a063e5",
   "metadata": {},
   "outputs": [
    {
     "data": {
      "text/plain": [
       "<str_iterator at 0x1f051a3aeb0>"
      ]
     },
     "execution_count": 36,
     "metadata": {},
     "output_type": "execute_result"
    }
   ],
   "source": [
    "b"
   ]
  },
  {
   "cell_type": "code",
   "execution_count": 37,
   "id": "3c5f2b50",
   "metadata": {},
   "outputs": [
    {
     "data": {
      "text/plain": [
       "'h'"
      ]
     },
     "execution_count": 37,
     "metadata": {},
     "output_type": "execute_result"
    }
   ],
   "source": [
    "next(b)"
   ]
  },
  {
   "cell_type": "code",
   "execution_count": 38,
   "id": "73d14d3c",
   "metadata": {},
   "outputs": [
    {
     "data": {
      "text/plain": [
       "'a'"
      ]
     },
     "execution_count": 38,
     "metadata": {},
     "output_type": "execute_result"
    }
   ],
   "source": [
    "next(b)"
   ]
  },
  {
   "cell_type": "code",
   "execution_count": 39,
   "id": "e4d32ad1",
   "metadata": {},
   "outputs": [
    {
     "data": {
      "text/plain": [
       "'r'"
      ]
     },
     "execution_count": 39,
     "metadata": {},
     "output_type": "execute_result"
    }
   ],
   "source": [
    "next(b)"
   ]
  },
  {
   "cell_type": "code",
   "execution_count": 40,
   "id": "3337f9c2",
   "metadata": {},
   "outputs": [
    {
     "data": {
      "text/plain": [
       "'i'"
      ]
     },
     "execution_count": 40,
     "metadata": {},
     "output_type": "execute_result"
    }
   ],
   "source": [
    "next(b)"
   ]
  },
  {
   "cell_type": "code",
   "execution_count": 41,
   "id": "9543fa12",
   "metadata": {},
   "outputs": [
    {
     "ename": "StopIteration",
     "evalue": "",
     "output_type": "error",
     "traceback": [
      "\u001b[1;31m---------------------------------------------------------------------------\u001b[0m",
      "\u001b[1;31mStopIteration\u001b[0m                             Traceback (most recent call last)",
      "\u001b[1;32m~\\AppData\\Local\\Temp/ipykernel_24260/973617480.py\u001b[0m in \u001b[0;36m<module>\u001b[1;34m\u001b[0m\n\u001b[1;32m----> 1\u001b[1;33m \u001b[0mnext\u001b[0m\u001b[1;33m(\u001b[0m\u001b[0mb\u001b[0m\u001b[1;33m)\u001b[0m\u001b[1;33m\u001b[0m\u001b[1;33m\u001b[0m\u001b[0m\n\u001b[0m",
      "\u001b[1;31mStopIteration\u001b[0m: "
     ]
    }
   ],
   "source": [
    "next(b)"
   ]
  },
  {
   "cell_type": "code",
   "execution_count": 42,
   "id": "b61a66fb",
   "metadata": {},
   "outputs": [
    {
     "ename": "TypeError",
     "evalue": "'int' object is not iterable",
     "output_type": "error",
     "traceback": [
      "\u001b[1;31m---------------------------------------------------------------------------\u001b[0m",
      "\u001b[1;31mTypeError\u001b[0m                                 Traceback (most recent call last)",
      "\u001b[1;32m~\\AppData\\Local\\Temp/ipykernel_24260/3186544426.py\u001b[0m in \u001b[0;36m<module>\u001b[1;34m\u001b[0m\n\u001b[1;32m----> 1\u001b[1;33m \u001b[0miter\u001b[0m\u001b[1;33m(\u001b[0m\u001b[1;36m45\u001b[0m\u001b[1;33m)\u001b[0m\u001b[1;33m\u001b[0m\u001b[1;33m\u001b[0m\u001b[0m\n\u001b[0m",
      "\u001b[1;31mTypeError\u001b[0m: 'int' object is not iterable"
     ]
    }
   ],
   "source": [
    "iter(45)"
   ]
  },
  {
   "cell_type": "code",
   "execution_count": 43,
   "id": "dc9b2de1",
   "metadata": {},
   "outputs": [],
   "source": [
    "#iterable to iterator is possible"
   ]
  },
  {
   "cell_type": "code",
   "execution_count": 44,
   "id": "7827583c",
   "metadata": {},
   "outputs": [],
   "source": [
    "l=[1,2,3,4]"
   ]
  },
  {
   "cell_type": "code",
   "execution_count": 45,
   "id": "487fe7ef",
   "metadata": {},
   "outputs": [],
   "source": [
    "l=iter(l)"
   ]
  },
  {
   "cell_type": "code",
   "execution_count": 46,
   "id": "4af8d3a2",
   "metadata": {},
   "outputs": [
    {
     "data": {
      "text/plain": [
       "1"
      ]
     },
     "execution_count": 46,
     "metadata": {},
     "output_type": "execute_result"
    }
   ],
   "source": [
    "next(l)"
   ]
  },
  {
   "cell_type": "code",
   "execution_count": 47,
   "id": "f9e8a18b",
   "metadata": {},
   "outputs": [
    {
     "data": {
      "text/plain": [
       "2"
      ]
     },
     "execution_count": 47,
     "metadata": {},
     "output_type": "execute_result"
    }
   ],
   "source": [
    "next(l)"
   ]
  },
  {
   "cell_type": "code",
   "execution_count": 48,
   "id": "4c740c79",
   "metadata": {},
   "outputs": [
    {
     "data": {
      "text/plain": [
       "3"
      ]
     },
     "execution_count": 48,
     "metadata": {},
     "output_type": "execute_result"
    }
   ],
   "source": [
    "next(l)"
   ]
  },
  {
   "cell_type": "code",
   "execution_count": 49,
   "id": "794b7837",
   "metadata": {},
   "outputs": [
    {
     "data": {
      "text/plain": [
       "4"
      ]
     },
     "execution_count": 49,
     "metadata": {},
     "output_type": "execute_result"
    }
   ],
   "source": [
    "next(l)"
   ]
  },
  {
   "cell_type": "code",
   "execution_count": 50,
   "id": "8fee39b7",
   "metadata": {},
   "outputs": [
    {
     "ename": "StopIteration",
     "evalue": "",
     "output_type": "error",
     "traceback": [
      "\u001b[1;31m---------------------------------------------------------------------------\u001b[0m",
      "\u001b[1;31mStopIteration\u001b[0m                             Traceback (most recent call last)",
      "\u001b[1;32m~\\AppData\\Local\\Temp/ipykernel_24260/2016234150.py\u001b[0m in \u001b[0;36m<module>\u001b[1;34m\u001b[0m\n\u001b[1;32m----> 1\u001b[1;33m \u001b[0mnext\u001b[0m\u001b[1;33m(\u001b[0m\u001b[0ml\u001b[0m\u001b[1;33m)\u001b[0m\u001b[1;33m\u001b[0m\u001b[1;33m\u001b[0m\u001b[0m\n\u001b[0m",
      "\u001b[1;31mStopIteration\u001b[0m: "
     ]
    }
   ],
   "source": [
    "next(l)"
   ]
  },
  {
   "cell_type": "code",
   "execution_count": null,
   "id": "9713d41c",
   "metadata": {},
   "outputs": [],
   "source": []
  }
 ],
 "metadata": {
  "kernelspec": {
   "display_name": "Python 3 (ipykernel)",
   "language": "python",
   "name": "python3"
  },
  "language_info": {
   "codemirror_mode": {
    "name": "ipython",
    "version": 3
   },
   "file_extension": ".py",
   "mimetype": "text/x-python",
   "name": "python",
   "nbconvert_exporter": "python",
   "pygments_lexer": "ipython3",
   "version": "3.9.7"
  }
 },
 "nbformat": 4,
 "nbformat_minor": 5
}
