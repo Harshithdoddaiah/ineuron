{
 "cells": [
  {
   "cell_type": "code",
   "execution_count": 2,
   "id": "8880d8b4",
   "metadata": {},
   "outputs": [],
   "source": [
    "def test():\n",
    "    print(\"this is my first fun\")"
   ]
  },
  {
   "cell_type": "code",
   "execution_count": 3,
   "id": "f8d3a4b7",
   "metadata": {},
   "outputs": [
    {
     "name": "stdout",
     "output_type": "stream",
     "text": [
      "this is my first fun\n"
     ]
    }
   ],
   "source": [
    "a=test()"
   ]
  },
  {
   "cell_type": "code",
   "execution_count": 3,
   "id": "ec482171",
   "metadata": {},
   "outputs": [
    {
     "name": "stdout",
     "output_type": "stream",
     "text": [
      "this is my first fun\n"
     ]
    },
    {
     "data": {
      "text/plain": [
       "NoneType"
      ]
     },
     "execution_count": 3,
     "metadata": {},
     "output_type": "execute_result"
    }
   ],
   "source": [
    "type(test())"
   ]
  },
  {
   "cell_type": "code",
   "execution_count": 5,
   "id": "a205825b",
   "metadata": {},
   "outputs": [],
   "source": [
    "a"
   ]
  },
  {
   "cell_type": "code",
   "execution_count": 4,
   "id": "7bf1b07f",
   "metadata": {},
   "outputs": [
    {
     "name": "stdout",
     "output_type": "stream",
     "text": [
      "this is my first fun\n"
     ]
    },
    {
     "ename": "TypeError",
     "evalue": "unsupported operand type(s) for +: 'NoneType' and 'str'",
     "output_type": "error",
     "traceback": [
      "\u001b[1;31m---------------------------------------------------------------------------\u001b[0m",
      "\u001b[1;31mTypeError\u001b[0m                                 Traceback (most recent call last)",
      "\u001b[1;32m~\\AppData\\Local\\Temp/ipykernel_6252/2515228514.py\u001b[0m in \u001b[0;36m<module>\u001b[1;34m\u001b[0m\n\u001b[1;32m----> 1\u001b[1;33m \u001b[0mtest\u001b[0m\u001b[1;33m(\u001b[0m\u001b[1;33m)\u001b[0m\u001b[1;33m+\u001b[0m\u001b[1;34m\"harshi\"\u001b[0m\u001b[1;33m\u001b[0m\u001b[1;33m\u001b[0m\u001b[0m\n\u001b[0m",
      "\u001b[1;31mTypeError\u001b[0m: unsupported operand type(s) for +: 'NoneType' and 'str'"
     ]
    }
   ],
   "source": [
    "test()+\"harshi\""
   ]
  },
  {
   "cell_type": "code",
   "execution_count": 5,
   "id": "0e0e33b2",
   "metadata": {},
   "outputs": [],
   "source": [
    "#we have to use return insted of print for any operation or getting primitive data type"
   ]
  },
  {
   "cell_type": "code",
   "execution_count": 6,
   "id": "2d9bf085",
   "metadata": {},
   "outputs": [],
   "source": [
    "def test1():\n",
    "    return \"harshith \""
   ]
  },
  {
   "cell_type": "code",
   "execution_count": 7,
   "id": "256813ef",
   "metadata": {},
   "outputs": [
    {
     "data": {
      "text/plain": [
       "'harshith '"
      ]
     },
     "execution_count": 7,
     "metadata": {},
     "output_type": "execute_result"
    }
   ],
   "source": [
    "test1()"
   ]
  },
  {
   "cell_type": "code",
   "execution_count": 8,
   "id": "1d26042d",
   "metadata": {},
   "outputs": [
    {
     "data": {
      "text/plain": [
       "'harshith D'"
      ]
     },
     "execution_count": 8,
     "metadata": {},
     "output_type": "execute_result"
    }
   ],
   "source": [
    "test1()+\"D\""
   ]
  },
  {
   "cell_type": "code",
   "execution_count": 9,
   "id": "60450eaf",
   "metadata": {},
   "outputs": [
    {
     "data": {
      "text/plain": [
       "str"
      ]
     },
     "execution_count": 9,
     "metadata": {},
     "output_type": "execute_result"
    }
   ],
   "source": [
    "type(test1())"
   ]
  },
  {
   "cell_type": "code",
   "execution_count": 10,
   "id": "1c9242cb",
   "metadata": {},
   "outputs": [],
   "source": [
    "def test2():\n",
    "    return 20"
   ]
  },
  {
   "cell_type": "code",
   "execution_count": 11,
   "id": "cd1d67d6",
   "metadata": {},
   "outputs": [
    {
     "data": {
      "text/plain": [
       "int"
      ]
     },
     "execution_count": 11,
     "metadata": {},
     "output_type": "execute_result"
    }
   ],
   "source": [
    "type(test2())"
   ]
  },
  {
   "cell_type": "code",
   "execution_count": 12,
   "id": "fa0cd0f1",
   "metadata": {},
   "outputs": [
    {
     "data": {
      "text/plain": [
       "50"
      ]
     },
     "execution_count": 12,
     "metadata": {},
     "output_type": "execute_result"
    }
   ],
   "source": [
    "test2()+30"
   ]
  },
  {
   "cell_type": "code",
   "execution_count": 13,
   "id": "4f774110",
   "metadata": {},
   "outputs": [],
   "source": [
    "def test4():\n",
    "    return 4,3,\"harshi\",[1,2,3]"
   ]
  },
  {
   "cell_type": "code",
   "execution_count": 15,
   "id": "b0acb205",
   "metadata": {},
   "outputs": [
    {
     "data": {
      "text/plain": [
       "tuple"
      ]
     },
     "execution_count": 15,
     "metadata": {},
     "output_type": "execute_result"
    }
   ],
   "source": [
    "type(test4())"
   ]
  },
  {
   "cell_type": "code",
   "execution_count": 18,
   "id": "f5d4f882",
   "metadata": {},
   "outputs": [],
   "source": [
    "b=test4()"
   ]
  },
  {
   "cell_type": "code",
   "execution_count": 19,
   "id": "acd28ed2",
   "metadata": {},
   "outputs": [
    {
     "data": {
      "text/plain": [
       "(4, 3, 'harshi', [1, 2, 3])"
      ]
     },
     "execution_count": 19,
     "metadata": {},
     "output_type": "execute_result"
    }
   ],
   "source": [
    "b"
   ]
  },
  {
   "cell_type": "code",
   "execution_count": null,
   "id": "2cf337d0",
   "metadata": {},
   "outputs": [],
   "source": []
  },
  {
   "cell_type": "code",
   "execution_count": 21,
   "id": "4fc8d81e",
   "metadata": {},
   "outputs": [
    {
     "data": {
      "text/plain": [
       "4"
      ]
     },
     "execution_count": 21,
     "metadata": {},
     "output_type": "execute_result"
    }
   ],
   "source": [
    "b[0]"
   ]
  },
  {
   "cell_type": "code",
   "execution_count": 22,
   "id": "11295334",
   "metadata": {},
   "outputs": [
    {
     "data": {
      "text/plain": [
       "3"
      ]
     },
     "execution_count": 22,
     "metadata": {},
     "output_type": "execute_result"
    }
   ],
   "source": [
    "b[1]"
   ]
  },
  {
   "cell_type": "code",
   "execution_count": 23,
   "id": "101cb85e",
   "metadata": {},
   "outputs": [
    {
     "data": {
      "text/plain": [
       "(4, 3, 'harshi', [1, 2, 3])"
      ]
     },
     "execution_count": 23,
     "metadata": {},
     "output_type": "execute_result"
    }
   ],
   "source": [
    "test4()"
   ]
  },
  {
   "cell_type": "code",
   "execution_count": 30,
   "id": "5cfeb836",
   "metadata": {},
   "outputs": [],
   "source": [
    "x,y,u,v = test4()"
   ]
  },
  {
   "cell_type": "code",
   "execution_count": 25,
   "id": "d3b99049",
   "metadata": {},
   "outputs": [
    {
     "data": {
      "text/plain": [
       "4"
      ]
     },
     "execution_count": 25,
     "metadata": {},
     "output_type": "execute_result"
    }
   ],
   "source": [
    "x"
   ]
  },
  {
   "cell_type": "code",
   "execution_count": 26,
   "id": "8dd63b8a",
   "metadata": {},
   "outputs": [
    {
     "data": {
      "text/plain": [
       "3"
      ]
     },
     "execution_count": 26,
     "metadata": {},
     "output_type": "execute_result"
    }
   ],
   "source": [
    "y"
   ]
  },
  {
   "cell_type": "code",
   "execution_count": 27,
   "id": "695ae637",
   "metadata": {},
   "outputs": [
    {
     "data": {
      "text/plain": [
       "'harshi'"
      ]
     },
     "execution_count": 27,
     "metadata": {},
     "output_type": "execute_result"
    }
   ],
   "source": [
    "u"
   ]
  },
  {
   "cell_type": "code",
   "execution_count": 28,
   "id": "9ab651a4",
   "metadata": {},
   "outputs": [
    {
     "data": {
      "text/plain": [
       "[1, 2, 3]"
      ]
     },
     "execution_count": 28,
     "metadata": {},
     "output_type": "execute_result"
    }
   ],
   "source": [
    "v"
   ]
  },
  {
   "cell_type": "code",
   "execution_count": 31,
   "id": "eac529ad",
   "metadata": {},
   "outputs": [],
   "source": [
    "def test5():\n",
    "    a = 6*7/6\n",
    "    return a"
   ]
  },
  {
   "cell_type": "code",
   "execution_count": 32,
   "id": "31e5ee88",
   "metadata": {},
   "outputs": [
    {
     "data": {
      "text/plain": [
       "7.0"
      ]
     },
     "execution_count": 32,
     "metadata": {},
     "output_type": "execute_result"
    }
   ],
   "source": [
    "test5()"
   ]
  },
  {
   "cell_type": "code",
   "execution_count": 17,
   "id": "7bb8461f",
   "metadata": {},
   "outputs": [],
   "source": [
    "def test6(a):\n",
    "    n=[]\n",
    "    if type(a) == list:\n",
    "        for i in a:\n",
    "            if type(i) == int:\n",
    "                n.append(i)\n",
    "    else:\n",
    "        print(\"not a list\")\n",
    "    return n"
   ]
  },
  {
   "cell_type": "code",
   "execution_count": 18,
   "id": "9f8183be",
   "metadata": {},
   "outputs": [
    {
     "data": {
      "text/plain": [
       "[1, 2, 3, 4, 5, 6, 4]"
      ]
     },
     "execution_count": 18,
     "metadata": {},
     "output_type": "execute_result"
    }
   ],
   "source": [
    "test6([1,2,3,4,5,6,4,\"hari\",[123,321,456],(1,2,3)])"
   ]
  },
  {
   "cell_type": "code",
   "execution_count": 21,
   "id": "9b1431c0",
   "metadata": {},
   "outputs": [
    {
     "name": "stdout",
     "output_type": "stream",
     "text": [
      "not a list\n"
     ]
    },
    {
     "data": {
      "text/plain": [
       "[]"
      ]
     },
     "execution_count": 21,
     "metadata": {},
     "output_type": "execute_result"
    }
   ],
   "source": [
    "test6(1)"
   ]
  },
  {
   "cell_type": "code",
   "execution_count": 32,
   "id": "b4b88a5c",
   "metadata": {},
   "outputs": [],
   "source": [
    "def test7(c):\n",
    "    if type(c) == dict:\n",
    "        return c.keys()\n",
    "    else:\n",
    "        return \"this is not dict\""
   ]
  },
  {
   "cell_type": "code",
   "execution_count": 33,
   "id": "a3813119",
   "metadata": {},
   "outputs": [
    {
     "data": {
      "text/plain": [
       "'this is not dict'"
      ]
     },
     "execution_count": 33,
     "metadata": {},
     "output_type": "execute_result"
    }
   ],
   "source": [
    "test7(\"123\")"
   ]
  },
  {
   "cell_type": "code",
   "execution_count": 34,
   "id": "e653af72",
   "metadata": {},
   "outputs": [
    {
     "data": {
      "text/plain": [
       "dict_keys(['a', 'b', 'c'])"
      ]
     },
     "execution_count": 34,
     "metadata": {},
     "output_type": "execute_result"
    }
   ],
   "source": [
    "test7({\"a\":\"abcs\",\"b\":123,\"c\":10})"
   ]
  },
  {
   "cell_type": "code",
   "execution_count": 11,
   "id": "52b323c9",
   "metadata": {},
   "outputs": [],
   "source": [
    "def test9(a,b):\n",
    "    if type(a) == list and type(b) == list:\n",
    "        a.extend(b)\n",
    "        return a\n",
    "    else:\n",
    "        return \"either of data is not a list\""
   ]
  },
  {
   "cell_type": "code",
   "execution_count": 12,
   "id": "356d754f",
   "metadata": {},
   "outputs": [
    {
     "data": {
      "text/plain": [
       "'either of data is not a list'"
      ]
     },
     "execution_count": 12,
     "metadata": {},
     "output_type": "execute_result"
    }
   ],
   "source": [
    "test9(123,\"abcd\")"
   ]
  },
  {
   "cell_type": "code",
   "execution_count": 13,
   "id": "17137366",
   "metadata": {},
   "outputs": [
    {
     "data": {
      "text/plain": [
       "[1, 2, 'bgbg', [1, 2, 3, 4], 5, 6, 7, 8, 9]"
      ]
     },
     "execution_count": 13,
     "metadata": {},
     "output_type": "execute_result"
    }
   ],
   "source": [
    "test9([1,2,\"bgbg\",[1,2,3,4]],[5,6,7,8,9])"
   ]
  },
  {
   "cell_type": "code",
   "execution_count": 39,
   "id": "9d4ed499",
   "metadata": {},
   "outputs": [],
   "source": [
    "def test9(n):\n",
    "    #docstring\n",
    "    \"\"\"this is a fun which will help you to create a triangle with any number of rows\"\"\"\n",
    "    if type(n) == int:\n",
    "        for i in range(0,n):\n",
    "            for j in range(0,i+1):\n",
    "                print(\"* \" , end=\"\")\n",
    "            print(\"\\r\")"
   ]
  },
  {
   "cell_type": "code",
   "execution_count": 40,
   "id": "2e04b8a5",
   "metadata": {
    "scrolled": true
   },
   "outputs": [
    {
     "name": "stdout",
     "output_type": "stream",
     "text": [
      "* \r\n",
      "* * \r\n",
      "* * * \r\n",
      "* * * * \r\n",
      "* * * * * \r\n",
      "* * * * * * \r\n",
      "* * * * * * * \r\n",
      "* * * * * * * * \r\n",
      "* * * * * * * * * \r\n",
      "* * * * * * * * * * \r\n"
     ]
    }
   ],
   "source": [
    "test9(10)"
   ]
  },
  {
   "cell_type": "code",
   "execution_count": 42,
   "id": "a04bb71d",
   "metadata": {},
   "outputs": [
    {
     "name": "stdout",
     "output_type": "stream",
     "text": [
      "Help on function test9 in module __main__:\n",
      "\n",
      "test9(n)\n",
      "    this is a fun which will help you to create a triangle with any number of rows\n",
      "\n"
     ]
    }
   ],
   "source": [
    "help(test9) #help() is inbuilt function it will print the doc string"
   ]
  },
  {
   "cell_type": "code",
   "execution_count": 43,
   "id": "34164540",
   "metadata": {},
   "outputs": [
    {
     "data": {
      "text/plain": [
       "'hhhh\\nddd\\nddddd\\n'"
      ]
     },
     "execution_count": 43,
     "metadata": {},
     "output_type": "execute_result"
    }
   ],
   "source": [
    "#single line comment\n",
    "\"\"\"muliline\n",
    "comment\n",
    "\"\"\"\n",
    "#if we write triple quote inside function thn it will be \"Docstring\""
   ]
  },
  {
   "cell_type": "code",
   "execution_count": null,
   "id": "d126e7db",
   "metadata": {},
   "outputs": [],
   "source": [
    "#write a fun which will take string and return a len of it without using in a inbuilt fun len"
   ]
  },
  {
   "cell_type": "code",
   "execution_count": 10,
   "id": "5359b726",
   "metadata": {},
   "outputs": [],
   "source": [
    "def len_str(s):\n",
    "    count=0\n",
    "    if type(s)==str:\n",
    "        for i in s:\n",
    "            count=count+1\n",
    "        return count\n",
    "    else:\n",
    "        return \"plz enter a string\""
   ]
  },
  {
   "cell_type": "code",
   "execution_count": 11,
   "id": "fded9de2",
   "metadata": {},
   "outputs": [
    {
     "data": {
      "text/plain": [
       "8"
      ]
     },
     "execution_count": 11,
     "metadata": {},
     "output_type": "execute_result"
    }
   ],
   "source": [
    "len_str(\"harshith\")"
   ]
  },
  {
   "cell_type": "code",
   "execution_count": 12,
   "id": "e43b4e0b",
   "metadata": {},
   "outputs": [
    {
     "data": {
      "text/plain": [
       "'plz enter a string'"
      ]
     },
     "execution_count": 12,
     "metadata": {},
     "output_type": "execute_result"
    }
   ],
   "source": [
    "len_str(8)"
   ]
  },
  {
   "cell_type": "code",
   "execution_count": 13,
   "id": "5a2abd7a",
   "metadata": {},
   "outputs": [],
   "source": [
    "#write a fun which will be able to print an index of all premitive element which you will pass"
   ]
  },
  {
   "cell_type": "code",
   "execution_count": 8,
   "id": "75247a6c",
   "metadata": {},
   "outputs": [],
   "source": [
    "def index_pri(a):\n",
    "        for i in a:\n",
    "            print(i)"
   ]
  },
  {
   "cell_type": "code",
   "execution_count": 9,
   "id": "87ca5d5d",
   "metadata": {},
   "outputs": [
    {
     "name": "stdout",
     "output_type": "stream",
     "text": [
      "1\n",
      "2\n",
      "3\n",
      "4\n",
      "5\n",
      "6\n",
      "7\n",
      "harshith\n"
     ]
    }
   ],
   "source": [
    "index_pri([1,2,3,4,5,6,7,\"harshith\"])"
   ]
  },
  {
   "cell_type": "code",
   "execution_count": 29,
   "id": "5dc2299f",
   "metadata": {},
   "outputs": [],
   "source": [
    "#write a fun which will take input as dict and give me out as list of all the values even in case of 2 level nesting it should work"
   ]
  },
  {
   "cell_type": "code",
   "execution_count": 6,
   "id": "b5c62d6e",
   "metadata": {},
   "outputs": [],
   "source": [
    "def dict_list(b):\n",
    "    n=[]\n",
    "    if type(b)==dict:\n",
    "        for i in b.values():\n",
    "            n.append(i)\n",
    "        return n\n",
    "    if type(i)==dict:\n",
    "                for j in i.values():\n",
    "                    n.append(j)\n",
    "                return n"
   ]
  },
  {
   "cell_type": "code",
   "execution_count": 7,
   "id": "f6aa68f6",
   "metadata": {},
   "outputs": [
    {
     "data": {
      "text/plain": [
       "['b', 'd']"
      ]
     },
     "execution_count": 7,
     "metadata": {},
     "output_type": "execute_result"
    }
   ],
   "source": [
    "dict_list({\"a\":\"b\",\"c\":\"d\"})"
   ]
  },
  {
   "cell_type": "code",
   "execution_count": null,
   "id": "a6c34343",
   "metadata": {},
   "outputs": [],
   "source": []
  }
 ],
 "metadata": {
  "kernelspec": {
   "display_name": "Python 3 (ipykernel)",
   "language": "python",
   "name": "python3"
  },
  "language_info": {
   "codemirror_mode": {
    "name": "ipython",
    "version": 3
   },
   "file_extension": ".py",
   "mimetype": "text/x-python",
   "name": "python",
   "nbconvert_exporter": "python",
   "pygments_lexer": "ipython3",
   "version": "3.9.7"
  }
 },
 "nbformat": 4,
 "nbformat_minor": 5
}
