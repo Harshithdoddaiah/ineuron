{
 "cells": [
  {
   "cell_type": "code",
   "execution_count": null,
   "id": "6e860cbf",
   "metadata": {},
   "outputs": [],
   "source": [
    "a=10"
   ]
  },
  {
   "cell_type": "code",
   "execution_count": null,
   "id": "4bb8ce58",
   "metadata": {},
   "outputs": [],
   "source": [
    "if a < 15:\n",
    "    print(\"my name is harshi\")"
   ]
  },
  {
   "cell_type": "code",
   "execution_count": null,
   "id": "5b917bf3",
   "metadata": {},
   "outputs": [],
   "source": [
    "a<15"
   ]
  },
  {
   "cell_type": "code",
   "execution_count": null,
   "id": "2bf9ce34",
   "metadata": {},
   "outputs": [],
   "source": [
    "if a<15:\n",
    "    pass"
   ]
  },
  {
   "cell_type": "code",
   "execution_count": null,
   "id": "f7d3e4bd",
   "metadata": {},
   "outputs": [],
   "source": [
    "if 24 < 15:\n",
    "    print(\"my name is harshi\")"
   ]
  },
  {
   "cell_type": "code",
   "execution_count": null,
   "id": "8015f5d1",
   "metadata": {},
   "outputs": [],
   "source": [
    "if 10 < 3:\n",
    "    print(\"10 is lesser than 3\")\n",
    "else:\n",
    "    print(\"if statement is worng\")"
   ]
  },
  {
   "cell_type": "code",
   "execution_count": null,
   "id": "a02c2708",
   "metadata": {},
   "outputs": [],
   "source": [
    "income=100\n",
    "if income<50:\n",
    "    print(\"i will be able to my phone\")\n",
    "elif income<70:\n",
    "    print(\"i will be able to my car\")\n",
    "elif income<90:\n",
    "    print(\"i will able to rent a house\")\n",
    "else:\n",
    "    print(\"i wont be able to buy anything\")"
   ]
  },
  {
   "cell_type": "code",
   "execution_count": null,
   "id": "3f4f1614",
   "metadata": {},
   "outputs": [],
   "source": [
    "income = int(input(\"enter your income\"))\n",
    "if income < 50:\n",
    "    print(\"i will be able to my phone\")\n",
    "elif income < 70:\n",
    "    print(\"i will be able to my car\")\n",
    "elif income < 90:\n",
    "    print(\"i will able to rent a house\")\n",
    "else:\n",
    "    print(\"i wont be able to buy anything\")"
   ]
  },
  {
   "cell_type": "code",
   "execution_count": 2,
   "id": "0ceb6df5",
   "metadata": {},
   "outputs": [
    {
     "name": "stdout",
     "output_type": "stream",
     "text": [
      "enter total price 5000\n",
      "Discount will be  250.0\n"
     ]
    }
   ],
   "source": [
    "Total_price = int(input(\"enter total price \"))\n",
    "if Total_price > 20000:\n",
    "    discount = Total_price * 0.20\n",
    "    print(\"Discount will be \", discount)\n",
    "elif Total_price <= 7000:\n",
    "    discount = Total_price * .05\n",
    "    print(\"Discount will be \", discount)\n",
    "else:\n",
    "    print(\"wont get anykind of discount\")"
   ]
  },
  {
   "cell_type": "code",
   "execution_count": 5,
   "id": "040b1f41",
   "metadata": {},
   "outputs": [
    {
     "name": "stdout",
     "output_type": "stream",
     "text": [
      "enter the coupoun code ASD\n",
      "Kindly use vaild coupoun code\n"
     ]
    }
   ],
   "source": [
    "coup = input(\"enter the coupoun code \")\n",
    "if coup == \"HARSHI\":\n",
    "    print(\"you will get discount of 5% \")\n",
    "    paid_amount = 7080 - 7080 * 0.05\n",
    "    print(\"you get course with this amount \", paid_amount)\n",
    "else:\n",
    "    print(\"Kindly use vaild coupoun code\")"
   ]
  },
  {
   "cell_type": "code",
   "execution_count": 5,
   "id": "9a2b49ae",
   "metadata": {},
   "outputs": [
    {
     "name": "stdout",
     "output_type": "stream",
     "text": [
      "enter hr daily basies2\n",
      "it may take 6 month for transition\n"
     ]
    }
   ],
   "source": [
    "study_hr = int(input(\"enter hr daily basies\"))\n",
    "if study_hr < 1:\n",
    "    print(\"it may take 8-9 month of time to make a transition\")\n",
    "elif study_hr < 4 and study_hr > 1:\n",
    "    print(\"it may take 6 month for transition\")\n",
    "elif study_hr > 10:\n",
    "    print(\"it will take 3 months of time for transition\")\n",
    "else :\n",
    "    print(\"it is difficult\")"
   ]
  },
  {
   "cell_type": "code",
   "execution_count": 1,
   "id": "5acff3f8",
   "metadata": {},
   "outputs": [
    {
     "name": "stdout",
     "output_type": "stream",
     "text": [
      "valid\n"
     ]
    }
   ],
   "source": [
    "a=9\n",
    "if a==9:\n",
    "    print(\"valid\")"
   ]
  },
  {
   "cell_type": "code",
   "execution_count": 5,
   "id": "fd7a3183",
   "metadata": {},
   "outputs": [
    {
     "name": "stdout",
     "output_type": "stream",
     "text": [
      "enter string to start oneneuronservices\n",
      "enter Course Name DSA\n",
      "enter the services workwithus\n",
      "Our HR will contact u\n"
     ]
    }
   ],
   "source": [
    "s= input(\"enter string to start \")\n",
    "course = input(\"enter Course Name \")\n",
    "service = input(\"enter the services \")\n",
    "if s ==\"oneneuron\":\n",
    "    if course == \"DSA\":\n",
    "        print(\"yes its available under oneneuron\")\n",
    "    elif course == \"Blockchain\":\n",
    "        print(\"yot net uploaded\")\n",
    "    elif course == \"FSDS\":\n",
    "        print(\"yes available\")\n",
    "    else:\n",
    "        print(\"Raise ticket\")\n",
    "elif s == \"oneneuronservices\":\n",
    "    if service == \"courserequest\":\n",
    "        print(\"fulfilled in 60days\")\n",
    "    elif service == \"module\":\n",
    "        print(\"fulfilled in 30days\")\n",
    "    elif service == \"doubt\":\n",
    "        print(\"fulfilled in 24hr\")\n",
    "    elif service == \"workwithus\":\n",
    "        print(\"Our HR will contact u\")\n",
    "    else:\n",
    "        print(\"Provide Feedback we will fulfill u\")\n",
    "else:\n",
    "    print(\"Kindly connect to our team\")"
   ]
  },
  {
   "cell_type": "code",
   "execution_count": 1,
   "id": "6f3c56d9",
   "metadata": {},
   "outputs": [
    {
     "name": "stdout",
     "output_type": "stream",
     "text": [
      "1\n",
      "2\n",
      "3\n",
      "4\n",
      "5\n",
      "6\n",
      "7\n"
     ]
    }
   ],
   "source": [
    "l = [1,2,3,4,5,6,7]\n",
    "for i in l:\n",
    "    print(i)"
   ]
  },
  {
   "cell_type": "code",
   "execution_count": 2,
   "id": "3bcbf8ee",
   "metadata": {},
   "outputs": [
    {
     "name": "stdout",
     "output_type": "stream",
     "text": [
      "h\n",
      "a\n",
      "r\n",
      "i\n"
     ]
    }
   ],
   "source": [
    "s = \"hari\"\n",
    "for i in s:\n",
    "    print(i)"
   ]
  },
  {
   "cell_type": "code",
   "execution_count": 4,
   "id": "1a25e864",
   "metadata": {},
   "outputs": [
    {
     "name": "stdout",
     "output_type": "stream",
     "text": [
      "1\n",
      "2\n",
      "3\n",
      "4\n",
      "5\n",
      "6\n"
     ]
    }
   ],
   "source": [
    "t = (1,2,3,4,5,6)\n",
    "for i in t:\n",
    "    print(i)"
   ]
  },
  {
   "cell_type": "code",
   "execution_count": 14,
   "id": "ab586d44",
   "metadata": {},
   "outputs": [
    {
     "name": "stdout",
     "output_type": "stream",
     "text": [
      "1 type is <class 'int'>\n",
      "4 type is <class 'int'>\n",
      "5.6 type is <class 'float'>\n",
      "4.7j type is <class 'complex'>\n",
      "hari type is <class 'str'>\n"
     ]
    }
   ],
   "source": [
    "l = [1, 4 ,5.6 ,4.7j ,\"hari\"]\n",
    "for i in l:\n",
    "    typ = type(i)\n",
    "    print(i,\"type is\",typ)"
   ]
  },
  {
   "cell_type": "code",
   "execution_count": 2,
   "id": "2e9f916e",
   "metadata": {},
   "outputs": [],
   "source": [
    "l = [1, 4 ,5.6]\n",
    "l1 = []\n",
    "for i in l:\n",
    "    l1.append(i+2)"
   ]
  },
  {
   "cell_type": "code",
   "execution_count": 3,
   "id": "fe54c113",
   "metadata": {},
   "outputs": [
    {
     "data": {
      "text/plain": [
       "[3, 6, 7.6]"
      ]
     },
     "execution_count": 3,
     "metadata": {},
     "output_type": "execute_result"
    }
   ],
   "source": [
    "l1"
   ]
  },
  {
   "cell_type": "code",
   "execution_count": 7,
   "id": "77996759",
   "metadata": {},
   "outputs": [
    {
     "name": "stdout",
     "output_type": "stream",
     "text": [
      "1\n",
      "4\n",
      "45\n",
      "78\n",
      "12\n"
     ]
    }
   ],
   "source": [
    "l = [1, 4,45,78,5.6 ,4.7j ,\"hari\",12]\n",
    "for i in l:\n",
    "    if type(i) == int:\n",
    "        print(i)"
   ]
  },
  {
   "cell_type": "code",
   "execution_count": 14,
   "id": "e4b1d339",
   "metadata": {},
   "outputs": [
    {
     "name": "stdout",
     "output_type": "stream",
     "text": [
      "1\n",
      "4\n",
      "45\n",
      "78\n",
      "12\n",
      "12\n",
      "12\n",
      "15\n",
      "100\n"
     ]
    }
   ],
   "source": [
    "l = [1, 4,45,78,5.6 ,4.7j ,\"hari\",[12,\"bfg\",12,15,100]]\n",
    "for i in l:\n",
    "    if type(i) == int:\n",
    "        print(i)\n",
    "    elif type(i) == list:\n",
    "        for j in i:\n",
    "            if type(j) == int:\n",
    "                print(j)"
   ]
  },
  {
   "cell_type": "markdown",
   "id": "20f792d8",
   "metadata": {},
   "source": [
    "l = [1, 4,45,78,5.6 ,4.7j ,\"hari\",[12,\"bfg\",12,15,100]]\n"
   ]
  },
  {
   "cell_type": "code",
   "execution_count": 18,
   "id": "68831601",
   "metadata": {
    "scrolled": true
   },
   "outputs": [
    {
     "name": "stdout",
     "output_type": "stream",
     "text": [
      "index 0 element is 2\n",
      "index 1 element is 45\n",
      "index 2 element is 78\n",
      "index 3 element is 12\n",
      "index 4 element is 12\n",
      "index 5 element is 12\n",
      "index 6 element is 12\n",
      "index 7 element is sudh\n",
      "index 8 element is (6+7j)\n",
      "index 9 element is [56, 67, 78, 'dsfdsf']\n"
     ]
    }
   ],
   "source": [
    "l = [2,45,78,12,12,12,12,\"sudh\",6+7j,[56,67,78,\"dsfdsf\"]]\n",
    "for i in range(len(l)):\n",
    "    print(\"index\" ,i, \"element is\", l[i])"
   ]
  },
  {
   "cell_type": "code",
   "execution_count": 20,
   "id": "45c635d8",
   "metadata": {},
   "outputs": [
    {
     "name": "stdout",
     "output_type": "stream",
     "text": [
      "0 2\n",
      "1 45\n",
      "2 78\n",
      "3 12\n",
      "4 12\n",
      "5 12\n",
      "6 12\n",
      "7 sudh\n",
      "8 (6+7j)\n",
      "9 [56, 67, 78, 'dsfdsf']\n"
     ]
    }
   ],
   "source": [
    "l = [2,45,78,12,12,12,12,\"sudh\",6+7j,[56,67,78,\"dsfdsf\"]]\n",
    "for i, j in enumerate(l):\n",
    "    print(i, j)"
   ]
  },
  {
   "cell_type": "code",
   "execution_count": 8,
   "id": "c248b15a",
   "metadata": {},
   "outputs": [
    {
     "name": "stdout",
     "output_type": "stream",
     "text": [
      "['s', 'u', 'd', 'h']\n",
      "['s', 'u', 'd', 'h', 'a', 'b', 'c', 'd']\n"
     ]
    }
   ],
   "source": [
    "l = [2,45,78,12,\"sudh\", \"abcd\",6+7j,[56,67,78,\"dsfdsf\"]]\n",
    "l1 = []\n",
    "for i in l:\n",
    "    if type(i) == str:\n",
    "        for j in i:\n",
    "            l1.append(j)\n",
    "        print(l1)"
   ]
  },
  {
   "cell_type": "code",
   "execution_count": 1,
   "id": "9b604801",
   "metadata": {},
   "outputs": [
    {
     "data": {
      "text/plain": [
       "[4, 2025, 6084, 144]"
      ]
     },
     "execution_count": 1,
     "metadata": {},
     "output_type": "execute_result"
    }
   ],
   "source": [
    "l = [2,45,78,12,\"sudh\",6+7j,[56,67,78,\"dsfdsf\"]]\n",
    "l1 = []\n",
    "for i in l:\n",
    "    if type(i) == int:\n",
    "        l1.append(i**2)\n",
    "l1"
   ]
  },
  {
   "cell_type": "code",
   "execution_count": 10,
   "id": "01b8a24e",
   "metadata": {},
   "outputs": [
    {
     "data": {
      "text/plain": [
       "[4, 2025, 6084, 144]"
      ]
     },
     "execution_count": 10,
     "metadata": {},
     "output_type": "execute_result"
    }
   ],
   "source": [
    "l1"
   ]
  },
  {
   "cell_type": "code",
   "execution_count": 3,
   "id": "2ef369c3",
   "metadata": {},
   "outputs": [
    {
     "name": "stdout",
     "output_type": "stream",
     "text": [
      "name\n",
      "email\n",
      "phoneno\n",
      "address\n"
     ]
    }
   ],
   "source": [
    "l = [\"name\", \"email\", \"phoneno\", \"address\"]\n",
    "for i in l:\n",
    "    print(i)"
   ]
  },
  {
   "cell_type": "code",
   "execution_count": 11,
   "id": "47919e3d",
   "metadata": {},
   "outputs": [
    {
     "name": "stdout",
     "output_type": "stream",
     "text": [
      "i\n",
      "n\n",
      "e\n",
      "u\n",
      "r\n",
      "o\n",
      "n\n"
     ]
    }
   ],
   "source": [
    "s = \"ineuron\"\n",
    "for i in s:\n",
    "    print(i)"
   ]
  },
  {
   "cell_type": "code",
   "execution_count": 12,
   "id": "f3766ad1",
   "metadata": {},
   "outputs": [],
   "source": [
    "#for else"
   ]
  },
  {
   "cell_type": "code",
   "execution_count": 4,
   "id": "0378c13f",
   "metadata": {},
   "outputs": [
    {
     "data": {
      "text/plain": [
       "['name', 'email', 'phoneno', 'address']"
      ]
     },
     "execution_count": 4,
     "metadata": {},
     "output_type": "execute_result"
    }
   ],
   "source": [
    "l"
   ]
  },
  {
   "cell_type": "code",
   "execution_count": 5,
   "id": "96be4bff",
   "metadata": {},
   "outputs": [
    {
     "name": "stdout",
     "output_type": "stream",
     "text": [
      "name\n",
      "email\n",
      "phoneno\n",
      "address\n",
      "if loop is going to complete itself then it will come to else\n"
     ]
    }
   ],
   "source": [
    "for i in l:\n",
    "    print(i)\n",
    "else:\n",
    "    print(\"if loop is going to complete itself then it will come to else\")"
   ]
  },
  {
   "cell_type": "code",
   "execution_count": 7,
   "id": "1f2a0fa1",
   "metadata": {},
   "outputs": [
    {
     "data": {
      "text/plain": [
       "['name', 'email', 'phoneno', 'address']"
      ]
     },
     "execution_count": 7,
     "metadata": {},
     "output_type": "execute_result"
    }
   ],
   "source": [
    "l"
   ]
  },
  {
   "cell_type": "code",
   "execution_count": 13,
   "id": "635290b4",
   "metadata": {},
   "outputs": [
    {
     "name": "stdout",
     "output_type": "stream",
     "text": [
      "name\n",
      "email\n",
      "phoneno\n"
     ]
    }
   ],
   "source": [
    "for i in l:\n",
    "    if i == \"address\":\n",
    "        break\n",
    "    print(i)\n",
    "else:\n",
    "    print(\"check this statement\")"
   ]
  },
  {
   "cell_type": "code",
   "execution_count": 12,
   "id": "f7b72eb0",
   "metadata": {},
   "outputs": [
    {
     "name": "stdout",
     "output_type": "stream",
     "text": [
      "name\n",
      "email\n",
      "phoneno\n",
      "check this statement\n"
     ]
    }
   ],
   "source": [
    "for i in l:\n",
    "    if i == \"address\":\n",
    "        continue\n",
    "    print(i)\n",
    "else:\n",
    "    print(\"check this statement\")"
   ]
  },
  {
   "cell_type": "code",
   "execution_count": 16,
   "id": "9c8fd8b4",
   "metadata": {},
   "outputs": [
    {
     "name": "stdout",
     "output_type": "stream",
     "text": [
      "h\n",
      "a\n",
      "r\n",
      "s\n",
      "h\n",
      "i\n",
      "t\n",
      "h\n"
     ]
    }
   ],
   "source": [
    "s = \"harshithd\"\n",
    "for i in s:\n",
    "    if i == \"d\":\n",
    "        break\n",
    "    print(i)\n",
    "else:\n",
    "    print(\"dont execute is unless and untill it is not printing my name\")"
   ]
  },
  {
   "cell_type": "code",
   "execution_count": 17,
   "id": "7be3fc62",
   "metadata": {},
   "outputs": [],
   "source": [
    "#while"
   ]
  },
  {
   "cell_type": "code",
   "execution_count": 18,
   "id": "11e03d6c",
   "metadata": {},
   "outputs": [
    {
     "name": "stdout",
     "output_type": "stream",
     "text": [
      "1\n",
      "2\n",
      "3\n",
      "4\n",
      "5\n"
     ]
    }
   ],
   "source": [
    "a = 1\n",
    "while a<6:\n",
    "    print(a)\n",
    "    a = a+1"
   ]
  },
  {
   "cell_type": "code",
   "execution_count": 23,
   "id": "1d5cb4db",
   "metadata": {},
   "outputs": [
    {
     "name": "stdout",
     "output_type": "stream",
     "text": [
      "1\n",
      "2\n",
      "3\n",
      "4\n"
     ]
    }
   ],
   "source": [
    "a = 1\n",
    "while a < 5:\n",
    "    print(a)\n",
    "    if a==4:\n",
    "        break\n",
    "    a = a+1"
   ]
  },
  {
   "cell_type": "code",
   "execution_count": 27,
   "id": "b7401011",
   "metadata": {},
   "outputs": [
    {
     "name": "stdout",
     "output_type": "stream",
     "text": [
      "1\n",
      "2\n",
      "3\n",
      "4\n"
     ]
    }
   ],
   "source": [
    "a = 1\n",
    "while a <5:\n",
    "    print(a)\n",
    "    a = a+1\n",
    "    if a == 3:\n",
    "        continue"
   ]
  },
  {
   "cell_type": "code",
   "execution_count": 31,
   "id": "d47a4600",
   "metadata": {},
   "outputs": [
    {
     "ename": "KeyboardInterrupt",
     "evalue": "",
     "output_type": "error",
     "traceback": [
      "\u001b[1;31m---------------------------------------------------------------------------\u001b[0m",
      "\u001b[1;31mKeyboardInterrupt\u001b[0m                         Traceback (most recent call last)",
      "\u001b[1;32m~\\AppData\\Local\\Temp/ipykernel_24216/749551999.py\u001b[0m in \u001b[0;36m<module>\u001b[1;34m\u001b[0m\n\u001b[0;32m      1\u001b[0m \u001b[0ma\u001b[0m \u001b[1;33m=\u001b[0m \u001b[1;36m1\u001b[0m\u001b[1;33m\u001b[0m\u001b[1;33m\u001b[0m\u001b[0m\n\u001b[1;32m----> 2\u001b[1;33m \u001b[1;32mwhile\u001b[0m \u001b[0ma\u001b[0m \u001b[1;33m<\u001b[0m\u001b[1;36m5\u001b[0m\u001b[1;33m:\u001b[0m\u001b[1;33m\u001b[0m\u001b[1;33m\u001b[0m\u001b[0m\n\u001b[0m\u001b[0;32m      3\u001b[0m     \u001b[1;32mcontinue\u001b[0m\u001b[1;33m\u001b[0m\u001b[1;33m\u001b[0m\u001b[0m\n",
      "\u001b[1;31mKeyboardInterrupt\u001b[0m: "
     ]
    }
   ],
   "source": [
    "a = 1\n",
    "while a <5:\n",
    "    continue"
   ]
  },
  {
   "cell_type": "code",
   "execution_count": 32,
   "id": "879e1ba6",
   "metadata": {},
   "outputs": [
    {
     "data": {
      "text/plain": [
       "[0, 1, 2, 3, 4, 5]"
      ]
     },
     "execution_count": 32,
     "metadata": {},
     "output_type": "execute_result"
    }
   ],
   "source": [
    "list(range(6))"
   ]
  },
  {
   "cell_type": "code",
   "execution_count": 33,
   "id": "9a07b98b",
   "metadata": {},
   "outputs": [
    {
     "data": {
      "text/plain": [
       "[]"
      ]
     },
     "execution_count": 33,
     "metadata": {},
     "output_type": "execute_result"
    }
   ],
   "source": [
    "list(range(3,10,-1))"
   ]
  },
  {
   "cell_type": "code",
   "execution_count": 34,
   "id": "df7bad67",
   "metadata": {},
   "outputs": [
    {
     "data": {
      "text/plain": [
       "[3, 4, 5, 6, 7, 8, 9]"
      ]
     },
     "execution_count": 34,
     "metadata": {},
     "output_type": "execute_result"
    }
   ],
   "source": [
    "list(range(3,10))"
   ]
  },
  {
   "cell_type": "code",
   "execution_count": 35,
   "id": "94b85e20",
   "metadata": {},
   "outputs": [
    {
     "data": {
      "text/plain": [
       "[3, 5, 7, 9]"
      ]
     },
     "execution_count": 35,
     "metadata": {},
     "output_type": "execute_result"
    }
   ],
   "source": [
    "list(range(3,10,2))"
   ]
  },
  {
   "cell_type": "code",
   "execution_count": 37,
   "id": "fbcd66b1",
   "metadata": {},
   "outputs": [
    {
     "data": {
      "text/plain": [
       "[3, 2, 1, 0, -1, -2, -3, -4, -5, -6, -7, -8, -9]"
      ]
     },
     "execution_count": 37,
     "metadata": {},
     "output_type": "execute_result"
    }
   ],
   "source": [
    "list(range(3,-10,-1))"
   ]
  },
  {
   "cell_type": "code",
   "execution_count": 38,
   "id": "6021d60d",
   "metadata": {},
   "outputs": [
    {
     "data": {
      "text/plain": [
       "[10, 9, 8, 7]"
      ]
     },
     "execution_count": 38,
     "metadata": {},
     "output_type": "execute_result"
    }
   ],
   "source": [
    "list(range(10,6,-1))"
   ]
  },
  {
   "cell_type": "code",
   "execution_count": 39,
   "id": "702e2206",
   "metadata": {},
   "outputs": [
    {
     "name": "stdout",
     "output_type": "stream",
     "text": [
      "0\n",
      "1\n",
      "2\n",
      "3\n",
      "4\n",
      "5\n",
      "6\n"
     ]
    }
   ],
   "source": [
    "for i in range(7):\n",
    "    print(i)"
   ]
  },
  {
   "cell_type": "code",
   "execution_count": 41,
   "id": "67e8b66c",
   "metadata": {},
   "outputs": [
    {
     "name": "stdout",
     "output_type": "stream",
     "text": [
      "* \r\n",
      "* * \r\n",
      "* * * \r\n",
      "* * * * \r\n",
      "* * * * * \r\n"
     ]
    }
   ],
   "source": [
    "n=5\n",
    "for i in range(0,n):\n",
    "    for j in range(0,i+1):\n",
    "        print(\"* \" , end=\"\")\n",
    "    print(\"\\r\")"
   ]
  },
  {
   "cell_type": "code",
   "execution_count": 42,
   "id": "65fad670",
   "metadata": {},
   "outputs": [],
   "source": [
    "t = (3,4,4,5,6,7,7)"
   ]
  },
  {
   "cell_type": "code",
   "execution_count": 53,
   "id": "94eebea8",
   "metadata": {},
   "outputs": [
    {
     "name": "stdout",
     "output_type": "stream",
     "text": [
      "7\n",
      "7\n",
      "6\n",
      "5\n",
      "4\n",
      "4\n",
      "3\n"
     ]
    }
   ],
   "source": [
    "for i in range(len(t)-1,-1,-1):\n",
    "    print(t[i])"
   ]
  },
  {
   "cell_type": "code",
   "execution_count": 54,
   "id": "a3f2aa2c",
   "metadata": {},
   "outputs": [],
   "source": [
    "d = {\"a\":\"asdfg\", \"b\":\"harshi\", \"c\":[1,2,3,4,5], \"d\":(6,7,8), \"e\":\"abcd\"}"
   ]
  },
  {
   "cell_type": "code",
   "execution_count": 56,
   "id": "9c93dd97",
   "metadata": {},
   "outputs": [
    {
     "data": {
      "text/plain": [
       "(6, 7, 8)"
      ]
     },
     "execution_count": 56,
     "metadata": {},
     "output_type": "execute_result"
    }
   ],
   "source": [
    "d[\"d\"]"
   ]
  },
  {
   "cell_type": "code",
   "execution_count": 57,
   "id": "71729d5d",
   "metadata": {},
   "outputs": [
    {
     "name": "stdout",
     "output_type": "stream",
     "text": [
      "a asdfg\n",
      "b harshi\n",
      "c [1, 2, 3, 4, 5]\n",
      "d (6, 7, 8)\n",
      "e abcd\n"
     ]
    }
   ],
   "source": [
    "for i in d:\n",
    "    print(i,d[i])"
   ]
  },
  {
   "cell_type": "code",
   "execution_count": 59,
   "id": "bc8737b2",
   "metadata": {},
   "outputs": [
    {
     "name": "stdout",
     "output_type": "stream",
     "text": [
      "('a', 'asdfg')\n",
      "('b', 'harshi')\n",
      "('c', [1, 2, 3, 4, 5])\n",
      "('d', (6, 7, 8))\n",
      "('e', 'abcd')\n"
     ]
    }
   ],
   "source": [
    "for i in d.items():\n",
    "    print(i)"
   ]
  },
  {
   "cell_type": "code",
   "execution_count": 60,
   "id": "653ddeaf",
   "metadata": {},
   "outputs": [],
   "source": [
    "s = {3,546,76,3,4,3,4,36,89,12,12,56,85,12}"
   ]
  },
  {
   "cell_type": "code",
   "execution_count": 61,
   "id": "16076fe4",
   "metadata": {},
   "outputs": [
    {
     "data": {
      "text/plain": [
       "{3, 4, 12, 36, 56, 76, 85, 89, 546}"
      ]
     },
     "execution_count": 61,
     "metadata": {},
     "output_type": "execute_result"
    }
   ],
   "source": [
    "s"
   ]
  },
  {
   "cell_type": "code",
   "execution_count": 62,
   "id": "673dd23c",
   "metadata": {},
   "outputs": [
    {
     "name": "stdout",
     "output_type": "stream",
     "text": [
      "546\n",
      "3\n",
      "4\n",
      "36\n",
      "76\n",
      "12\n",
      "85\n",
      "56\n",
      "89\n"
     ]
    }
   ],
   "source": [
    "for i in s:\n",
    "    print(i)"
   ]
  },
  {
   "cell_type": "code",
   "execution_count": null,
   "id": "30615607",
   "metadata": {},
   "outputs": [],
   "source": []
  }
 ],
 "metadata": {
  "kernelspec": {
   "display_name": "Python 3 (ipykernel)",
   "language": "python",
   "name": "python3"
  },
  "language_info": {
   "codemirror_mode": {
    "name": "ipython",
    "version": 3
   },
   "file_extension": ".py",
   "mimetype": "text/x-python",
   "name": "python",
   "nbconvert_exporter": "python",
   "pygments_lexer": "ipython3",
   "version": "3.9.7"
  }
 },
 "nbformat": 4,
 "nbformat_minor": 5
}
