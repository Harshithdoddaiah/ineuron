{
 "cells": [
  {
   "cell_type": "code",
   "execution_count": 6,
   "id": "402c7e86",
   "metadata": {},
   "outputs": [
    {
     "name": "stdout",
     "output_type": "stream",
     "text": [
      "20\n"
     ]
    }
   ],
   "source": [
    "s = \"this is basic string\"\n",
    "count = 0\n",
    "for i in s:\n",
    "    count+=1\n",
    "print(count)"
   ]
  },
  {
   "cell_type": "code",
   "execution_count": 7,
   "id": "47447ac6",
   "metadata": {},
   "outputs": [
    {
     "data": {
      "text/plain": [
       "'gnirts cisab si siht'"
      ]
     },
     "execution_count": 7,
     "metadata": {},
     "output_type": "execute_result"
    }
   ],
   "source": [
    "s = \"this is basic string\"\n",
    "s[::-1]"
   ]
  },
  {
   "cell_type": "code",
   "execution_count": 10,
   "id": "8d39296b",
   "metadata": {},
   "outputs": [
    {
     "name": "stdout",
     "output_type": "stream",
     "text": [
      "gnirts cisab si siht"
     ]
    }
   ],
   "source": [
    "s = \"this is basic string\"\n",
    "for i in range(len(s)-1,-1,-1):\n",
    "    print(s[i], end=\"\")"
   ]
  },
  {
   "cell_type": "code",
   "execution_count": 11,
   "id": "97947094",
   "metadata": {},
   "outputs": [
    {
     "name": "stdout",
     "output_type": "stream",
     "text": [
      "gnirts cisab si siht"
     ]
    }
   ],
   "source": [
    "s = \"this is basic string\"\n",
    "i = len(s)-1\n",
    "while (i>=0):\n",
    "    print(s[i], end=\"\")\n",
    "    i = i-1"
   ]
  },
  {
   "cell_type": "code",
   "execution_count": 15,
   "id": "b627f52f",
   "metadata": {},
   "outputs": [
    {
     "name": "stdout",
     "output_type": "stream",
     "text": [
      "Vowel i\n",
      "Not Vowel n\n",
      "Vowel u\n",
      "Vowel e\n",
      "Not Vowel r\n",
      "Vowel o\n",
      "Not Vowel n\n"
     ]
    }
   ],
   "source": [
    "s = \"inueron\"\n",
    "v = \"AaEeIiOoUu\"\n",
    "for i in s:\n",
    "    if i in v:\n",
    "        print(\"Vowel\",i)\n",
    "    else:\n",
    "        print(\"Not Vowel\",i)"
   ]
  },
  {
   "cell_type": "code",
   "execution_count": 18,
   "id": "cc1d1433",
   "metadata": {},
   "outputs": [
    {
     "name": "stdout",
     "output_type": "stream",
     "text": [
      "eye\n",
      "Palindrome\n"
     ]
    }
   ],
   "source": [
    "s = input()\n",
    "v = s[::-1]\n",
    "if s==v:\n",
    "    print(\"Palindrome\")\n",
    "else:\n",
    "    print(\"Not Palindrome\")"
   ]
  },
  {
   "cell_type": "code",
   "execution_count": 22,
   "id": "484317d4",
   "metadata": {},
   "outputs": [
    {
     "name": "stdout",
     "output_type": "stream",
     "text": [
      "eye\n",
      "Palindrome\n"
     ]
    }
   ],
   "source": [
    "s = input()\n",
    "l = len(s)\n",
    "k=0\n",
    "for i in range(l):\n",
    "    if s[i] == s[l-i-1]:\n",
    "        continue\n",
    "    else:\n",
    "        print(\"Not Palindrome\")\n",
    "        k=1\n",
    "        break\n",
    "if k==0:\n",
    "    print(\"Palindrome\")\n",
    "    "
   ]
  },
  {
   "cell_type": "code",
   "execution_count": 25,
   "id": "5f5a178d",
   "metadata": {},
   "outputs": [],
   "source": [
    "d = {\"india\":\"IN\", \"Canada\":\"CA\", \"Chaina\":\"CH\", \"United State\":\"US\"}"
   ]
  },
  {
   "cell_type": "code",
   "execution_count": 24,
   "id": "96153843",
   "metadata": {},
   "outputs": [
    {
     "data": {
      "text/plain": [
       "dict_items([('india', 'IN'), ('Canada', 'CA'), ('Chaina', 'CH'), ('United State', 'US')])"
      ]
     },
     "execution_count": 24,
     "metadata": {},
     "output_type": "execute_result"
    }
   ],
   "source": [
    "d.items()"
   ]
  },
  {
   "cell_type": "code",
   "execution_count": 31,
   "id": "fd37190e",
   "metadata": {},
   "outputs": [],
   "source": [
    "l1=[]\n",
    "l2=[]\n",
    "for i in d:\n",
    "    if len(i) <=5:\n",
    "        l1.append(i)\n",
    "    else:\n",
    "        l2.append(i)"
   ]
  },
  {
   "cell_type": "code",
   "execution_count": 32,
   "id": "65bb1890",
   "metadata": {},
   "outputs": [
    {
     "data": {
      "text/plain": [
       "['india']"
      ]
     },
     "execution_count": 32,
     "metadata": {},
     "output_type": "execute_result"
    }
   ],
   "source": [
    "l1"
   ]
  },
  {
   "cell_type": "code",
   "execution_count": 33,
   "id": "8423dac8",
   "metadata": {},
   "outputs": [
    {
     "data": {
      "text/plain": [
       "['Canada', 'Chaina', 'United State']"
      ]
     },
     "execution_count": 33,
     "metadata": {},
     "output_type": "execute_result"
    }
   ],
   "source": [
    "l2"
   ]
  },
  {
   "cell_type": "code",
   "execution_count": 34,
   "id": "3eb2dad3",
   "metadata": {},
   "outputs": [],
   "source": [
    "d_1 = {\"inueron\":{\n",
    "    \"a\":14, \"b\":10, \"C\":4\n",
    "},\n",
    "   \"course\": {\n",
    "           \"d\":45, \"e\":34, \"f\":1\n",
    "       }\n",
    "}"
   ]
  },
  {
   "cell_type": "code",
   "execution_count": 51,
   "id": "157a614b",
   "metadata": {},
   "outputs": [
    {
     "name": "stdout",
     "output_type": "stream",
     "text": [
      "14\n",
      "45\n"
     ]
    }
   ],
   "source": [
    "l1=[]\n",
    "for i in d_1.values():\n",
    "    for j in i.values():\n",
    "        l1.append(j)\n",
    "    print(max(l1))"
   ]
  },
  {
   "cell_type": "code",
   "execution_count": 53,
   "id": "0d4d6a2f",
   "metadata": {},
   "outputs": [
    {
     "name": "stdout",
     "output_type": "stream",
     "text": [
      "14\n",
      "45\n"
     ]
    }
   ],
   "source": [
    "for i in d_1.values():\n",
    "    print(max(i.values()))"
   ]
  },
  {
   "cell_type": "code",
   "execution_count": 54,
   "id": "389db22c",
   "metadata": {},
   "outputs": [
    {
     "data": {
      "text/plain": [
       "{'inueron': {'a': 14, 'b': 10, 'C': 4}, 'course': {'d': 45, 'e': 34, 'f': 1}}"
      ]
     },
     "execution_count": 54,
     "metadata": {},
     "output_type": "execute_result"
    }
   ],
   "source": [
    "d_1"
   ]
  },
  {
   "cell_type": "code",
   "execution_count": null,
   "id": "efedfc6c",
   "metadata": {},
   "outputs": [],
   "source": []
  }
 ],
 "metadata": {
  "kernelspec": {
   "display_name": "Python 3 (ipykernel)",
   "language": "python",
   "name": "python3"
  },
  "language_info": {
   "codemirror_mode": {
    "name": "ipython",
    "version": 3
   },
   "file_extension": ".py",
   "mimetype": "text/x-python",
   "name": "python",
   "nbconvert_exporter": "python",
   "pygments_lexer": "ipython3",
   "version": "3.9.7"
  }
 },
 "nbformat": 4,
 "nbformat_minor": 5
}
