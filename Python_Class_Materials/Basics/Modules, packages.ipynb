{
 "cells": [
  {
   "cell_type": "code",
   "execution_count": 2,
   "id": "17e8b491",
   "metadata": {},
   "outputs": [],
   "source": [
    "import os"
   ]
  },
  {
   "cell_type": "code",
   "execution_count": 3,
   "id": "ff81ba47",
   "metadata": {},
   "outputs": [],
   "source": [
    "def test(a,b):\n",
    "    return a+b"
   ]
  },
  {
   "cell_type": "code",
   "execution_count": 6,
   "id": "1db7ab27",
   "metadata": {},
   "outputs": [
    {
     "data": {
      "text/plain": [
       "9"
      ]
     },
     "execution_count": 6,
     "metadata": {},
     "output_type": "execute_result"
    }
   ],
   "source": [
    "test(4,5)"
   ]
  },
  {
   "cell_type": "code",
   "execution_count": 7,
   "id": "8bee3d17",
   "metadata": {},
   "outputs": [
    {
     "data": {
      "text/plain": [
       "'C:\\\\Users\\\\Harshith D'"
      ]
     },
     "execution_count": 7,
     "metadata": {},
     "output_type": "execute_result"
    }
   ],
   "source": [
    "pwd()"
   ]
  },
  {
   "cell_type": "code",
   "execution_count": 14,
   "id": "a409d5e9",
   "metadata": {},
   "outputs": [
    {
     "name": "stdout",
     "output_type": "stream",
     "text": [
      " Volume in drive C is OS\n",
      " Volume Serial Number is 8450-1D05\n",
      "\n",
      " Directory of C:\\Users\\Harshith D\n",
      "\n",
      "29-01-2022  12:19 PM    <DIR>          .\n",
      "29-01-2022  12:19 PM    <DIR>          ..\n",
      "05-09-2018  09:22 PM    <DIR>          .android\n",
      "05-04-2018  06:43 PM    <DIR>          .AndroidStudio3.0\n",
      "11-05-2018  02:35 AM    <DIR>          .AndroidStudio3.1\n",
      "26-12-2020  08:13 AM                57 .angular-config.json\n",
      "14-04-2021  09:49 AM    <DIR>          .atom\n",
      "16-03-2021  12:09 PM             2,267 .bash_history\n",
      "09-12-2021  06:59 PM    <DIR>          .conda\n",
      "09-12-2021  12:50 PM                25 .condarc\n",
      "29-07-2020  07:13 PM    <DIR>          .config\n",
      "09-12-2021  12:49 PM    <DIR>          .continuum\n",
      "24-09-2020  07:33 AM             1,127 .dbshell\n",
      "06-08-2019  01:22 PM    <DIR>          .eclipse\n",
      "29-07-2020  07:46 PM               174 .gitconfig\n",
      "05-09-2018  08:18 PM    <DIR>          .gradle\n",
      "22-02-2019  06:26 PM    <DIR>          .idlerc\n",
      "29-01-2022  11:51 AM    <DIR>          .ipynb_checkpoints\n",
      "09-12-2021  01:31 PM    <DIR>          .ipython\n",
      "05-01-2022  08:33 AM    <DIR>          .jupyter\n",
      "20-07-2019  09:37 AM    <DIR>          .m2\n",
      "25-07-2020  08:48 AM                 0 .mongorc.js\n",
      "03-08-2020  10:14 AM                47 .node_repl_history\n",
      "27-06-2021  10:27 PM    <DIR>          .p2\n",
      "09-01-2022  11:08 AM    <DIR>          .spyder-py3\n",
      "02-08-2020  08:42 AM    <DIR>          .ssh\n",
      "03-07-2021  09:51 PM    <DIR>          .tcssbws\n",
      "20-07-2019  08:01 AM    <DIR>          .tooling\n",
      "26-06-2020  08:36 AM    <DIR>          .vscode\n",
      "17-11-2018  09:11 PM    <DIR>          .wdc\n",
      "29-07-2020  07:48 PM               214 _netrc\n",
      "29-01-2021  08:14 AM    <DIR>          3D Objects\n",
      "16-03-2021  11:54 AM                20 abc\n",
      "23-06-2021  07:11 AM    <DIR>          AndroidStudioProjects\n",
      "08-01-2022  08:39 AM    <DIR>          Assignment\n",
      "19-08-2021  07:41 AM               151 BullseyeCoverageError.txt\n",
      "16-12-2021  10:48 AM             1,337 calendar.ipynb\n",
      "29-01-2021  08:14 AM    <DIR>          Contacts\n",
      "09-12-2021  12:50 PM    <DIR>          D\n",
      "10-12-2021  11:56 AM            12,878 Day 1.ipynb\n",
      "11-12-2021  09:34 AM            28,606 Day2.ipynb\n",
      "21-01-2022  07:11 AM    <DIR>          Desktop\n",
      "29-08-2021  03:54 PM    <DIR>          Documents\n",
      "29-01-2022  12:10 PM    <DIR>          Downloads\n",
      "21-04-2020  08:02 AM    <DIR>          eclipse\n",
      "16-02-2021  03:27 PM    <DIR>          eclipse-workspace\n",
      "28-01-2022  09:01 PM            16,103 exception handling.ipynb\n",
      "29-01-2021  08:14 AM    <DIR>          Favorites\n",
      "16-01-2022  09:52 AM            17,536 function.ipynb\n",
      "26-01-2022  12:35 PM            25,306 function2.ipynb\n",
      "06-08-2019  01:11 PM    <DIR>          git\n",
      "30-09-2018  11:48 AM    <DIR>          IdeaProjects\n",
      "08-01-2022  11:44 AM            24,316 if, for-else,while.ipynb\n",
      "28-01-2022  08:28 AM           214,133 iterable,iterator,generator,filesystem.ipynb\n",
      "29-01-2021  08:14 AM    <DIR>          Links\n",
      "28-01-2022  10:15 PM             5,090 logging.ipynb\n",
      "29-01-2021  08:14 AM    <DIR>          Music\n",
      "11-08-2021  07:37 PM    <DIR>          OneDrive\n",
      "23-01-2022  07:16 PM    <DIR>          Pictures\n",
      "26-12-2021  10:19 AM                15 pillamma.txt\n",
      "21-07-2020  07:04 AM    <DIR>          Postman\n",
      "08-01-2022  02:42 PM             6,645 reverse, palindrome.ipynb\n",
      "29-01-2021  08:14 AM    <DIR>          Saved Games\n",
      "29-01-2021  08:14 AM    <DIR>          Searches\n",
      "16-01-2022  01:05 PM             7,542 Task.ipynb\n",
      "28-01-2022  09:26 PM               591 teat.log\n",
      "29-01-2022  12:19 PM                30 test.py\n",
      "29-01-2022  12:05 PM                 0 test.py.bak\n",
      "28-01-2022  09:20 AM                 4 test.txt\n",
      "29-01-2022  12:15 PM                 0 test1.py\n",
      "28-01-2022  07:14 PM                22 test1.txt\n",
      "28-01-2022  10:02 PM             3,970 test2.log\n",
      "27-01-2022  10:01 PM                25 test2.txt\n",
      "28-01-2022  10:15 PM               621 test3.log\n",
      "28-01-2022  07:27 PM                 0 test4.txt\n",
      "18-12-2021  01:02 PM            16,544 Tuple,set,dict.ipynb\n",
      "08-01-2022  08:43 AM    <DIR>          Untitled Folder\n",
      "29-01-2022  12:13 PM             6,835 Untitled.ipynb\n",
      "29-01-2022  11:54 AM               588 Untitled1.ipynb\n",
      "29-01-2021  08:14 AM    <DIR>          Videos\n",
      "              35 File(s)        392,819 bytes\n",
      "              45 Dir(s)  304,423,493,632 bytes free\n"
     ]
    }
   ],
   "source": [
    "%ls"
   ]
  },
  {
   "cell_type": "code",
   "execution_count": 12,
   "id": "774a7808",
   "metadata": {},
   "outputs": [
    {
     "data": {
      "text/plain": [
       "<_io.TextIOWrapper name='test1.py' mode='w' encoding='cp1252'>"
      ]
     },
     "execution_count": 12,
     "metadata": {},
     "output_type": "execute_result"
    }
   ],
   "source": [
    "open(\"test1.py\",\"w\")"
   ]
  },
  {
   "cell_type": "code",
   "execution_count": 3,
   "id": "5a2350be",
   "metadata": {},
   "outputs": [],
   "source": [
    "import test"
   ]
  },
  {
   "cell_type": "code",
   "execution_count": 4,
   "id": "d38bfaa4",
   "metadata": {},
   "outputs": [
    {
     "data": {
      "text/plain": [
       "9"
      ]
     },
     "execution_count": 4,
     "metadata": {},
     "output_type": "execute_result"
    }
   ],
   "source": [
    "test.test(4,5)"
   ]
  },
  {
   "cell_type": "code",
   "execution_count": 5,
   "id": "05d834b3",
   "metadata": {},
   "outputs": [
    {
     "name": "stdout",
     "output_type": "stream",
     "text": [
      "this is my code written in module test\n"
     ]
    }
   ],
   "source": [
    "test.test3()"
   ]
  },
  {
   "cell_type": "code",
   "execution_count": 7,
   "id": "898289d4",
   "metadata": {},
   "outputs": [
    {
     "data": {
      "text/plain": [
       "2"
      ]
     },
     "execution_count": 7,
     "metadata": {},
     "output_type": "execute_result"
    }
   ],
   "source": [
    "test.test1(1,2)"
   ]
  },
  {
   "cell_type": "code",
   "execution_count": 8,
   "id": "596a2c78",
   "metadata": {},
   "outputs": [
    {
     "data": {
      "text/plain": [
       "0.5"
      ]
     },
     "execution_count": 8,
     "metadata": {},
     "output_type": "execute_result"
    }
   ],
   "source": [
    "test.test2(2,4)"
   ]
  },
  {
   "cell_type": "code",
   "execution_count": 10,
   "id": "b1d2e21f",
   "metadata": {},
   "outputs": [],
   "source": [
    "from test import test3"
   ]
  },
  {
   "cell_type": "code",
   "execution_count": 11,
   "id": "39a0b049",
   "metadata": {},
   "outputs": [
    {
     "name": "stdout",
     "output_type": "stream",
     "text": [
      "this is my code written in module test\n"
     ]
    }
   ],
   "source": [
    "test3()"
   ]
  },
  {
   "cell_type": "code",
   "execution_count": 1,
   "id": "48778659",
   "metadata": {},
   "outputs": [],
   "source": [
    "from test import *"
   ]
  },
  {
   "cell_type": "code",
   "execution_count": 2,
   "id": "1571063f",
   "metadata": {
    "scrolled": true
   },
   "outputs": [
    {
     "data": {
      "text/plain": [
       "20"
      ]
     },
     "execution_count": 2,
     "metadata": {},
     "output_type": "execute_result"
    }
   ],
   "source": [
    "test1(4,5)"
   ]
  },
  {
   "cell_type": "code",
   "execution_count": 4,
   "id": "d9c79284",
   "metadata": {},
   "outputs": [],
   "source": [
    "l=[1,2,3,4,5,6]"
   ]
  },
  {
   "cell_type": "code",
   "execution_count": 5,
   "id": "e904692f",
   "metadata": {},
   "outputs": [
    {
     "data": {
      "text/plain": [
       "6"
      ]
     },
     "execution_count": 5,
     "metadata": {},
     "output_type": "execute_result"
    }
   ],
   "source": [
    "len(l)"
   ]
  },
  {
   "cell_type": "code",
   "execution_count": 6,
   "id": "620b7ac0",
   "metadata": {},
   "outputs": [
    {
     "data": {
      "text/plain": [
       "['In',\n",
       " 'Out',\n",
       " '_',\n",
       " '_2',\n",
       " '_5',\n",
       " '__',\n",
       " '___',\n",
       " '__builtin__',\n",
       " '__builtins__',\n",
       " '__doc__',\n",
       " '__loader__',\n",
       " '__name__',\n",
       " '__package__',\n",
       " '__spec__',\n",
       " '_dh',\n",
       " '_i',\n",
       " '_i1',\n",
       " '_i2',\n",
       " '_i3',\n",
       " '_i4',\n",
       " '_i5',\n",
       " '_i6',\n",
       " '_ih',\n",
       " '_ii',\n",
       " '_iii',\n",
       " '_oh',\n",
       " 'exit',\n",
       " 'get_ipython',\n",
       " 'l',\n",
       " 'quit',\n",
       " 'test',\n",
       " 'test1',\n",
       " 'test2',\n",
       " 'test3']"
      ]
     },
     "execution_count": 6,
     "metadata": {},
     "output_type": "execute_result"
    }
   ],
   "source": [
    "dir()"
   ]
  },
  {
   "cell_type": "code",
   "execution_count": 7,
   "id": "c99e18a5",
   "metadata": {},
   "outputs": [
    {
     "data": {
      "text/plain": [
       "<_io.TextIOWrapper name='mymodule.py' mode='w' encoding='cp1252'>"
      ]
     },
     "execution_count": 7,
     "metadata": {},
     "output_type": "execute_result"
    }
   ],
   "source": [
    "open(\"mymodule.py\",\"w\")"
   ]
  },
  {
   "cell_type": "code",
   "execution_count": 1,
   "id": "ecd62313",
   "metadata": {},
   "outputs": [],
   "source": [
    "import mymodule"
   ]
  },
  {
   "cell_type": "code",
   "execution_count": 2,
   "id": "84dd49a6",
   "metadata": {},
   "outputs": [
    {
     "data": {
      "text/plain": [
       "['data science', 'blockchain', 'drone', 'robotics', 'cloud']"
      ]
     },
     "execution_count": 2,
     "metadata": {},
     "output_type": "execute_result"
    }
   ],
   "source": [
    "mymodule.get_course()"
   ]
  },
  {
   "cell_type": "code",
   "execution_count": 3,
   "id": "72d34929",
   "metadata": {},
   "outputs": [
    {
     "data": {
      "text/plain": [
       "'greeting from ineuron'"
      ]
     },
     "execution_count": 3,
     "metadata": {},
     "output_type": "execute_result"
    }
   ],
   "source": [
    "mymodule.greeting()"
   ]
  },
  {
   "cell_type": "code",
   "execution_count": 4,
   "id": "18eecc7b",
   "metadata": {},
   "outputs": [],
   "source": [
    "#module is one single file\n",
    "#package is the collection of module"
   ]
  },
  {
   "cell_type": "code",
   "execution_count": 1,
   "id": "2183dd24",
   "metadata": {},
   "outputs": [
    {
     "name": "stdout",
     "output_type": "stream",
     "text": [
      " Volume in drive C is OS\n",
      " Volume Serial Number is 8450-1D05\n",
      "\n",
      " Directory of C:\\Users\\Harshith D\n",
      "\n",
      "30-01-2022  10:06 AM    <DIR>          .\n",
      "30-01-2022  10:06 AM    <DIR>          ..\n",
      "05-09-2018  09:22 PM    <DIR>          .android\n",
      "05-04-2018  06:43 PM    <DIR>          .AndroidStudio3.0\n",
      "11-05-2018  02:35 AM    <DIR>          .AndroidStudio3.1\n",
      "26-12-2020  08:13 AM                57 .angular-config.json\n",
      "30-01-2022  10:01 AM    <DIR>          .astropy\n",
      "14-04-2021  09:49 AM    <DIR>          .atom\n",
      "16-03-2021  12:09 PM             2,267 .bash_history\n",
      "09-12-2021  06:59 PM    <DIR>          .conda\n",
      "09-12-2021  12:50 PM                25 .condarc\n",
      "29-07-2020  07:13 PM    <DIR>          .config\n",
      "09-12-2021  12:49 PM    <DIR>          .continuum\n",
      "24-09-2020  07:33 AM             1,127 .dbshell\n",
      "06-08-2019  01:22 PM    <DIR>          .eclipse\n",
      "29-07-2020  07:46 PM               174 .gitconfig\n",
      "05-09-2018  08:18 PM    <DIR>          .gradle\n",
      "22-02-2019  06:26 PM    <DIR>          .idlerc\n",
      "29-01-2022  01:34 PM    <DIR>          .ipynb_checkpoints\n",
      "09-12-2021  01:31 PM    <DIR>          .ipython\n",
      "05-01-2022  08:33 AM    <DIR>          .jupyter\n",
      "20-07-2019  09:37 AM    <DIR>          .m2\n",
      "30-01-2022  10:06 AM    <DIR>          .matplotlib\n",
      "25-07-2020  08:48 AM                 0 .mongorc.js\n",
      "03-08-2020  10:14 AM                47 .node_repl_history\n",
      "27-06-2021  10:27 PM    <DIR>          .p2\n",
      "09-01-2022  11:08 AM    <DIR>          .spyder-py3\n",
      "02-08-2020  08:42 AM    <DIR>          .ssh\n",
      "03-07-2021  09:51 PM    <DIR>          .tcssbws\n",
      "20-07-2019  08:01 AM    <DIR>          .tooling\n",
      "26-06-2020  08:36 AM    <DIR>          .vscode\n",
      "17-11-2018  09:11 PM    <DIR>          .wdc\n",
      "29-01-2022  01:18 PM    <DIR>          __pycache__\n",
      "29-07-2020  07:48 PM               214 _netrc\n",
      "29-01-2021  08:14 AM    <DIR>          3D Objects\n",
      "16-03-2021  11:54 AM                20 abc\n",
      "23-06-2021  07:11 AM    <DIR>          AndroidStudioProjects\n",
      "08-01-2022  08:39 AM    <DIR>          Assignment\n",
      "19-08-2021  07:41 AM               151 BullseyeCoverageError.txt\n",
      "16-12-2021  10:48 AM             1,337 calendar.ipynb\n",
      "29-01-2021  08:14 AM    <DIR>          Contacts\n",
      "09-12-2021  12:50 PM    <DIR>          D\n",
      "10-12-2021  11:56 AM            12,878 Day 1.ipynb\n",
      "11-12-2021  09:34 AM            28,606 Day2.ipynb\n",
      "21-01-2022  07:11 AM    <DIR>          Desktop\n",
      "29-08-2021  03:54 PM    <DIR>          Documents\n",
      "30-01-2022  09:19 AM    <DIR>          Downloads\n",
      "21-04-2020  08:02 AM    <DIR>          eclipse\n",
      "16-02-2021  03:27 PM    <DIR>          eclipse-workspace\n",
      "28-01-2022  09:01 PM            16,103 exception handling.ipynb\n",
      "29-01-2021  08:14 AM    <DIR>          Favorites\n",
      "16-01-2022  09:52 AM            17,536 function.ipynb\n",
      "26-01-2022  12:35 PM            25,306 function2.ipynb\n",
      "06-08-2019  01:11 PM    <DIR>          git\n",
      "30-09-2018  11:48 AM    <DIR>          IdeaProjects\n",
      "08-01-2022  11:44 AM            24,316 if, for-else,while.ipynb\n",
      "28-01-2022  08:28 AM           214,133 iterable,iterator,generator,filesystem.ipynb\n",
      "29-01-2021  08:14 AM    <DIR>          Links\n",
      "28-01-2022  10:15 PM             5,090 logging.ipynb\n",
      "29-01-2022  01:45 PM            12,805 Modules, packages.ipynb\n",
      "29-01-2021  08:14 AM    <DIR>          Music\n",
      "29-01-2022  01:18 PM               228 mymodule.py\n",
      "29-01-2022  01:12 PM                 0 mymodule.py.bak\n",
      "29-01-2022  01:28 PM    <DIR>          myproject\n",
      "11-08-2021  07:37 PM    <DIR>          OneDrive\n",
      "23-01-2022  07:16 PM    <DIR>          Pictures\n",
      "26-12-2021  10:19 AM                15 pillamma.txt\n",
      "21-07-2020  07:04 AM    <DIR>          Postman\n",
      "30-01-2022  10:30 AM    <DIR>          PycharmProjects\n",
      "08-01-2022  02:42 PM             6,645 reverse, palindrome.ipynb\n",
      "29-01-2021  08:14 AM    <DIR>          Saved Games\n",
      "29-01-2021  08:14 AM    <DIR>          Searches\n",
      "16-01-2022  01:05 PM             7,542 Task.ipynb\n",
      "28-01-2022  09:26 PM               591 teat.log\n",
      "29-01-2022  12:54 PM               249 test.py\n",
      "29-01-2022  12:30 PM               187 test.py.bak\n",
      "28-01-2022  09:20 AM                 4 test.txt\n",
      "29-01-2022  12:15 PM                 0 test1.py\n",
      "28-01-2022  07:14 PM                22 test1.txt\n",
      "28-01-2022  10:02 PM             3,970 test2.log\n",
      "27-01-2022  10:01 PM                25 test2.txt\n",
      "28-01-2022  10:15 PM               621 test3.log\n",
      "28-01-2022  07:27 PM                 0 test4.txt\n",
      "18-12-2021  01:02 PM            16,544 Tuple,set,dict.ipynb\n",
      "08-01-2022  08:43 AM    <DIR>          Untitled Folder\n",
      "29-01-2022  12:27 PM             1,064 Untitled1.ipynb\n",
      "29-01-2021  08:14 AM    <DIR>          Videos\n",
      "              37 File(s)        399,899 bytes\n",
      "              50 Dir(s)  298,460,356,608 bytes free\n"
     ]
    }
   ],
   "source": [
    "%ls"
   ]
  },
  {
   "cell_type": "code",
   "execution_count": 2,
   "id": "02eb0069",
   "metadata": {},
   "outputs": [],
   "source": [
    "import os"
   ]
  },
  {
   "cell_type": "code",
   "execution_count": 3,
   "id": "6502bbc5",
   "metadata": {},
   "outputs": [
    {
     "data": {
      "text/plain": [
       "'C:\\\\Users\\\\Harshith D'"
      ]
     },
     "execution_count": 3,
     "metadata": {},
     "output_type": "execute_result"
    }
   ],
   "source": [
    "os.getcwd()"
   ]
  },
  {
   "cell_type": "code",
   "execution_count": null,
   "id": "1633dc99",
   "metadata": {},
   "outputs": [],
   "source": [
    "logging,package and module exception handeling"
   ]
  }
 ],
 "metadata": {
  "kernelspec": {
   "display_name": "Python 3 (ipykernel)",
   "language": "python",
   "name": "python3"
  },
  "language_info": {
   "codemirror_mode": {
    "name": "ipython",
    "version": 3
   },
   "file_extension": ".py",
   "mimetype": "text/x-python",
   "name": "python",
   "nbconvert_exporter": "python",
   "pygments_lexer": "ipython3",
   "version": "3.9.7"
  }
 },
 "nbformat": 4,
 "nbformat_minor": 5
}
