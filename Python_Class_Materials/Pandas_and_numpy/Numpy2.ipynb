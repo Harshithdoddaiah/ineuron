{
 "cells": [
  {
   "cell_type": "code",
   "execution_count": 1,
   "id": "1b996e92",
   "metadata": {},
   "outputs": [],
   "source": [
    "import numpy as np"
   ]
  },
  {
   "cell_type": "code",
   "execution_count": 2,
   "id": "dc0abb9a",
   "metadata": {},
   "outputs": [],
   "source": [
    "l = [1,2,3,4,5]"
   ]
  },
  {
   "cell_type": "code",
   "execution_count": 3,
   "id": "5a77faab",
   "metadata": {},
   "outputs": [
    {
     "data": {
      "text/plain": [
       "array([1, 2, 3, 4, 5])"
      ]
     },
     "execution_count": 3,
     "metadata": {},
     "output_type": "execute_result"
    }
   ],
   "source": [
    "np.asarray(l)"
   ]
  },
  {
   "cell_type": "code",
   "execution_count": 4,
   "id": "6acbd15a",
   "metadata": {},
   "outputs": [
    {
     "data": {
      "text/plain": [
       "array([0., 0., 0., 0., 0.])"
      ]
     },
     "execution_count": 4,
     "metadata": {},
     "output_type": "execute_result"
    }
   ],
   "source": [
    "np.zeros(5)"
   ]
  },
  {
   "cell_type": "code",
   "execution_count": 5,
   "id": "08a084b3",
   "metadata": {},
   "outputs": [
    {
     "data": {
      "text/plain": [
       "array([[0., 0., 0., 0.],\n",
       "       [0., 0., 0., 0.],\n",
       "       [0., 0., 0., 0.],\n",
       "       [0., 0., 0., 0.],\n",
       "       [0., 0., 0., 0.]])"
      ]
     },
     "execution_count": 5,
     "metadata": {},
     "output_type": "execute_result"
    }
   ],
   "source": [
    "np.zeros((5,4))"
   ]
  },
  {
   "cell_type": "code",
   "execution_count": 6,
   "id": "722a41a9",
   "metadata": {},
   "outputs": [
    {
     "data": {
      "text/plain": [
       "array([[[0., 0., 0., 0., 0.],\n",
       "        [0., 0., 0., 0., 0.],\n",
       "        [0., 0., 0., 0., 0.],\n",
       "        [0., 0., 0., 0., 0.]],\n",
       "\n",
       "       [[0., 0., 0., 0., 0.],\n",
       "        [0., 0., 0., 0., 0.],\n",
       "        [0., 0., 0., 0., 0.],\n",
       "        [0., 0., 0., 0., 0.]],\n",
       "\n",
       "       [[0., 0., 0., 0., 0.],\n",
       "        [0., 0., 0., 0., 0.],\n",
       "        [0., 0., 0., 0., 0.],\n",
       "        [0., 0., 0., 0., 0.]]])"
      ]
     },
     "execution_count": 6,
     "metadata": {},
     "output_type": "execute_result"
    }
   ],
   "source": [
    "np.zeros((3,4,5))"
   ]
  },
  {
   "cell_type": "code",
   "execution_count": 7,
   "id": "b0c5b5d0",
   "metadata": {},
   "outputs": [
    {
     "data": {
      "text/plain": [
       "array([1., 1., 1., 1., 1.])"
      ]
     },
     "execution_count": 7,
     "metadata": {},
     "output_type": "execute_result"
    }
   ],
   "source": [
    "np.ones(5)"
   ]
  },
  {
   "cell_type": "code",
   "execution_count": 8,
   "id": "27aa9b6e",
   "metadata": {},
   "outputs": [
    {
     "data": {
      "text/plain": [
       "array([[[1., 1., 1., 1., 1., 1.],\n",
       "        [1., 1., 1., 1., 1., 1.],\n",
       "        [1., 1., 1., 1., 1., 1.]],\n",
       "\n",
       "       [[1., 1., 1., 1., 1., 1.],\n",
       "        [1., 1., 1., 1., 1., 1.],\n",
       "        [1., 1., 1., 1., 1., 1.]],\n",
       "\n",
       "       [[1., 1., 1., 1., 1., 1.],\n",
       "        [1., 1., 1., 1., 1., 1.],\n",
       "        [1., 1., 1., 1., 1., 1.]]])"
      ]
     },
     "execution_count": 8,
     "metadata": {},
     "output_type": "execute_result"
    }
   ],
   "source": [
    "np.ones((3,3,6))"
   ]
  },
  {
   "cell_type": "code",
   "execution_count": 9,
   "id": "83b0fde6",
   "metadata": {},
   "outputs": [
    {
     "data": {
      "text/plain": [
       "array([[5., 5., 5., 5.],\n",
       "       [5., 5., 5., 5.],\n",
       "       [5., 5., 5., 5.]])"
      ]
     },
     "execution_count": 9,
     "metadata": {},
     "output_type": "execute_result"
    }
   ],
   "source": [
    "5+np.zeros((3,4)) #broadcasting"
   ]
  },
  {
   "cell_type": "code",
   "execution_count": 11,
   "id": "938eee36",
   "metadata": {},
   "outputs": [
    {
     "data": {
      "text/plain": [
       "array([[[1.81363726e-152, 4.26954078e+257, 1.09944918e+155,\n",
       "         3.04284970e+169, 9.09157492e+223],\n",
       "        [3.17095864e+180, 6.96411093e+252, 3.03772868e-067,\n",
       "         1.90327826e+185, 7.22937202e+159],\n",
       "        [2.07826338e+156, 2.16209963e+233, 6.37268227e+270,\n",
       "         8.01767884e-096, 1.01159630e-153],\n",
       "        [1.46922886e+195, 2.39292253e-258, 1.12547024e-153,\n",
       "         3.06209003e+169, 3.05196288e+169]],\n",
       "\n",
       "       [[3.05196290e+169, 3.02890637e-086, 2.47877538e-070,\n",
       "         2.47877538e-070, 2.47877538e-070],\n",
       "        [2.66054070e-260, 1.21906099e-152, 7.19210710e+252,\n",
       "         1.49345442e+214, 4.95261614e+223],\n",
       "        [2.30224366e+262, 1.06167117e-153, 9.77080316e-153,\n",
       "         1.27587193e-152, 3.80985995e+180],\n",
       "        [1.96393284e-152, 6.02669629e+175, 5.81948492e+199,\n",
       "         3.15091948e+161, 8.78414022e+247]],\n",
       "\n",
       "       [[1.69803111e-152, 1.67494825e+243, 3.59535131e+246,\n",
       "         2.46598538e-154, 9.78567885e+199],\n",
       "        [8.70657824e+183, 1.32882766e+179, 4.82406565e+228,\n",
       "         6.89262987e+212, 1.89122289e+219],\n",
       "        [3.04157374e-067, 6.18955597e+223, 6.01346953e-154,\n",
       "         1.94855592e+227, 2.68902149e+161],\n",
       "        [4.77295198e+180, 3.58167854e+246, 6.11248948e+228,\n",
       "         2.42766859e-154, 7.69843740e+218]],\n",
       "\n",
       "       [[5.98189658e-154, 4.47593816e-091, 6.01334512e-154,\n",
       "         1.94862936e-153, 6.78690190e+199],\n",
       "        [6.01347002e-154, 4.83245907e+276, 7.52007158e+199,\n",
       "         7.29537362e+175, 1.06097757e-153],\n",
       "        [2.34840919e+251, 1.27849494e-152, 1.72814545e+097,\n",
       "         4.27255707e+180, 6.01347002e-154],\n",
       "        [4.72883470e+164, 1.14490462e+243, 1.33200793e+179,\n",
       "         1.48978801e+214, 1.66037809e+243]],\n",
       "\n",
       "       [[9.05437256e+271, 4.25223139e+180, 9.00115368e+223,\n",
       "         6.01347002e-154, 1.14199221e+243],\n",
       "        [1.33856865e-152, 9.45312995e+218, 4.76660077e+180,\n",
       "         9.05437256e+271, 9.29433782e+242],\n",
       "        [3.62479391e+228, 1.21698092e-152, 6.01347002e-154,\n",
       "         7.14655733e+159, 2.44087714e-154],\n",
       "        [1.03523106e-028, 2.64521821e+185, 5.98189662e-154,\n",
       "         1.68192742e+199, 2.04746713e+161]]])"
      ]
     },
     "execution_count": 11,
     "metadata": {},
     "output_type": "execute_result"
    }
   ],
   "source": [
    "np.empty((5,4,5))"
   ]
  },
  {
   "cell_type": "code",
   "execution_count": 19,
   "id": "42fb41f6",
   "metadata": {},
   "outputs": [
    {
     "data": {
      "text/plain": [
       "array([[2.        , 2.44444444],\n",
       "       [2.88888889, 3.33333333],\n",
       "       [3.77777778, 4.22222222],\n",
       "       [4.66666667, 5.11111111],\n",
       "       [5.55555556, 6.        ]])"
      ]
     },
     "execution_count": 19,
     "metadata": {},
     "output_type": "execute_result"
    }
   ],
   "source": [
    "np.linspace(2,6,10).reshape(5,2)"
   ]
  },
  {
   "cell_type": "code",
   "execution_count": 21,
   "id": "73c1839c",
   "metadata": {},
   "outputs": [
    {
     "data": {
      "text/plain": [
       "array([  100.        ,   166.81005372,   278.25594022,   464.15888336,\n",
       "         774.26368268,  1291.54966501,  2154.43469003,  3593.8136638 ,\n",
       "        5994.84250319, 10000.        ])"
      ]
     },
     "execution_count": 21,
     "metadata": {},
     "output_type": "execute_result"
    }
   ],
   "source": [
    "np.logspace(2,4,10,base=10)"
   ]
  },
  {
   "cell_type": "code",
   "execution_count": 43,
   "id": "f9a35ff7",
   "metadata": {},
   "outputs": [],
   "source": [
    "a=np.arange(4,40).reshape(6,6)"
   ]
  },
  {
   "cell_type": "code",
   "execution_count": 44,
   "id": "372a8130",
   "metadata": {},
   "outputs": [
    {
     "data": {
      "text/plain": [
       "array([[ 4,  5,  6,  7,  8,  9],\n",
       "       [10, 11, 12, 13, 14, 15],\n",
       "       [16, 17, 18, 19, 20, 21],\n",
       "       [22, 23, 24, 25, 26, 27],\n",
       "       [28, 29, 30, 31, 32, 33],\n",
       "       [34, 35, 36, 37, 38, 39]])"
      ]
     },
     "execution_count": 44,
     "metadata": {},
     "output_type": "execute_result"
    }
   ],
   "source": [
    "a"
   ]
  },
  {
   "cell_type": "code",
   "execution_count": 46,
   "id": "9575a26c",
   "metadata": {},
   "outputs": [
    {
     "data": {
      "text/plain": [
       "array([34, 35, 36, 37, 38, 39])"
      ]
     },
     "execution_count": 46,
     "metadata": {},
     "output_type": "execute_result"
    }
   ],
   "source": [
    "a.max(axis=0)"
   ]
  },
  {
   "cell_type": "code",
   "execution_count": 47,
   "id": "eec029e6",
   "metadata": {},
   "outputs": [
    {
     "data": {
      "text/plain": [
       "array([ 9, 15, 21, 27, 33, 39])"
      ]
     },
     "execution_count": 47,
     "metadata": {},
     "output_type": "execute_result"
    }
   ],
   "source": [
    "a.max(axis=1)"
   ]
  },
  {
   "cell_type": "code",
   "execution_count": 48,
   "id": "97eb1789",
   "metadata": {},
   "outputs": [
    {
     "data": {
      "text/plain": [
       "array([[ 4,  5,  6,  7,  8,  9],\n",
       "       [10, 11, 12, 13, 14, 15],\n",
       "       [16, 17, 18, 19, 20, 21],\n",
       "       [22, 23, 24, 25, 26, 27],\n",
       "       [28, 29, 30, 31, 32, 33],\n",
       "       [34, 35, 36, 37, 38, 39]])"
      ]
     },
     "execution_count": 48,
     "metadata": {},
     "output_type": "execute_result"
    }
   ],
   "source": [
    "a"
   ]
  },
  {
   "cell_type": "code",
   "execution_count": 49,
   "id": "11d765e1",
   "metadata": {},
   "outputs": [
    {
     "data": {
      "text/plain": [
       "array([[14, 15, 16, 17, 18, 19],\n",
       "       [20, 21, 22, 23, 24, 25],\n",
       "       [26, 27, 28, 29, 30, 31],\n",
       "       [32, 33, 34, 35, 36, 37],\n",
       "       [38, 39, 40, 41, 42, 43],\n",
       "       [44, 45, 46, 47, 48, 49]])"
      ]
     },
     "execution_count": 49,
     "metadata": {},
     "output_type": "execute_result"
    }
   ],
   "source": [
    "10+a"
   ]
  },
  {
   "cell_type": "code",
   "execution_count": 50,
   "id": "e19cfcd2",
   "metadata": {},
   "outputs": [
    {
     "name": "stderr",
     "output_type": "stream",
     "text": [
      "C:\\Users\\Harshith D\\AppData\\Local\\Temp/ipykernel_16888/4102073204.py:1: RuntimeWarning: divide by zero encountered in true_divide\n",
      "  a/0\n"
     ]
    },
    {
     "data": {
      "text/plain": [
       "array([[inf, inf, inf, inf, inf, inf],\n",
       "       [inf, inf, inf, inf, inf, inf],\n",
       "       [inf, inf, inf, inf, inf, inf],\n",
       "       [inf, inf, inf, inf, inf, inf],\n",
       "       [inf, inf, inf, inf, inf, inf],\n",
       "       [inf, inf, inf, inf, inf, inf]])"
      ]
     },
     "execution_count": 50,
     "metadata": {},
     "output_type": "execute_result"
    }
   ],
   "source": [
    "a/0"
   ]
  },
  {
   "cell_type": "code",
   "execution_count": 51,
   "id": "da84fc4c",
   "metadata": {},
   "outputs": [
    {
     "data": {
      "text/plain": [
       "array([[  16,   25,   36,   49,   64,   81],\n",
       "       [ 100,  121,  144,  169,  196,  225],\n",
       "       [ 256,  289,  324,  361,  400,  441],\n",
       "       [ 484,  529,  576,  625,  676,  729],\n",
       "       [ 784,  841,  900,  961, 1024, 1089],\n",
       "       [1156, 1225, 1296, 1369, 1444, 1521]], dtype=int32)"
      ]
     },
     "execution_count": 51,
     "metadata": {},
     "output_type": "execute_result"
    }
   ],
   "source": [
    "a**2"
   ]
  },
  {
   "cell_type": "code",
   "execution_count": 52,
   "id": "afeed0a5",
   "metadata": {},
   "outputs": [
    {
     "data": {
      "text/plain": [
       "array([[  16,   25,   36,   49,   64,   81],\n",
       "       [ 100,  121,  144,  169,  196,  225],\n",
       "       [ 256,  289,  324,  361,  400,  441],\n",
       "       [ 484,  529,  576,  625,  676,  729],\n",
       "       [ 784,  841,  900,  961, 1024, 1089],\n",
       "       [1156, 1225, 1296, 1369, 1444, 1521]], dtype=int32)"
      ]
     },
     "execution_count": 52,
     "metadata": {},
     "output_type": "execute_result"
    }
   ],
   "source": [
    "pow(a,2)"
   ]
  },
  {
   "cell_type": "code",
   "execution_count": 53,
   "id": "fc0b4973",
   "metadata": {},
   "outputs": [
    {
     "data": {
      "text/plain": [
       "array([[ 4,  5,  6,  7,  8,  9],\n",
       "       [10, 11, 12, 13, 14, 15],\n",
       "       [16, 17, 18, 19, 20, 21],\n",
       "       [22, 23, 24, 25, 26, 27],\n",
       "       [28, 29, 30, 31, 32, 33],\n",
       "       [34, 35, 36, 37, 38, 39]])"
      ]
     },
     "execution_count": 53,
     "metadata": {},
     "output_type": "execute_result"
    }
   ],
   "source": [
    "a"
   ]
  },
  {
   "cell_type": "code",
   "execution_count": 58,
   "id": "b1a58e05",
   "metadata": {},
   "outputs": [],
   "source": [
    "b=np.array([2,3,1,2,3,2])"
   ]
  },
  {
   "cell_type": "code",
   "execution_count": 59,
   "id": "542dcff5",
   "metadata": {},
   "outputs": [
    {
     "data": {
      "text/plain": [
       "array([[ 6,  8,  7,  9, 11, 11],\n",
       "       [12, 14, 13, 15, 17, 17],\n",
       "       [18, 20, 19, 21, 23, 23],\n",
       "       [24, 26, 25, 27, 29, 29],\n",
       "       [30, 32, 31, 33, 35, 35],\n",
       "       [36, 38, 37, 39, 41, 41]])"
      ]
     },
     "execution_count": 59,
     "metadata": {},
     "output_type": "execute_result"
    }
   ],
   "source": [
    "a+b"
   ]
  },
  {
   "cell_type": "code",
   "execution_count": 64,
   "id": "87055daa",
   "metadata": {},
   "outputs": [
    {
     "data": {
      "text/plain": [
       "array([2, 3, 1, 2, 3, 2])"
      ]
     },
     "execution_count": 64,
     "metadata": {},
     "output_type": "execute_result"
    }
   ],
   "source": [
    "b"
   ]
  },
  {
   "cell_type": "code",
   "execution_count": 65,
   "id": "e65181b5",
   "metadata": {},
   "outputs": [],
   "source": [
    "b=b.reshape(1,-1)"
   ]
  },
  {
   "cell_type": "code",
   "execution_count": 66,
   "id": "fef825a8",
   "metadata": {},
   "outputs": [
    {
     "data": {
      "text/plain": [
       "array([[2, 3, 1, 2, 3, 2]])"
      ]
     },
     "execution_count": 66,
     "metadata": {},
     "output_type": "execute_result"
    }
   ],
   "source": [
    "b"
   ]
  },
  {
   "cell_type": "code",
   "execution_count": 67,
   "id": "f3279c56",
   "metadata": {},
   "outputs": [],
   "source": [
    "b=b.T"
   ]
  },
  {
   "cell_type": "code",
   "execution_count": 68,
   "id": "f8d767c0",
   "metadata": {},
   "outputs": [
    {
     "data": {
      "text/plain": [
       "array([[2],\n",
       "       [3],\n",
       "       [1],\n",
       "       [2],\n",
       "       [3],\n",
       "       [2]])"
      ]
     },
     "execution_count": 68,
     "metadata": {},
     "output_type": "execute_result"
    }
   ],
   "source": [
    "b"
   ]
  },
  {
   "cell_type": "code",
   "execution_count": 69,
   "id": "3ec77c3e",
   "metadata": {},
   "outputs": [
    {
     "data": {
      "text/plain": [
       "array([[ 6,  7,  8,  9, 10, 11],\n",
       "       [13, 14, 15, 16, 17, 18],\n",
       "       [17, 18, 19, 20, 21, 22],\n",
       "       [24, 25, 26, 27, 28, 29],\n",
       "       [31, 32, 33, 34, 35, 36],\n",
       "       [36, 37, 38, 39, 40, 41]])"
      ]
     },
     "execution_count": 69,
     "metadata": {},
     "output_type": "execute_result"
    }
   ],
   "source": [
    "a+b"
   ]
  },
  {
   "cell_type": "code",
   "execution_count": 70,
   "id": "ef89e9dd",
   "metadata": {},
   "outputs": [
    {
     "data": {
      "text/plain": [
       "array([[ 4,  5,  6,  7,  8,  9],\n",
       "       [10, 11, 12, 13, 14, 15],\n",
       "       [16, 17, 18, 19, 20, 21],\n",
       "       [22, 23, 24, 25, 26, 27],\n",
       "       [28, 29, 30, 31, 32, 33],\n",
       "       [34, 35, 36, 37, 38, 39]])"
      ]
     },
     "execution_count": 70,
     "metadata": {},
     "output_type": "execute_result"
    }
   ],
   "source": [
    "a"
   ]
  },
  {
   "cell_type": "code",
   "execution_count": 71,
   "id": "ca52de07",
   "metadata": {},
   "outputs": [
    {
     "data": {
      "text/plain": [
       "array([[2.        , 2.23606798, 2.44948974, 2.64575131, 2.82842712,\n",
       "        3.        ],\n",
       "       [3.16227766, 3.31662479, 3.46410162, 3.60555128, 3.74165739,\n",
       "        3.87298335],\n",
       "       [4.        , 4.12310563, 4.24264069, 4.35889894, 4.47213595,\n",
       "        4.58257569],\n",
       "       [4.69041576, 4.79583152, 4.89897949, 5.        , 5.09901951,\n",
       "        5.19615242],\n",
       "       [5.29150262, 5.38516481, 5.47722558, 5.56776436, 5.65685425,\n",
       "        5.74456265],\n",
       "       [5.83095189, 5.91607978, 6.        , 6.08276253, 6.164414  ,\n",
       "        6.244998  ]])"
      ]
     },
     "execution_count": 71,
     "metadata": {},
     "output_type": "execute_result"
    }
   ],
   "source": [
    "np.sqrt(a)"
   ]
  },
  {
   "cell_type": "code",
   "execution_count": 72,
   "id": "62f1e805",
   "metadata": {},
   "outputs": [
    {
     "data": {
      "text/plain": [
       "array([[5.45981500e+01, 1.48413159e+02, 4.03428793e+02, 1.09663316e+03,\n",
       "        2.98095799e+03, 8.10308393e+03],\n",
       "       [2.20264658e+04, 5.98741417e+04, 1.62754791e+05, 4.42413392e+05,\n",
       "        1.20260428e+06, 3.26901737e+06],\n",
       "       [8.88611052e+06, 2.41549528e+07, 6.56599691e+07, 1.78482301e+08,\n",
       "        4.85165195e+08, 1.31881573e+09],\n",
       "       [3.58491285e+09, 9.74480345e+09, 2.64891221e+10, 7.20048993e+10,\n",
       "        1.95729609e+11, 5.32048241e+11],\n",
       "       [1.44625706e+12, 3.93133430e+12, 1.06864746e+13, 2.90488497e+13,\n",
       "        7.89629602e+13, 2.14643580e+14],\n",
       "       [5.83461743e+14, 1.58601345e+15, 4.31123155e+15, 1.17191424e+16,\n",
       "        3.18559318e+16, 8.65934004e+16]])"
      ]
     },
     "execution_count": 72,
     "metadata": {},
     "output_type": "execute_result"
    }
   ],
   "source": [
    "np.exp(a)"
   ]
  },
  {
   "cell_type": "code",
   "execution_count": 73,
   "id": "6292082d",
   "metadata": {},
   "outputs": [
    {
     "data": {
      "text/plain": [
       "array([[0.60205999, 0.69897   , 0.77815125, 0.84509804, 0.90308999,\n",
       "        0.95424251],\n",
       "       [1.        , 1.04139269, 1.07918125, 1.11394335, 1.14612804,\n",
       "        1.17609126],\n",
       "       [1.20411998, 1.23044892, 1.25527251, 1.2787536 , 1.30103   ,\n",
       "        1.32221929],\n",
       "       [1.34242268, 1.36172784, 1.38021124, 1.39794001, 1.41497335,\n",
       "        1.43136376],\n",
       "       [1.44715803, 1.462398  , 1.47712125, 1.49136169, 1.50514998,\n",
       "        1.51851394],\n",
       "       [1.53147892, 1.54406804, 1.5563025 , 1.56820172, 1.5797836 ,\n",
       "        1.59106461]])"
      ]
     },
     "execution_count": 73,
     "metadata": {},
     "output_type": "execute_result"
    }
   ],
   "source": [
    "np.log10(a)"
   ]
  },
  {
   "cell_type": "code",
   "execution_count": 74,
   "id": "3e59bef7",
   "metadata": {},
   "outputs": [],
   "source": [
    "x = np.array([1,2,3])"
   ]
  },
  {
   "cell_type": "code",
   "execution_count": 75,
   "id": "f7182026",
   "metadata": {},
   "outputs": [],
   "source": [
    "y=x #shallow copy"
   ]
  },
  {
   "cell_type": "code",
   "execution_count": 76,
   "id": "20d933ae",
   "metadata": {},
   "outputs": [
    {
     "data": {
      "text/plain": [
       "array([1, 2, 3])"
      ]
     },
     "execution_count": 76,
     "metadata": {},
     "output_type": "execute_result"
    }
   ],
   "source": [
    "y"
   ]
  },
  {
   "cell_type": "code",
   "execution_count": 77,
   "id": "84b2d7f5",
   "metadata": {},
   "outputs": [],
   "source": [
    "z = np.copy(x) #deep copy"
   ]
  },
  {
   "cell_type": "code",
   "execution_count": 78,
   "id": "0c1f0117",
   "metadata": {},
   "outputs": [
    {
     "data": {
      "text/plain": [
       "array([1, 2, 3])"
      ]
     },
     "execution_count": 78,
     "metadata": {},
     "output_type": "execute_result"
    }
   ],
   "source": [
    "z"
   ]
  },
  {
   "cell_type": "code",
   "execution_count": 79,
   "id": "927931a4",
   "metadata": {},
   "outputs": [],
   "source": [
    "x[0]=100"
   ]
  },
  {
   "cell_type": "code",
   "execution_count": 80,
   "id": "5666be08",
   "metadata": {},
   "outputs": [
    {
     "data": {
      "text/plain": [
       "array([100,   2,   3])"
      ]
     },
     "execution_count": 80,
     "metadata": {},
     "output_type": "execute_result"
    }
   ],
   "source": [
    "y"
   ]
  },
  {
   "cell_type": "code",
   "execution_count": 81,
   "id": "fcf8408c",
   "metadata": {},
   "outputs": [
    {
     "data": {
      "text/plain": [
       "array([1, 2, 3])"
      ]
     },
     "execution_count": 81,
     "metadata": {},
     "output_type": "execute_result"
    }
   ],
   "source": [
    "z"
   ]
  },
  {
   "cell_type": "code",
   "execution_count": 82,
   "id": "936b6e44",
   "metadata": {},
   "outputs": [
    {
     "data": {
      "text/plain": [
       "1461925209072"
      ]
     },
     "execution_count": 82,
     "metadata": {},
     "output_type": "execute_result"
    }
   ],
   "source": [
    "id(z)"
   ]
  },
  {
   "cell_type": "code",
   "execution_count": 83,
   "id": "6531a3b0",
   "metadata": {},
   "outputs": [
    {
     "data": {
      "text/plain": [
       "1461925208304"
      ]
     },
     "execution_count": 83,
     "metadata": {},
     "output_type": "execute_result"
    }
   ],
   "source": [
    "id(y)"
   ]
  },
  {
   "cell_type": "code",
   "execution_count": 84,
   "id": "2c83baa8",
   "metadata": {},
   "outputs": [
    {
     "data": {
      "text/plain": [
       "1461925208304"
      ]
     },
     "execution_count": 84,
     "metadata": {},
     "output_type": "execute_result"
    }
   ],
   "source": [
    "id(x)"
   ]
  },
  {
   "cell_type": "code",
   "execution_count": 85,
   "id": "066fc5b3",
   "metadata": {},
   "outputs": [
    {
     "data": {
      "text/plain": [
       "array([100,   2,   3])"
      ]
     },
     "execution_count": 85,
     "metadata": {},
     "output_type": "execute_result"
    }
   ],
   "source": [
    "x"
   ]
  },
  {
   "cell_type": "code",
   "execution_count": 86,
   "id": "f6ee8b14",
   "metadata": {},
   "outputs": [
    {
     "data": {
      "text/plain": [
       "1461925201200"
      ]
     },
     "execution_count": 86,
     "metadata": {},
     "output_type": "execute_result"
    }
   ],
   "source": [
    "id(x[0])"
   ]
  },
  {
   "cell_type": "code",
   "execution_count": 87,
   "id": "574b4c61",
   "metadata": {},
   "outputs": [
    {
     "data": {
      "text/plain": [
       "1461925203088"
      ]
     },
     "execution_count": 87,
     "metadata": {},
     "output_type": "execute_result"
    }
   ],
   "source": [
    "id(y[0])"
   ]
  },
  {
   "cell_type": "code",
   "execution_count": 88,
   "id": "e4c53a6a",
   "metadata": {},
   "outputs": [],
   "source": [
    "su = np.array([567,345])"
   ]
  },
  {
   "cell_type": "code",
   "execution_count": 89,
   "id": "bccb46ff",
   "metadata": {},
   "outputs": [],
   "source": [
    "df = su"
   ]
  },
  {
   "cell_type": "code",
   "execution_count": 90,
   "id": "75e2d43a",
   "metadata": {},
   "outputs": [
    {
     "data": {
      "text/plain": [
       "1461925210512"
      ]
     },
     "execution_count": 90,
     "metadata": {},
     "output_type": "execute_result"
    }
   ],
   "source": [
    "id(su)"
   ]
  },
  {
   "cell_type": "code",
   "execution_count": 91,
   "id": "00e21cb4",
   "metadata": {},
   "outputs": [
    {
     "data": {
      "text/plain": [
       "1461925210512"
      ]
     },
     "execution_count": 91,
     "metadata": {},
     "output_type": "execute_result"
    }
   ],
   "source": [
    "id(df)"
   ]
  },
  {
   "cell_type": "code",
   "execution_count": 92,
   "id": "dca0da3c",
   "metadata": {},
   "outputs": [
    {
     "data": {
      "text/plain": [
       "1461925203568"
      ]
     },
     "execution_count": 92,
     "metadata": {},
     "output_type": "execute_result"
    }
   ],
   "source": [
    "id(su[0])"
   ]
  },
  {
   "cell_type": "code",
   "execution_count": 93,
   "id": "4c090fdd",
   "metadata": {},
   "outputs": [
    {
     "data": {
      "text/plain": [
       "1461925203152"
      ]
     },
     "execution_count": 93,
     "metadata": {},
     "output_type": "execute_result"
    }
   ],
   "source": [
    "id(df[0])"
   ]
  },
  {
   "cell_type": "code",
   "execution_count": 94,
   "id": "a6da2fed",
   "metadata": {},
   "outputs": [
    {
     "data": {
      "text/plain": [
       "True"
      ]
     },
     "execution_count": 94,
     "metadata": {},
     "output_type": "execute_result"
    }
   ],
   "source": [
    "id(su[0]) == id(df[0])"
   ]
  },
  {
   "cell_type": "code",
   "execution_count": 95,
   "id": "fe6f5f71",
   "metadata": {},
   "outputs": [],
   "source": [
    "xt = np.array([34,67,89])"
   ]
  },
  {
   "cell_type": "code",
   "execution_count": 97,
   "id": "84167191",
   "metadata": {},
   "outputs": [
    {
     "data": {
      "text/plain": [
       "True"
      ]
     },
     "execution_count": 97,
     "metadata": {},
     "output_type": "execute_result"
    }
   ],
   "source": [
    "id(xt[0])==id(su[0])"
   ]
  },
  {
   "cell_type": "code",
   "execution_count": 98,
   "id": "bf2567b2",
   "metadata": {},
   "outputs": [],
   "source": [
    "c =\"harshith\""
   ]
  },
  {
   "cell_type": "code",
   "execution_count": 99,
   "id": "6dfa2b3d",
   "metadata": {},
   "outputs": [
    {
     "data": {
      "text/plain": [
       "False"
      ]
     },
     "execution_count": 99,
     "metadata": {},
     "output_type": "execute_result"
    }
   ],
   "source": [
    "id(c)==id(su)"
   ]
  },
  {
   "cell_type": "code",
   "execution_count": null,
   "id": "46a3ffb7",
   "metadata": {},
   "outputs": [],
   "source": []
  }
 ],
 "metadata": {
  "kernelspec": {
   "display_name": "Python 3 (ipykernel)",
   "language": "python",
   "name": "python3"
  },
  "language_info": {
   "codemirror_mode": {
    "name": "ipython",
    "version": 3
   },
   "file_extension": ".py",
   "mimetype": "text/x-python",
   "name": "python",
   "nbconvert_exporter": "python",
   "pygments_lexer": "ipython3",
   "version": "3.9.7"
  }
 },
 "nbformat": 4,
 "nbformat_minor": 5
}
