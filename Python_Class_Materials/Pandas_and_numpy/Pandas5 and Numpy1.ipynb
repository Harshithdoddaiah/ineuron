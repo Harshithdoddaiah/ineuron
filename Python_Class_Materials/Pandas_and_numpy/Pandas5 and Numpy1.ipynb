{
 "cells": [
  {
   "cell_type": "code",
   "execution_count": 1,
   "id": "a7818f3d",
   "metadata": {},
   "outputs": [],
   "source": [
    "import pandas as pd"
   ]
  },
  {
   "cell_type": "code",
   "execution_count": 2,
   "id": "f45ffb70",
   "metadata": {},
   "outputs": [],
   "source": [
    "df=pd.DataFrame({'col1':[1,2,3,4,5],'col2':[45,56,67,34,34], 'col3':\"harshith D rak hem frd\".split(), })"
   ]
  },
  {
   "cell_type": "code",
   "execution_count": 4,
   "id": "27afc3d1",
   "metadata": {},
   "outputs": [
    {
     "data": {
      "text/plain": [
       "['harshith', 'D', 'rak', 'hem', 'frd']"
      ]
     },
     "execution_count": 4,
     "metadata": {},
     "output_type": "execute_result"
    }
   ],
   "source": [
    "\"harshith D rak hem frd\".split()"
   ]
  },
  {
   "cell_type": "code",
   "execution_count": 7,
   "id": "6f4ffe24",
   "metadata": {},
   "outputs": [
    {
     "data": {
      "text/html": [
       "<div>\n",
       "<style scoped>\n",
       "    .dataframe tbody tr th:only-of-type {\n",
       "        vertical-align: middle;\n",
       "    }\n",
       "\n",
       "    .dataframe tbody tr th {\n",
       "        vertical-align: top;\n",
       "    }\n",
       "\n",
       "    .dataframe thead th {\n",
       "        text-align: right;\n",
       "    }\n",
       "</style>\n",
       "<table border=\"1\" class=\"dataframe\">\n",
       "  <thead>\n",
       "    <tr style=\"text-align: right;\">\n",
       "      <th></th>\n",
       "      <th>col1</th>\n",
       "      <th>col2</th>\n",
       "      <th>col3</th>\n",
       "    </tr>\n",
       "  </thead>\n",
       "  <tbody>\n",
       "    <tr>\n",
       "      <th>0</th>\n",
       "      <td>1</td>\n",
       "      <td>45</td>\n",
       "      <td>harshith</td>\n",
       "    </tr>\n",
       "    <tr>\n",
       "      <th>1</th>\n",
       "      <td>2</td>\n",
       "      <td>56</td>\n",
       "      <td>D</td>\n",
       "    </tr>\n",
       "    <tr>\n",
       "      <th>2</th>\n",
       "      <td>3</td>\n",
       "      <td>67</td>\n",
       "      <td>rak</td>\n",
       "    </tr>\n",
       "    <tr>\n",
       "      <th>3</th>\n",
       "      <td>4</td>\n",
       "      <td>34</td>\n",
       "      <td>hem</td>\n",
       "    </tr>\n",
       "    <tr>\n",
       "      <th>4</th>\n",
       "      <td>5</td>\n",
       "      <td>34</td>\n",
       "      <td>frd</td>\n",
       "    </tr>\n",
       "  </tbody>\n",
       "</table>\n",
       "</div>"
      ],
      "text/plain": [
       "   col1  col2      col3\n",
       "0     1    45  harshith\n",
       "1     2    56         D\n",
       "2     3    67       rak\n",
       "3     4    34       hem\n",
       "4     5    34       frd"
      ]
     },
     "execution_count": 7,
     "metadata": {},
     "output_type": "execute_result"
    }
   ],
   "source": [
    "df"
   ]
  },
  {
   "cell_type": "code",
   "execution_count": 8,
   "id": "36fc542b",
   "metadata": {},
   "outputs": [],
   "source": [
    "df['col4']=df['col1']*df['col1']"
   ]
  },
  {
   "cell_type": "code",
   "execution_count": 9,
   "id": "00be1815",
   "metadata": {},
   "outputs": [
    {
     "data": {
      "text/html": [
       "<div>\n",
       "<style scoped>\n",
       "    .dataframe tbody tr th:only-of-type {\n",
       "        vertical-align: middle;\n",
       "    }\n",
       "\n",
       "    .dataframe tbody tr th {\n",
       "        vertical-align: top;\n",
       "    }\n",
       "\n",
       "    .dataframe thead th {\n",
       "        text-align: right;\n",
       "    }\n",
       "</style>\n",
       "<table border=\"1\" class=\"dataframe\">\n",
       "  <thead>\n",
       "    <tr style=\"text-align: right;\">\n",
       "      <th></th>\n",
       "      <th>col1</th>\n",
       "      <th>col2</th>\n",
       "      <th>col3</th>\n",
       "      <th>col4</th>\n",
       "    </tr>\n",
       "  </thead>\n",
       "  <tbody>\n",
       "    <tr>\n",
       "      <th>0</th>\n",
       "      <td>1</td>\n",
       "      <td>45</td>\n",
       "      <td>harshith</td>\n",
       "      <td>1</td>\n",
       "    </tr>\n",
       "    <tr>\n",
       "      <th>1</th>\n",
       "      <td>2</td>\n",
       "      <td>56</td>\n",
       "      <td>D</td>\n",
       "      <td>4</td>\n",
       "    </tr>\n",
       "    <tr>\n",
       "      <th>2</th>\n",
       "      <td>3</td>\n",
       "      <td>67</td>\n",
       "      <td>rak</td>\n",
       "      <td>9</td>\n",
       "    </tr>\n",
       "    <tr>\n",
       "      <th>3</th>\n",
       "      <td>4</td>\n",
       "      <td>34</td>\n",
       "      <td>hem</td>\n",
       "      <td>16</td>\n",
       "    </tr>\n",
       "    <tr>\n",
       "      <th>4</th>\n",
       "      <td>5</td>\n",
       "      <td>34</td>\n",
       "      <td>frd</td>\n",
       "      <td>25</td>\n",
       "    </tr>\n",
       "  </tbody>\n",
       "</table>\n",
       "</div>"
      ],
      "text/plain": [
       "   col1  col2      col3  col4\n",
       "0     1    45  harshith     1\n",
       "1     2    56         D     4\n",
       "2     3    67       rak     9\n",
       "3     4    34       hem    16\n",
       "4     5    34       frd    25"
      ]
     },
     "execution_count": 9,
     "metadata": {},
     "output_type": "execute_result"
    }
   ],
   "source": [
    "df"
   ]
  },
  {
   "cell_type": "code",
   "execution_count": 12,
   "id": "beaf61ee",
   "metadata": {},
   "outputs": [],
   "source": [
    "df['col5']=df['col3'].str[0]"
   ]
  },
  {
   "cell_type": "code",
   "execution_count": 13,
   "id": "d20edfb0",
   "metadata": {},
   "outputs": [
    {
     "data": {
      "text/html": [
       "<div>\n",
       "<style scoped>\n",
       "    .dataframe tbody tr th:only-of-type {\n",
       "        vertical-align: middle;\n",
       "    }\n",
       "\n",
       "    .dataframe tbody tr th {\n",
       "        vertical-align: top;\n",
       "    }\n",
       "\n",
       "    .dataframe thead th {\n",
       "        text-align: right;\n",
       "    }\n",
       "</style>\n",
       "<table border=\"1\" class=\"dataframe\">\n",
       "  <thead>\n",
       "    <tr style=\"text-align: right;\">\n",
       "      <th></th>\n",
       "      <th>col1</th>\n",
       "      <th>col2</th>\n",
       "      <th>col3</th>\n",
       "      <th>col4</th>\n",
       "      <th>col5</th>\n",
       "    </tr>\n",
       "  </thead>\n",
       "  <tbody>\n",
       "    <tr>\n",
       "      <th>0</th>\n",
       "      <td>1</td>\n",
       "      <td>45</td>\n",
       "      <td>harshith</td>\n",
       "      <td>1</td>\n",
       "      <td>h</td>\n",
       "    </tr>\n",
       "    <tr>\n",
       "      <th>1</th>\n",
       "      <td>2</td>\n",
       "      <td>56</td>\n",
       "      <td>D</td>\n",
       "      <td>4</td>\n",
       "      <td>D</td>\n",
       "    </tr>\n",
       "    <tr>\n",
       "      <th>2</th>\n",
       "      <td>3</td>\n",
       "      <td>67</td>\n",
       "      <td>rak</td>\n",
       "      <td>9</td>\n",
       "      <td>r</td>\n",
       "    </tr>\n",
       "    <tr>\n",
       "      <th>3</th>\n",
       "      <td>4</td>\n",
       "      <td>34</td>\n",
       "      <td>hem</td>\n",
       "      <td>16</td>\n",
       "      <td>h</td>\n",
       "    </tr>\n",
       "    <tr>\n",
       "      <th>4</th>\n",
       "      <td>5</td>\n",
       "      <td>34</td>\n",
       "      <td>frd</td>\n",
       "      <td>25</td>\n",
       "      <td>f</td>\n",
       "    </tr>\n",
       "  </tbody>\n",
       "</table>\n",
       "</div>"
      ],
      "text/plain": [
       "   col1  col2      col3  col4 col5\n",
       "0     1    45  harshith     1    h\n",
       "1     2    56         D     4    D\n",
       "2     3    67       rak     9    r\n",
       "3     4    34       hem    16    h\n",
       "4     5    34       frd    25    f"
      ]
     },
     "execution_count": 13,
     "metadata": {},
     "output_type": "execute_result"
    }
   ],
   "source": [
    "df"
   ]
  },
  {
   "cell_type": "code",
   "execution_count": 14,
   "id": "d914c2da",
   "metadata": {},
   "outputs": [],
   "source": [
    "def test(a):\n",
    "    return a**2"
   ]
  },
  {
   "cell_type": "code",
   "execution_count": 15,
   "id": "39c4ebe7",
   "metadata": {},
   "outputs": [],
   "source": [
    "df['col4_4']=df['col1'].apply(test)"
   ]
  },
  {
   "cell_type": "code",
   "execution_count": 16,
   "id": "9dfd44e3",
   "metadata": {},
   "outputs": [
    {
     "data": {
      "text/html": [
       "<div>\n",
       "<style scoped>\n",
       "    .dataframe tbody tr th:only-of-type {\n",
       "        vertical-align: middle;\n",
       "    }\n",
       "\n",
       "    .dataframe tbody tr th {\n",
       "        vertical-align: top;\n",
       "    }\n",
       "\n",
       "    .dataframe thead th {\n",
       "        text-align: right;\n",
       "    }\n",
       "</style>\n",
       "<table border=\"1\" class=\"dataframe\">\n",
       "  <thead>\n",
       "    <tr style=\"text-align: right;\">\n",
       "      <th></th>\n",
       "      <th>col1</th>\n",
       "      <th>col2</th>\n",
       "      <th>col3</th>\n",
       "      <th>col4</th>\n",
       "      <th>col5</th>\n",
       "      <th>col4_4</th>\n",
       "    </tr>\n",
       "  </thead>\n",
       "  <tbody>\n",
       "    <tr>\n",
       "      <th>0</th>\n",
       "      <td>1</td>\n",
       "      <td>45</td>\n",
       "      <td>harshith</td>\n",
       "      <td>1</td>\n",
       "      <td>h</td>\n",
       "      <td>1</td>\n",
       "    </tr>\n",
       "    <tr>\n",
       "      <th>1</th>\n",
       "      <td>2</td>\n",
       "      <td>56</td>\n",
       "      <td>D</td>\n",
       "      <td>4</td>\n",
       "      <td>D</td>\n",
       "      <td>4</td>\n",
       "    </tr>\n",
       "    <tr>\n",
       "      <th>2</th>\n",
       "      <td>3</td>\n",
       "      <td>67</td>\n",
       "      <td>rak</td>\n",
       "      <td>9</td>\n",
       "      <td>r</td>\n",
       "      <td>9</td>\n",
       "    </tr>\n",
       "    <tr>\n",
       "      <th>3</th>\n",
       "      <td>4</td>\n",
       "      <td>34</td>\n",
       "      <td>hem</td>\n",
       "      <td>16</td>\n",
       "      <td>h</td>\n",
       "      <td>16</td>\n",
       "    </tr>\n",
       "    <tr>\n",
       "      <th>4</th>\n",
       "      <td>5</td>\n",
       "      <td>34</td>\n",
       "      <td>frd</td>\n",
       "      <td>25</td>\n",
       "      <td>f</td>\n",
       "      <td>25</td>\n",
       "    </tr>\n",
       "  </tbody>\n",
       "</table>\n",
       "</div>"
      ],
      "text/plain": [
       "   col1  col2      col3  col4 col5  col4_4\n",
       "0     1    45  harshith     1    h       1\n",
       "1     2    56         D     4    D       4\n",
       "2     3    67       rak     9    r       9\n",
       "3     4    34       hem    16    h      16\n",
       "4     5    34       frd    25    f      25"
      ]
     },
     "execution_count": 16,
     "metadata": {},
     "output_type": "execute_result"
    }
   ],
   "source": [
    "df"
   ]
  },
  {
   "cell_type": "code",
   "execution_count": 25,
   "id": "5dd2d8fb",
   "metadata": {},
   "outputs": [],
   "source": [
    "def test1(a):\n",
    "    if a=='h':\n",
    "        return 'h'\n",
    "    else:\n",
    "        return 'z'"
   ]
  },
  {
   "cell_type": "code",
   "execution_count": 33,
   "id": "92c3f685",
   "metadata": {},
   "outputs": [],
   "source": [
    "df['col6']=df['col5'].apply(test1)"
   ]
  },
  {
   "cell_type": "code",
   "execution_count": 34,
   "id": "44e563c8",
   "metadata": {},
   "outputs": [
    {
     "data": {
      "text/html": [
       "<div>\n",
       "<style scoped>\n",
       "    .dataframe tbody tr th:only-of-type {\n",
       "        vertical-align: middle;\n",
       "    }\n",
       "\n",
       "    .dataframe tbody tr th {\n",
       "        vertical-align: top;\n",
       "    }\n",
       "\n",
       "    .dataframe thead th {\n",
       "        text-align: right;\n",
       "    }\n",
       "</style>\n",
       "<table border=\"1\" class=\"dataframe\">\n",
       "  <thead>\n",
       "    <tr style=\"text-align: right;\">\n",
       "      <th></th>\n",
       "      <th>col1</th>\n",
       "      <th>col2</th>\n",
       "      <th>col3</th>\n",
       "      <th>col4</th>\n",
       "      <th>col5</th>\n",
       "      <th>col4_4</th>\n",
       "      <th>col6</th>\n",
       "    </tr>\n",
       "  </thead>\n",
       "  <tbody>\n",
       "    <tr>\n",
       "      <th>0</th>\n",
       "      <td>1</td>\n",
       "      <td>45</td>\n",
       "      <td>harshith</td>\n",
       "      <td>1</td>\n",
       "      <td>h</td>\n",
       "      <td>1</td>\n",
       "      <td>h</td>\n",
       "    </tr>\n",
       "    <tr>\n",
       "      <th>1</th>\n",
       "      <td>2</td>\n",
       "      <td>56</td>\n",
       "      <td>D</td>\n",
       "      <td>4</td>\n",
       "      <td>D</td>\n",
       "      <td>4</td>\n",
       "      <td>z</td>\n",
       "    </tr>\n",
       "    <tr>\n",
       "      <th>2</th>\n",
       "      <td>3</td>\n",
       "      <td>67</td>\n",
       "      <td>rak</td>\n",
       "      <td>9</td>\n",
       "      <td>r</td>\n",
       "      <td>9</td>\n",
       "      <td>z</td>\n",
       "    </tr>\n",
       "    <tr>\n",
       "      <th>3</th>\n",
       "      <td>4</td>\n",
       "      <td>34</td>\n",
       "      <td>hem</td>\n",
       "      <td>16</td>\n",
       "      <td>h</td>\n",
       "      <td>16</td>\n",
       "      <td>h</td>\n",
       "    </tr>\n",
       "    <tr>\n",
       "      <th>4</th>\n",
       "      <td>5</td>\n",
       "      <td>34</td>\n",
       "      <td>frd</td>\n",
       "      <td>25</td>\n",
       "      <td>f</td>\n",
       "      <td>25</td>\n",
       "      <td>z</td>\n",
       "    </tr>\n",
       "  </tbody>\n",
       "</table>\n",
       "</div>"
      ],
      "text/plain": [
       "   col1  col2      col3  col4 col5  col4_4 col6\n",
       "0     1    45  harshith     1    h       1    h\n",
       "1     2    56         D     4    D       4    z\n",
       "2     3    67       rak     9    r       9    z\n",
       "3     4    34       hem    16    h      16    h\n",
       "4     5    34       frd    25    f      25    z"
      ]
     },
     "execution_count": 34,
     "metadata": {},
     "output_type": "execute_result"
    }
   ],
   "source": [
    "df"
   ]
  },
  {
   "cell_type": "code",
   "execution_count": 36,
   "id": "a351f726",
   "metadata": {},
   "outputs": [],
   "source": [
    "df['col6_6']=df['col5'].apply(lambda a:'h' if a=='h' else 'z')"
   ]
  },
  {
   "cell_type": "code",
   "execution_count": 37,
   "id": "369fc325",
   "metadata": {},
   "outputs": [
    {
     "data": {
      "text/html": [
       "<div>\n",
       "<style scoped>\n",
       "    .dataframe tbody tr th:only-of-type {\n",
       "        vertical-align: middle;\n",
       "    }\n",
       "\n",
       "    .dataframe tbody tr th {\n",
       "        vertical-align: top;\n",
       "    }\n",
       "\n",
       "    .dataframe thead th {\n",
       "        text-align: right;\n",
       "    }\n",
       "</style>\n",
       "<table border=\"1\" class=\"dataframe\">\n",
       "  <thead>\n",
       "    <tr style=\"text-align: right;\">\n",
       "      <th></th>\n",
       "      <th>col1</th>\n",
       "      <th>col2</th>\n",
       "      <th>col3</th>\n",
       "      <th>col4</th>\n",
       "      <th>col5</th>\n",
       "      <th>col4_4</th>\n",
       "      <th>col6</th>\n",
       "      <th>col6_6</th>\n",
       "    </tr>\n",
       "  </thead>\n",
       "  <tbody>\n",
       "    <tr>\n",
       "      <th>0</th>\n",
       "      <td>1</td>\n",
       "      <td>45</td>\n",
       "      <td>harshith</td>\n",
       "      <td>1</td>\n",
       "      <td>h</td>\n",
       "      <td>1</td>\n",
       "      <td>h</td>\n",
       "      <td>h</td>\n",
       "    </tr>\n",
       "    <tr>\n",
       "      <th>1</th>\n",
       "      <td>2</td>\n",
       "      <td>56</td>\n",
       "      <td>D</td>\n",
       "      <td>4</td>\n",
       "      <td>D</td>\n",
       "      <td>4</td>\n",
       "      <td>z</td>\n",
       "      <td>z</td>\n",
       "    </tr>\n",
       "    <tr>\n",
       "      <th>2</th>\n",
       "      <td>3</td>\n",
       "      <td>67</td>\n",
       "      <td>rak</td>\n",
       "      <td>9</td>\n",
       "      <td>r</td>\n",
       "      <td>9</td>\n",
       "      <td>z</td>\n",
       "      <td>z</td>\n",
       "    </tr>\n",
       "    <tr>\n",
       "      <th>3</th>\n",
       "      <td>4</td>\n",
       "      <td>34</td>\n",
       "      <td>hem</td>\n",
       "      <td>16</td>\n",
       "      <td>h</td>\n",
       "      <td>16</td>\n",
       "      <td>h</td>\n",
       "      <td>h</td>\n",
       "    </tr>\n",
       "    <tr>\n",
       "      <th>4</th>\n",
       "      <td>5</td>\n",
       "      <td>34</td>\n",
       "      <td>frd</td>\n",
       "      <td>25</td>\n",
       "      <td>f</td>\n",
       "      <td>25</td>\n",
       "      <td>z</td>\n",
       "      <td>z</td>\n",
       "    </tr>\n",
       "  </tbody>\n",
       "</table>\n",
       "</div>"
      ],
      "text/plain": [
       "   col1  col2      col3  col4 col5  col4_4 col6 col6_6\n",
       "0     1    45  harshith     1    h       1    h      h\n",
       "1     2    56         D     4    D       4    z      z\n",
       "2     3    67       rak     9    r       9    z      z\n",
       "3     4    34       hem    16    h      16    h      h\n",
       "4     5    34       frd    25    f      25    z      z"
      ]
     },
     "execution_count": 37,
     "metadata": {},
     "output_type": "execute_result"
    }
   ],
   "source": [
    "df"
   ]
  },
  {
   "cell_type": "code",
   "execution_count": 38,
   "id": "91760f39",
   "metadata": {},
   "outputs": [],
   "source": [
    "df['col7']=df['col3'].apply(len)"
   ]
  },
  {
   "cell_type": "code",
   "execution_count": 39,
   "id": "630d2a89",
   "metadata": {},
   "outputs": [
    {
     "data": {
      "text/html": [
       "<div>\n",
       "<style scoped>\n",
       "    .dataframe tbody tr th:only-of-type {\n",
       "        vertical-align: middle;\n",
       "    }\n",
       "\n",
       "    .dataframe tbody tr th {\n",
       "        vertical-align: top;\n",
       "    }\n",
       "\n",
       "    .dataframe thead th {\n",
       "        text-align: right;\n",
       "    }\n",
       "</style>\n",
       "<table border=\"1\" class=\"dataframe\">\n",
       "  <thead>\n",
       "    <tr style=\"text-align: right;\">\n",
       "      <th></th>\n",
       "      <th>col1</th>\n",
       "      <th>col2</th>\n",
       "      <th>col3</th>\n",
       "      <th>col4</th>\n",
       "      <th>col5</th>\n",
       "      <th>col4_4</th>\n",
       "      <th>col6</th>\n",
       "      <th>col6_6</th>\n",
       "      <th>col7</th>\n",
       "    </tr>\n",
       "  </thead>\n",
       "  <tbody>\n",
       "    <tr>\n",
       "      <th>0</th>\n",
       "      <td>1</td>\n",
       "      <td>45</td>\n",
       "      <td>harshith</td>\n",
       "      <td>1</td>\n",
       "      <td>h</td>\n",
       "      <td>1</td>\n",
       "      <td>h</td>\n",
       "      <td>h</td>\n",
       "      <td>8</td>\n",
       "    </tr>\n",
       "    <tr>\n",
       "      <th>1</th>\n",
       "      <td>2</td>\n",
       "      <td>56</td>\n",
       "      <td>D</td>\n",
       "      <td>4</td>\n",
       "      <td>D</td>\n",
       "      <td>4</td>\n",
       "      <td>z</td>\n",
       "      <td>z</td>\n",
       "      <td>1</td>\n",
       "    </tr>\n",
       "    <tr>\n",
       "      <th>2</th>\n",
       "      <td>3</td>\n",
       "      <td>67</td>\n",
       "      <td>rak</td>\n",
       "      <td>9</td>\n",
       "      <td>r</td>\n",
       "      <td>9</td>\n",
       "      <td>z</td>\n",
       "      <td>z</td>\n",
       "      <td>3</td>\n",
       "    </tr>\n",
       "    <tr>\n",
       "      <th>3</th>\n",
       "      <td>4</td>\n",
       "      <td>34</td>\n",
       "      <td>hem</td>\n",
       "      <td>16</td>\n",
       "      <td>h</td>\n",
       "      <td>16</td>\n",
       "      <td>h</td>\n",
       "      <td>h</td>\n",
       "      <td>3</td>\n",
       "    </tr>\n",
       "    <tr>\n",
       "      <th>4</th>\n",
       "      <td>5</td>\n",
       "      <td>34</td>\n",
       "      <td>frd</td>\n",
       "      <td>25</td>\n",
       "      <td>f</td>\n",
       "      <td>25</td>\n",
       "      <td>z</td>\n",
       "      <td>z</td>\n",
       "      <td>3</td>\n",
       "    </tr>\n",
       "  </tbody>\n",
       "</table>\n",
       "</div>"
      ],
      "text/plain": [
       "   col1  col2      col3  col4 col5  col4_4 col6 col6_6  col7\n",
       "0     1    45  harshith     1    h       1    h      h     8\n",
       "1     2    56         D     4    D       4    z      z     1\n",
       "2     3    67       rak     9    r       9    z      z     3\n",
       "3     4    34       hem    16    h      16    h      h     3\n",
       "4     5    34       frd    25    f      25    z      z     3"
      ]
     },
     "execution_count": 39,
     "metadata": {},
     "output_type": "execute_result"
    }
   ],
   "source": [
    "df"
   ]
  },
  {
   "cell_type": "code",
   "execution_count": 40,
   "id": "6d67c591",
   "metadata": {},
   "outputs": [],
   "source": [
    "import math"
   ]
  },
  {
   "cell_type": "code",
   "execution_count": 45,
   "id": "8b98e26d",
   "metadata": {},
   "outputs": [],
   "source": [
    "df['col8']=df['col2'].apply(math.log)"
   ]
  },
  {
   "cell_type": "code",
   "execution_count": 46,
   "id": "6f94fb2c",
   "metadata": {},
   "outputs": [
    {
     "data": {
      "text/html": [
       "<div>\n",
       "<style scoped>\n",
       "    .dataframe tbody tr th:only-of-type {\n",
       "        vertical-align: middle;\n",
       "    }\n",
       "\n",
       "    .dataframe tbody tr th {\n",
       "        vertical-align: top;\n",
       "    }\n",
       "\n",
       "    .dataframe thead th {\n",
       "        text-align: right;\n",
       "    }\n",
       "</style>\n",
       "<table border=\"1\" class=\"dataframe\">\n",
       "  <thead>\n",
       "    <tr style=\"text-align: right;\">\n",
       "      <th></th>\n",
       "      <th>col1</th>\n",
       "      <th>col2</th>\n",
       "      <th>col3</th>\n",
       "      <th>col4</th>\n",
       "      <th>col5</th>\n",
       "      <th>col4_4</th>\n",
       "      <th>col6</th>\n",
       "      <th>col6_6</th>\n",
       "      <th>col7</th>\n",
       "      <th>col8</th>\n",
       "    </tr>\n",
       "  </thead>\n",
       "  <tbody>\n",
       "    <tr>\n",
       "      <th>0</th>\n",
       "      <td>1</td>\n",
       "      <td>45</td>\n",
       "      <td>harshith</td>\n",
       "      <td>1</td>\n",
       "      <td>h</td>\n",
       "      <td>1</td>\n",
       "      <td>h</td>\n",
       "      <td>h</td>\n",
       "      <td>8</td>\n",
       "      <td>3.806662</td>\n",
       "    </tr>\n",
       "    <tr>\n",
       "      <th>1</th>\n",
       "      <td>2</td>\n",
       "      <td>56</td>\n",
       "      <td>D</td>\n",
       "      <td>4</td>\n",
       "      <td>D</td>\n",
       "      <td>4</td>\n",
       "      <td>z</td>\n",
       "      <td>z</td>\n",
       "      <td>1</td>\n",
       "      <td>4.025352</td>\n",
       "    </tr>\n",
       "    <tr>\n",
       "      <th>2</th>\n",
       "      <td>3</td>\n",
       "      <td>67</td>\n",
       "      <td>rak</td>\n",
       "      <td>9</td>\n",
       "      <td>r</td>\n",
       "      <td>9</td>\n",
       "      <td>z</td>\n",
       "      <td>z</td>\n",
       "      <td>3</td>\n",
       "      <td>4.204693</td>\n",
       "    </tr>\n",
       "    <tr>\n",
       "      <th>3</th>\n",
       "      <td>4</td>\n",
       "      <td>34</td>\n",
       "      <td>hem</td>\n",
       "      <td>16</td>\n",
       "      <td>h</td>\n",
       "      <td>16</td>\n",
       "      <td>h</td>\n",
       "      <td>h</td>\n",
       "      <td>3</td>\n",
       "      <td>3.526361</td>\n",
       "    </tr>\n",
       "    <tr>\n",
       "      <th>4</th>\n",
       "      <td>5</td>\n",
       "      <td>34</td>\n",
       "      <td>frd</td>\n",
       "      <td>25</td>\n",
       "      <td>f</td>\n",
       "      <td>25</td>\n",
       "      <td>z</td>\n",
       "      <td>z</td>\n",
       "      <td>3</td>\n",
       "      <td>3.526361</td>\n",
       "    </tr>\n",
       "  </tbody>\n",
       "</table>\n",
       "</div>"
      ],
      "text/plain": [
       "   col1  col2      col3  col4 col5  col4_4 col6 col6_6  col7      col8\n",
       "0     1    45  harshith     1    h       1    h      h     8  3.806662\n",
       "1     2    56         D     4    D       4    z      z     1  4.025352\n",
       "2     3    67       rak     9    r       9    z      z     3  4.204693\n",
       "3     4    34       hem    16    h      16    h      h     3  3.526361\n",
       "4     5    34       frd    25    f      25    z      z     3  3.526361"
      ]
     },
     "execution_count": 46,
     "metadata": {},
     "output_type": "execute_result"
    }
   ],
   "source": [
    "df"
   ]
  },
  {
   "cell_type": "code",
   "execution_count": 3,
   "id": "544d4185",
   "metadata": {},
   "outputs": [],
   "source": [
    "#numpy\n",
    "import numpy as np"
   ]
  },
  {
   "cell_type": "code",
   "execution_count": 4,
   "id": "d4a3779b",
   "metadata": {},
   "outputs": [],
   "source": [
    " l=[\"sudh\",1,2,3,4]"
   ]
  },
  {
   "cell_type": "code",
   "execution_count": 55,
   "id": "025411cb",
   "metadata": {},
   "outputs": [
    {
     "data": {
      "text/plain": [
       "list"
      ]
     },
     "execution_count": 55,
     "metadata": {},
     "output_type": "execute_result"
    }
   ],
   "source": [
    "type(l)"
   ]
  },
  {
   "cell_type": "code",
   "execution_count": 56,
   "id": "45487f65",
   "metadata": {},
   "outputs": [
    {
     "data": {
      "text/plain": [
       "array(['sudh', '1', '2', '3', '4'], dtype='<U11')"
      ]
     },
     "execution_count": 56,
     "metadata": {},
     "output_type": "execute_result"
    }
   ],
   "source": [
    "np.array(l)"
   ]
  },
  {
   "cell_type": "code",
   "execution_count": 57,
   "id": "29f69921",
   "metadata": {},
   "outputs": [
    {
     "data": {
      "text/plain": [
       "numpy.ndarray"
      ]
     },
     "execution_count": 57,
     "metadata": {},
     "output_type": "execute_result"
    }
   ],
   "source": [
    "type(np.array(l))"
   ]
  },
  {
   "cell_type": "code",
   "execution_count": 64,
   "id": "7dbe9097",
   "metadata": {},
   "outputs": [],
   "source": [
    "a1=np.array([3,4,5,6,3.0])"
   ]
  },
  {
   "cell_type": "code",
   "execution_count": 61,
   "id": "cbae6b64",
   "metadata": {},
   "outputs": [],
   "source": [
    "a=np.array([[1,2],[3,4]])"
   ]
  },
  {
   "cell_type": "code",
   "execution_count": 62,
   "id": "0ebbc2cb",
   "metadata": {},
   "outputs": [
    {
     "data": {
      "text/plain": [
       "array([[1, 2],\n",
       "       [3, 4]])"
      ]
     },
     "execution_count": 62,
     "metadata": {},
     "output_type": "execute_result"
    }
   ],
   "source": [
    "a"
   ]
  },
  {
   "cell_type": "code",
   "execution_count": 63,
   "id": "08ca581c",
   "metadata": {},
   "outputs": [
    {
     "data": {
      "text/plain": [
       "4"
      ]
     },
     "execution_count": 63,
     "metadata": {},
     "output_type": "execute_result"
    }
   ],
   "source": [
    "a[1][1]"
   ]
  },
  {
   "cell_type": "code",
   "execution_count": 65,
   "id": "9f1a87cf",
   "metadata": {},
   "outputs": [
    {
     "data": {
      "text/plain": [
       "array([3., 4., 5., 6., 3.])"
      ]
     },
     "execution_count": 65,
     "metadata": {},
     "output_type": "execute_result"
    }
   ],
   "source": [
    "a1"
   ]
  },
  {
   "cell_type": "code",
   "execution_count": 66,
   "id": "923c5b30",
   "metadata": {},
   "outputs": [
    {
     "data": {
      "text/plain": [
       "4.0"
      ]
     },
     "execution_count": 66,
     "metadata": {},
     "output_type": "execute_result"
    }
   ],
   "source": [
    "a1[1]"
   ]
  },
  {
   "cell_type": "code",
   "execution_count": 73,
   "id": "d4a56784",
   "metadata": {},
   "outputs": [],
   "source": [
    "a2=np.array([1,2,3,4],ndmin=4)"
   ]
  },
  {
   "cell_type": "markdown",
   "id": "34f4ec4c",
   "metadata": {},
   "source": [
    "## "
   ]
  },
  {
   "cell_type": "code",
   "execution_count": 74,
   "id": "ba2abf7b",
   "metadata": {},
   "outputs": [
    {
     "data": {
      "text/plain": [
       "array([[[[1, 2, 3, 4]]]])"
      ]
     },
     "execution_count": 74,
     "metadata": {},
     "output_type": "execute_result"
    }
   ],
   "source": [
    "a2"
   ]
  },
  {
   "cell_type": "code",
   "execution_count": 78,
   "id": "ab269e49",
   "metadata": {},
   "outputs": [
    {
     "data": {
      "text/plain": [
       "1"
      ]
     },
     "execution_count": 78,
     "metadata": {},
     "output_type": "execute_result"
    }
   ],
   "source": [
    "a2[0][0][0][0]"
   ]
  },
  {
   "cell_type": "code",
   "execution_count": 79,
   "id": "ec078a6f",
   "metadata": {},
   "outputs": [
    {
     "data": {
      "text/plain": [
       "array([[1, 2],\n",
       "       [3, 4]])"
      ]
     },
     "execution_count": 79,
     "metadata": {},
     "output_type": "execute_result"
    }
   ],
   "source": [
    "a"
   ]
  },
  {
   "cell_type": "code",
   "execution_count": 80,
   "id": "d3be775a",
   "metadata": {},
   "outputs": [
    {
     "data": {
      "text/plain": [
       "array([1, 2, 3, 4, 5])"
      ]
     },
     "execution_count": 80,
     "metadata": {},
     "output_type": "execute_result"
    }
   ],
   "source": [
    "np.asarray([1,2,3,4,5])"
   ]
  },
  {
   "cell_type": "code",
   "execution_count": 81,
   "id": "516d65ec",
   "metadata": {},
   "outputs": [
    {
     "data": {
      "text/plain": [
       "array([1, 2, 3, 4, 5])"
      ]
     },
     "execution_count": 81,
     "metadata": {},
     "output_type": "execute_result"
    }
   ],
   "source": [
    "np.asanyarray([1,2,3,4,5])"
   ]
  },
  {
   "cell_type": "code",
   "execution_count": 82,
   "id": "6f6a2344",
   "metadata": {},
   "outputs": [
    {
     "data": {
      "text/plain": [
       "matrix([[1, 2, 3, 4, 5]])"
      ]
     },
     "execution_count": 82,
     "metadata": {},
     "output_type": "execute_result"
    }
   ],
   "source": [
    "np.mat([1,2,3,4,5]) #2D is default"
   ]
  },
  {
   "cell_type": "code",
   "execution_count": 83,
   "id": "be93631c",
   "metadata": {},
   "outputs": [
    {
     "data": {
      "text/plain": [
       "array([[1, 2],\n",
       "       [3, 4]])"
      ]
     },
     "execution_count": 83,
     "metadata": {},
     "output_type": "execute_result"
    }
   ],
   "source": [
    "a"
   ]
  },
  {
   "cell_type": "code",
   "execution_count": 84,
   "id": "80f119fe",
   "metadata": {},
   "outputs": [],
   "source": [
    "#matrix is the child class of array"
   ]
  },
  {
   "cell_type": "code",
   "execution_count": 85,
   "id": "ad4379bc",
   "metadata": {},
   "outputs": [],
   "source": [
    "a=[1,2,3,4]"
   ]
  },
  {
   "cell_type": "code",
   "execution_count": 86,
   "id": "7e8079c2",
   "metadata": {},
   "outputs": [
    {
     "data": {
      "text/plain": [
       "array([1, 2, 3, 4])"
      ]
     },
     "execution_count": 86,
     "metadata": {},
     "output_type": "execute_result"
    }
   ],
   "source": [
    "np.asanyarray(a)"
   ]
  },
  {
   "cell_type": "code",
   "execution_count": 87,
   "id": "093be416",
   "metadata": {},
   "outputs": [
    {
     "data": {
      "text/plain": [
       "array([1, 2, 3, 4])"
      ]
     },
     "execution_count": 87,
     "metadata": {},
     "output_type": "execute_result"
    }
   ],
   "source": [
    "np.asarray(a)"
   ]
  },
  {
   "cell_type": "code",
   "execution_count": 88,
   "id": "8afd7668",
   "metadata": {},
   "outputs": [
    {
     "data": {
      "text/plain": [
       "matrix([[1, 2, 3, 4]])"
      ]
     },
     "execution_count": 88,
     "metadata": {},
     "output_type": "execute_result"
    }
   ],
   "source": [
    "np.mat(a)"
   ]
  },
  {
   "cell_type": "code",
   "execution_count": 89,
   "id": "f4c166ca",
   "metadata": {},
   "outputs": [
    {
     "data": {
      "text/plain": [
       "matrix([[1, 2, 3, 4]])"
      ]
     },
     "execution_count": 89,
     "metadata": {},
     "output_type": "execute_result"
    }
   ],
   "source": [
    "np.asanyarray(np.mat(a))"
   ]
  },
  {
   "cell_type": "code",
   "execution_count": 90,
   "id": "3baaab58",
   "metadata": {},
   "outputs": [
    {
     "data": {
      "text/plain": [
       "array([[ True, False, False],\n",
       "       [False,  True, False],\n",
       "       [False, False,  True]])"
      ]
     },
     "execution_count": 90,
     "metadata": {},
     "output_type": "execute_result"
    }
   ],
   "source": [
    "np.fromfunction(lambda i,j : i==j, (3,3))"
   ]
  },
  {
   "cell_type": "code",
   "execution_count": 92,
   "id": "5d4dc798",
   "metadata": {},
   "outputs": [
    {
     "data": {
      "text/plain": [
       "array([[0, 0, 0, 0],\n",
       "       [0, 1, 2, 3],\n",
       "       [0, 2, 4, 6],\n",
       "       [0, 3, 6, 9]])"
      ]
     },
     "execution_count": 92,
     "metadata": {},
     "output_type": "execute_result"
    }
   ],
   "source": [
    "np.fromfunction(lambda i, j :i*j, (4,4),dtype=int)"
   ]
  },
  {
   "cell_type": "code",
   "execution_count": 8,
   "id": "8e304bb0",
   "metadata": {},
   "outputs": [],
   "source": [
    "a=np.fromfunction(lambda i, j, Z :i*j*Z, (4,3,2),dtype=int)"
   ]
  },
  {
   "cell_type": "code",
   "execution_count": 9,
   "id": "e6acc1c7",
   "metadata": {},
   "outputs": [
    {
     "data": {
      "text/plain": [
       "array([[[0, 0],\n",
       "        [0, 0],\n",
       "        [0, 0]],\n",
       "\n",
       "       [[0, 0],\n",
       "        [0, 1],\n",
       "        [0, 2]],\n",
       "\n",
       "       [[0, 0],\n",
       "        [0, 2],\n",
       "        [0, 4]],\n",
       "\n",
       "       [[0, 0],\n",
       "        [0, 3],\n",
       "        [0, 6]]])"
      ]
     },
     "execution_count": 9,
     "metadata": {},
     "output_type": "execute_result"
    }
   ],
   "source": [
    "a"
   ]
  },
  {
   "cell_type": "code",
   "execution_count": 11,
   "id": "5eac6f5d",
   "metadata": {},
   "outputs": [
    {
     "data": {
      "text/plain": [
       "3"
      ]
     },
     "execution_count": 11,
     "metadata": {},
     "output_type": "execute_result"
    }
   ],
   "source": [
    "a.ndim"
   ]
  },
  {
   "cell_type": "code",
   "execution_count": 12,
   "id": "7bbfe0df",
   "metadata": {},
   "outputs": [
    {
     "data": {
      "text/plain": [
       "24"
      ]
     },
     "execution_count": 12,
     "metadata": {},
     "output_type": "execute_result"
    }
   ],
   "source": [
    "a.size"
   ]
  },
  {
   "cell_type": "code",
   "execution_count": 13,
   "id": "10a58552",
   "metadata": {},
   "outputs": [
    {
     "data": {
      "text/plain": [
       "(4, 3, 2)"
      ]
     },
     "execution_count": 13,
     "metadata": {},
     "output_type": "execute_result"
    }
   ],
   "source": [
    "a.shape"
   ]
  },
  {
   "cell_type": "code",
   "execution_count": 14,
   "id": "1820177d",
   "metadata": {},
   "outputs": [
    {
     "data": {
      "text/plain": [
       "dtype('int32')"
      ]
     },
     "execution_count": 14,
     "metadata": {},
     "output_type": "execute_result"
    }
   ],
   "source": [
    "a.dtype"
   ]
  },
  {
   "cell_type": "code",
   "execution_count": 24,
   "id": "58d3750b",
   "metadata": {},
   "outputs": [],
   "source": [
    "#2D\n",
    "a=np.fromfunction(lambda i, j :i*j, (4,3),dtype=int)"
   ]
  },
  {
   "cell_type": "code",
   "execution_count": 17,
   "id": "8553a891",
   "metadata": {},
   "outputs": [
    {
     "data": {
      "text/html": [
       "<div>\n",
       "<style scoped>\n",
       "    .dataframe tbody tr th:only-of-type {\n",
       "        vertical-align: middle;\n",
       "    }\n",
       "\n",
       "    .dataframe tbody tr th {\n",
       "        vertical-align: top;\n",
       "    }\n",
       "\n",
       "    .dataframe thead th {\n",
       "        text-align: right;\n",
       "    }\n",
       "</style>\n",
       "<table border=\"1\" class=\"dataframe\">\n",
       "  <thead>\n",
       "    <tr style=\"text-align: right;\">\n",
       "      <th></th>\n",
       "      <th>0</th>\n",
       "      <th>1</th>\n",
       "      <th>2</th>\n",
       "    </tr>\n",
       "  </thead>\n",
       "  <tbody>\n",
       "    <tr>\n",
       "      <th>0</th>\n",
       "      <td>0</td>\n",
       "      <td>0</td>\n",
       "      <td>0</td>\n",
       "    </tr>\n",
       "    <tr>\n",
       "      <th>1</th>\n",
       "      <td>0</td>\n",
       "      <td>1</td>\n",
       "      <td>2</td>\n",
       "    </tr>\n",
       "    <tr>\n",
       "      <th>2</th>\n",
       "      <td>0</td>\n",
       "      <td>2</td>\n",
       "      <td>4</td>\n",
       "    </tr>\n",
       "    <tr>\n",
       "      <th>3</th>\n",
       "      <td>0</td>\n",
       "      <td>3</td>\n",
       "      <td>6</td>\n",
       "    </tr>\n",
       "  </tbody>\n",
       "</table>\n",
       "</div>"
      ],
      "text/plain": [
       "   0  1  2\n",
       "0  0  0  0\n",
       "1  0  1  2\n",
       "2  0  2  4\n",
       "3  0  3  6"
      ]
     },
     "execution_count": 17,
     "metadata": {},
     "output_type": "execute_result"
    }
   ],
   "source": [
    "pd.DataFrame(a)"
   ]
  },
  {
   "cell_type": "code",
   "execution_count": 18,
   "id": "f27a2539",
   "metadata": {},
   "outputs": [
    {
     "data": {
      "text/plain": [
       "array([[0.46869117, 0.88765735, 0.40569464, 0.79811017],\n",
       "       [0.15631838, 0.11607695, 0.28160042, 0.4326837 ],\n",
       "       [0.23301666, 0.5998527 , 0.38354239, 0.59516163],\n",
       "       [0.25395854, 0.50598895, 0.93807482, 0.63197493],\n",
       "       [0.57962651, 0.58167247, 0.00411607, 0.17391073],\n",
       "       [0.07330436, 0.65033913, 0.72857686, 0.40152551],\n",
       "       [0.80321685, 0.42522275, 0.10471291, 0.723446  ],\n",
       "       [0.5043925 , 0.38229311, 0.1913812 , 0.23934133],\n",
       "       [0.45362081, 0.67697084, 0.89307866, 0.70039224],\n",
       "       [0.81794707, 0.13228207, 0.72767593, 0.52569463],\n",
       "       [0.1091675 , 0.71201987, 0.58652601, 0.03972088],\n",
       "       [0.34384445, 0.34717865, 0.46144848, 0.50230672],\n",
       "       [0.54471497, 0.87175754, 0.90018582, 0.69169346],\n",
       "       [0.93793828, 0.15955205, 0.76111319, 0.3272005 ],\n",
       "       [0.1060881 , 0.42290923, 0.33418284, 0.4817334 ],\n",
       "       [0.38714514, 0.09031765, 0.84670991, 0.4531882 ],\n",
       "       [0.84261174, 0.83727202, 0.0676316 , 0.04088686],\n",
       "       [0.67778613, 0.37018093, 0.89581344, 0.29788246],\n",
       "       [0.9571113 , 0.03142935, 0.09502874, 0.950763  ],\n",
       "       [0.17088157, 0.83497114, 0.97675266, 0.37993339],\n",
       "       [0.06344138, 0.09388482, 0.9889552 , 0.76845837],\n",
       "       [0.38895733, 0.12916205, 0.93561496, 0.01035789],\n",
       "       [0.7192996 , 0.42600974, 0.41120865, 0.08880817],\n",
       "       [0.88983934, 0.78796642, 0.14677716, 0.35277865],\n",
       "       [0.55768434, 0.08793604, 0.2287829 , 0.57255983],\n",
       "       [0.17540756, 0.26063562, 0.6964725 , 0.32911205],\n",
       "       [0.58487958, 0.15727211, 0.22327067, 0.13355403],\n",
       "       [0.90734969, 0.492826  , 0.13917798, 0.84621237],\n",
       "       [0.15941394, 0.97187705, 0.4675143 , 0.73256542],\n",
       "       [0.49758918, 0.27674189, 0.88755009, 0.30222703],\n",
       "       [0.0675619 , 0.91357516, 0.46429625, 0.27291897],\n",
       "       [0.44473366, 0.67132194, 0.52573615, 0.41970913],\n",
       "       [0.49621457, 0.80242861, 0.75494107, 0.29006196],\n",
       "       [0.02952314, 0.30285795, 0.85825422, 0.28785118],\n",
       "       [0.70549661, 0.31835722, 0.08923712, 0.57138642],\n",
       "       [0.79058466, 0.91936836, 0.70763618, 0.49325209],\n",
       "       [0.19502905, 0.71858111, 0.64676414, 0.41138298],\n",
       "       [0.66265876, 0.7780918 , 0.5694111 , 0.31925247],\n",
       "       [0.5555121 , 0.71904614, 0.44163028, 0.54958773],\n",
       "       [0.19439319, 0.71153143, 0.0921859 , 0.20919246],\n",
       "       [0.78755411, 0.9174682 , 0.81179674, 0.58969482],\n",
       "       [0.37409598, 0.90322704, 0.87824609, 0.69998307],\n",
       "       [0.48160138, 0.10777244, 0.31511587, 0.78612662],\n",
       "       [0.40225824, 0.89180258, 0.12509116, 0.27284496],\n",
       "       [0.2185096 , 0.71343795, 0.41058621, 0.97308143],\n",
       "       [0.06478328, 0.7721495 , 0.09635227, 0.30112105],\n",
       "       [0.55697128, 0.28385568, 0.87351894, 0.70464569],\n",
       "       [0.1920265 , 0.54744681, 0.38164379, 0.45604937],\n",
       "       [0.4306004 , 0.3701742 , 0.72024782, 0.73251344],\n",
       "       [0.03205162, 0.34181697, 0.21187024, 0.2086053 ],\n",
       "       [0.15170441, 0.21603936, 0.31367305, 0.5401236 ],\n",
       "       [0.81133648, 0.32159989, 0.63392757, 0.67357427],\n",
       "       [0.52304809, 0.03882597, 0.42110057, 0.7370872 ],\n",
       "       [0.1681527 , 0.0581482 , 0.54497735, 0.71531094],\n",
       "       [0.29568744, 0.2443375 , 0.99922121, 0.00937612],\n",
       "       [0.15041055, 0.08001284, 0.35311796, 0.18847043],\n",
       "       [0.53160109, 0.1934403 , 0.26466137, 0.21925987],\n",
       "       [0.18242707, 0.80023348, 0.07521623, 0.83035936],\n",
       "       [0.21544796, 0.59695007, 0.29307098, 0.44664465],\n",
       "       [0.61663628, 0.69269036, 0.8836343 , 0.88445098],\n",
       "       [0.33325448, 0.35025787, 0.40367829, 0.28245015],\n",
       "       [0.71283425, 0.0473503 , 0.41868146, 0.8328075 ],\n",
       "       [0.27381644, 0.14481578, 0.43680491, 0.64917643],\n",
       "       [0.4576164 , 0.93133112, 0.3797674 , 0.9639025 ],\n",
       "       [0.04682288, 0.19231797, 0.23354037, 0.75396664],\n",
       "       [0.91998687, 0.24613138, 0.79560894, 0.38365564],\n",
       "       [0.2293293 , 0.58663641, 0.98184481, 0.81192469],\n",
       "       [0.05947821, 0.01872988, 0.96896935, 0.41857213],\n",
       "       [0.57196816, 0.74847208, 0.61208484, 0.35223117],\n",
       "       [0.54120994, 0.16713583, 0.00434303, 0.7437143 ],\n",
       "       [0.96726458, 0.36625483, 0.80489268, 0.93723634],\n",
       "       [0.40649582, 0.66228772, 0.54244459, 0.08596215],\n",
       "       [0.29496674, 0.84422857, 0.29700275, 0.03440104],\n",
       "       [0.23168755, 0.79631473, 0.99223636, 0.03077315],\n",
       "       [0.97233893, 0.86400572, 0.03514091, 0.21295707],\n",
       "       [0.63499932, 0.06022862, 0.69395874, 0.9356648 ],\n",
       "       [0.1044924 , 0.64336896, 0.55798638, 0.67379735],\n",
       "       [0.67371122, 0.61112866, 0.19027016, 0.10692792],\n",
       "       [0.91064824, 0.58213133, 0.10999586, 0.67129031],\n",
       "       [0.89057652, 0.37667794, 0.18610705, 0.77491529],\n",
       "       [0.95802742, 0.57440982, 0.46687132, 0.18071466],\n",
       "       [0.37598734, 0.40081892, 0.93229445, 0.52713667],\n",
       "       [0.91094589, 0.23777289, 0.0267955 , 0.4079574 ],\n",
       "       [0.07867932, 0.67682021, 0.31664597, 0.73276882],\n",
       "       [0.63400031, 0.08479365, 0.4131407 , 0.99932668],\n",
       "       [0.3078738 , 0.86511774, 0.86168421, 0.87201373],\n",
       "       [0.40904632, 0.42423232, 0.21944686, 0.79612349],\n",
       "       [0.19115959, 0.24764363, 0.39688138, 0.94791229],\n",
       "       [0.21164387, 0.62981286, 0.34744147, 0.31390202],\n",
       "       [0.87149   , 0.47180336, 0.38564056, 0.86200764],\n",
       "       [0.74115623, 0.36641255, 0.92298793, 0.13690324],\n",
       "       [0.10291119, 0.9157657 , 0.86149011, 0.7671074 ],\n",
       "       [0.2187122 , 0.10623222, 0.79549806, 0.80867919],\n",
       "       [0.59332529, 0.07983643, 0.98615528, 0.1377262 ],\n",
       "       [0.25024922, 0.9310933 , 0.50126231, 0.68568595],\n",
       "       [0.11574407, 0.16082294, 0.99485117, 0.62624687],\n",
       "       [0.52109147, 0.86496171, 0.23257253, 0.48925625],\n",
       "       [0.64542876, 0.14566983, 0.68370496, 0.22608143],\n",
       "       [0.19323519, 0.95643197, 0.48705317, 0.14271461],\n",
       "       [0.24775783, 0.07382903, 0.6739807 , 0.24716035]])"
      ]
     },
     "execution_count": 18,
     "metadata": {},
     "output_type": "execute_result"
    }
   ],
   "source": [
    "np.random.rand(100,4)"
   ]
  },
  {
   "cell_type": "code",
   "execution_count": 19,
   "id": "76e3e64a",
   "metadata": {},
   "outputs": [
    {
     "data": {
      "text/plain": [
       "34"
      ]
     },
     "execution_count": 19,
     "metadata": {},
     "output_type": "execute_result"
    }
   ],
   "source": [
    "np.random.randint(4,50)"
   ]
  },
  {
   "cell_type": "code",
   "execution_count": 23,
   "id": "e5135c08",
   "metadata": {},
   "outputs": [
    {
     "data": {
      "text/html": [
       "<div>\n",
       "<style scoped>\n",
       "    .dataframe tbody tr th:only-of-type {\n",
       "        vertical-align: middle;\n",
       "    }\n",
       "\n",
       "    .dataframe tbody tr th {\n",
       "        vertical-align: top;\n",
       "    }\n",
       "\n",
       "    .dataframe thead th {\n",
       "        text-align: right;\n",
       "    }\n",
       "</style>\n",
       "<table border=\"1\" class=\"dataframe\">\n",
       "  <thead>\n",
       "    <tr style=\"text-align: right;\">\n",
       "      <th></th>\n",
       "      <th>0</th>\n",
       "      <th>1</th>\n",
       "      <th>2</th>\n",
       "      <th>3</th>\n",
       "      <th>4</th>\n",
       "    </tr>\n",
       "  </thead>\n",
       "  <tbody>\n",
       "    <tr>\n",
       "      <th>0</th>\n",
       "      <td>-0.272422</td>\n",
       "      <td>0.349040</td>\n",
       "      <td>1.319326</td>\n",
       "      <td>-0.103675</td>\n",
       "      <td>0.868490</td>\n",
       "    </tr>\n",
       "    <tr>\n",
       "      <th>1</th>\n",
       "      <td>0.212745</td>\n",
       "      <td>-0.797088</td>\n",
       "      <td>0.026058</td>\n",
       "      <td>-0.883958</td>\n",
       "      <td>-0.301982</td>\n",
       "    </tr>\n",
       "    <tr>\n",
       "      <th>2</th>\n",
       "      <td>1.071080</td>\n",
       "      <td>-1.092791</td>\n",
       "      <td>1.036001</td>\n",
       "      <td>1.646275</td>\n",
       "      <td>-0.097784</td>\n",
       "    </tr>\n",
       "    <tr>\n",
       "      <th>3</th>\n",
       "      <td>-1.224088</td>\n",
       "      <td>-1.217787</td>\n",
       "      <td>-0.558640</td>\n",
       "      <td>1.401823</td>\n",
       "      <td>-0.413036</td>\n",
       "    </tr>\n",
       "  </tbody>\n",
       "</table>\n",
       "</div>"
      ],
      "text/plain": [
       "          0         1         2         3         4\n",
       "0 -0.272422  0.349040  1.319326 -0.103675  0.868490\n",
       "1  0.212745 -0.797088  0.026058 -0.883958 -0.301982\n",
       "2  1.071080 -1.092791  1.036001  1.646275 -0.097784\n",
       "3 -1.224088 -1.217787 -0.558640  1.401823 -0.413036"
      ]
     },
     "execution_count": 23,
     "metadata": {},
     "output_type": "execute_result"
    }
   ],
   "source": [
    "pd.DataFrame(np.random.randn(4,5))"
   ]
  },
  {
   "cell_type": "code",
   "execution_count": 25,
   "id": "9c431b5d",
   "metadata": {},
   "outputs": [],
   "source": [
    "#3d\n",
    "a=np.fromfunction(lambda i, j, Z :i*j*Z, (4,3,2),dtype=int)"
   ]
  },
  {
   "cell_type": "code",
   "execution_count": 29,
   "id": "5e349650",
   "metadata": {},
   "outputs": [
    {
     "data": {
      "text/html": [
       "<div>\n",
       "<style scoped>\n",
       "    .dataframe tbody tr th:only-of-type {\n",
       "        vertical-align: middle;\n",
       "    }\n",
       "\n",
       "    .dataframe tbody tr th {\n",
       "        vertical-align: top;\n",
       "    }\n",
       "\n",
       "    .dataframe thead th {\n",
       "        text-align: right;\n",
       "    }\n",
       "</style>\n",
       "<table border=\"1\" class=\"dataframe\">\n",
       "  <thead>\n",
       "    <tr style=\"text-align: right;\">\n",
       "      <th></th>\n",
       "      <th>0</th>\n",
       "      <th>1</th>\n",
       "      <th>2</th>\n",
       "      <th>3</th>\n",
       "    </tr>\n",
       "  </thead>\n",
       "  <tbody>\n",
       "    <tr>\n",
       "      <th>0</th>\n",
       "      <td>0</td>\n",
       "      <td>0</td>\n",
       "      <td>0</td>\n",
       "      <td>0</td>\n",
       "    </tr>\n",
       "    <tr>\n",
       "      <th>1</th>\n",
       "      <td>0</td>\n",
       "      <td>0</td>\n",
       "      <td>0</td>\n",
       "      <td>0</td>\n",
       "    </tr>\n",
       "    <tr>\n",
       "      <th>2</th>\n",
       "      <td>0</td>\n",
       "      <td>1</td>\n",
       "      <td>0</td>\n",
       "      <td>2</td>\n",
       "    </tr>\n",
       "    <tr>\n",
       "      <th>3</th>\n",
       "      <td>0</td>\n",
       "      <td>0</td>\n",
       "      <td>0</td>\n",
       "      <td>2</td>\n",
       "    </tr>\n",
       "    <tr>\n",
       "      <th>4</th>\n",
       "      <td>0</td>\n",
       "      <td>4</td>\n",
       "      <td>0</td>\n",
       "      <td>0</td>\n",
       "    </tr>\n",
       "    <tr>\n",
       "      <th>5</th>\n",
       "      <td>0</td>\n",
       "      <td>3</td>\n",
       "      <td>0</td>\n",
       "      <td>6</td>\n",
       "    </tr>\n",
       "  </tbody>\n",
       "</table>\n",
       "</div>"
      ],
      "text/plain": [
       "   0  1  2  3\n",
       "0  0  0  0  0\n",
       "1  0  0  0  0\n",
       "2  0  1  0  2\n",
       "3  0  0  0  2\n",
       "4  0  4  0  0\n",
       "5  0  3  0  6"
      ]
     },
     "execution_count": 29,
     "metadata": {},
     "output_type": "execute_result"
    }
   ],
   "source": [
    "pd.DataFrame(a.reshape(6,4))"
   ]
  },
  {
   "cell_type": "code",
   "execution_count": 30,
   "id": "0a6adef5",
   "metadata": {},
   "outputs": [
    {
     "data": {
      "text/html": [
       "<div>\n",
       "<style scoped>\n",
       "    .dataframe tbody tr th:only-of-type {\n",
       "        vertical-align: middle;\n",
       "    }\n",
       "\n",
       "    .dataframe tbody tr th {\n",
       "        vertical-align: top;\n",
       "    }\n",
       "\n",
       "    .dataframe thead th {\n",
       "        text-align: right;\n",
       "    }\n",
       "</style>\n",
       "<table border=\"1\" class=\"dataframe\">\n",
       "  <thead>\n",
       "    <tr style=\"text-align: right;\">\n",
       "      <th></th>\n",
       "      <th>0</th>\n",
       "      <th>1</th>\n",
       "      <th>2</th>\n",
       "      <th>3</th>\n",
       "    </tr>\n",
       "  </thead>\n",
       "  <tbody>\n",
       "    <tr>\n",
       "      <th>0</th>\n",
       "      <td>0</td>\n",
       "      <td>0</td>\n",
       "      <td>0</td>\n",
       "      <td>0</td>\n",
       "    </tr>\n",
       "    <tr>\n",
       "      <th>1</th>\n",
       "      <td>0</td>\n",
       "      <td>0</td>\n",
       "      <td>0</td>\n",
       "      <td>0</td>\n",
       "    </tr>\n",
       "    <tr>\n",
       "      <th>2</th>\n",
       "      <td>0</td>\n",
       "      <td>1</td>\n",
       "      <td>0</td>\n",
       "      <td>2</td>\n",
       "    </tr>\n",
       "    <tr>\n",
       "      <th>3</th>\n",
       "      <td>0</td>\n",
       "      <td>0</td>\n",
       "      <td>0</td>\n",
       "      <td>2</td>\n",
       "    </tr>\n",
       "    <tr>\n",
       "      <th>4</th>\n",
       "      <td>0</td>\n",
       "      <td>4</td>\n",
       "      <td>0</td>\n",
       "      <td>0</td>\n",
       "    </tr>\n",
       "    <tr>\n",
       "      <th>5</th>\n",
       "      <td>0</td>\n",
       "      <td>3</td>\n",
       "      <td>0</td>\n",
       "      <td>6</td>\n",
       "    </tr>\n",
       "  </tbody>\n",
       "</table>\n",
       "</div>"
      ],
      "text/plain": [
       "   0  1  2  3\n",
       "0  0  0  0  0\n",
       "1  0  0  0  0\n",
       "2  0  1  0  2\n",
       "3  0  0  0  2\n",
       "4  0  4  0  0\n",
       "5  0  3  0  6"
      ]
     },
     "execution_count": 30,
     "metadata": {},
     "output_type": "execute_result"
    }
   ],
   "source": [
    "pd.DataFrame(a.reshape(6,-1))"
   ]
  },
  {
   "cell_type": "code",
   "execution_count": 31,
   "id": "9fab4456",
   "metadata": {},
   "outputs": [
    {
     "ename": "TypeError",
     "evalue": "'float' object cannot be interpreted as an integer",
     "output_type": "error",
     "traceback": [
      "\u001b[1;31m---------------------------------------------------------------------------\u001b[0m",
      "\u001b[1;31mTypeError\u001b[0m                                 Traceback (most recent call last)",
      "\u001b[1;32m~\\AppData\\Local\\Temp/ipykernel_28196/3893471412.py\u001b[0m in \u001b[0;36m<module>\u001b[1;34m\u001b[0m\n\u001b[1;32m----> 1\u001b[1;33m \u001b[0mlist\u001b[0m\u001b[1;33m(\u001b[0m\u001b[0mrange\u001b[0m\u001b[1;33m(\u001b[0m\u001b[1;36m4\u001b[0m\u001b[1;33m,\u001b[0m\u001b[1;36m10\u001b[0m\u001b[1;33m,\u001b[0m\u001b[1;36m.2\u001b[0m\u001b[1;33m)\u001b[0m\u001b[1;33m)\u001b[0m\u001b[1;33m\u001b[0m\u001b[1;33m\u001b[0m\u001b[0m\n\u001b[0m",
      "\u001b[1;31mTypeError\u001b[0m: 'float' object cannot be interpreted as an integer"
     ]
    }
   ],
   "source": [
    "list(range(4,10,.2))"
   ]
  },
  {
   "cell_type": "code",
   "execution_count": 34,
   "id": "ae089dfe",
   "metadata": {},
   "outputs": [],
   "source": [
    "a1=np.arange(4,10.5,.2)"
   ]
  },
  {
   "cell_type": "code",
   "execution_count": 35,
   "id": "a4d2bb9f",
   "metadata": {},
   "outputs": [
    {
     "data": {
      "text/plain": [
       "array([ 4. ,  4.2,  4.4,  4.6,  4.8,  5. ,  5.2,  5.4,  5.6,  5.8,  6. ,\n",
       "        6.2,  6.4,  6.6,  6.8,  7. ,  7.2,  7.4,  7.6,  7.8,  8. ,  8.2,\n",
       "        8.4,  8.6,  8.8,  9. ,  9.2,  9.4,  9.6,  9.8, 10. , 10.2, 10.4])"
      ]
     },
     "execution_count": 35,
     "metadata": {},
     "output_type": "execute_result"
    }
   ],
   "source": [
    "a1"
   ]
  },
  {
   "cell_type": "code",
   "execution_count": 37,
   "id": "dacc3a84",
   "metadata": {},
   "outputs": [
    {
     "data": {
      "text/plain": [
       "array([4.2, 4.4, 4.6])"
      ]
     },
     "execution_count": 37,
     "metadata": {},
     "output_type": "execute_result"
    }
   ],
   "source": [
    "a1[1:4]"
   ]
  },
  {
   "cell_type": "code",
   "execution_count": 38,
   "id": "482172ff",
   "metadata": {},
   "outputs": [],
   "source": [
    "arr=np.random.rand(4,5)"
   ]
  },
  {
   "cell_type": "code",
   "execution_count": 39,
   "id": "dc7d2443",
   "metadata": {},
   "outputs": [
    {
     "data": {
      "text/plain": [
       "array([[0.91965995, 0.18494201, 0.51615069, 0.37275703, 0.98424584],\n",
       "       [0.23014982, 0.27355163, 0.4160139 , 0.75058926, 0.04211062],\n",
       "       [0.18696046, 0.63453939, 0.15596438, 0.48060247, 0.20200425],\n",
       "       [0.20358153, 0.50466283, 0.98232961, 0.74412882, 0.35663833]])"
      ]
     },
     "execution_count": 39,
     "metadata": {},
     "output_type": "execute_result"
    }
   ],
   "source": [
    "arr"
   ]
  },
  {
   "cell_type": "code",
   "execution_count": 41,
   "id": "cbf01a97",
   "metadata": {},
   "outputs": [
    {
     "data": {
      "text/plain": [
       "array([0.91965995, 0.51615069, 0.98424584, 0.75058926, 0.63453939,\n",
       "       0.50466283, 0.98232961, 0.74412882])"
      ]
     },
     "execution_count": 41,
     "metadata": {},
     "output_type": "execute_result"
    }
   ],
   "source": [
    "arr[arr > .5]"
   ]
  },
  {
   "cell_type": "code",
   "execution_count": 42,
   "id": "96dc017b",
   "metadata": {},
   "outputs": [
    {
     "data": {
      "text/plain": [
       "array([[0.91965995, 0.18494201, 0.51615069, 0.37275703, 0.98424584],\n",
       "       [0.23014982, 0.27355163, 0.4160139 , 0.75058926, 0.04211062],\n",
       "       [0.18696046, 0.63453939, 0.15596438, 0.48060247, 0.20200425],\n",
       "       [0.20358153, 0.50466283, 0.98232961, 0.74412882, 0.35663833]])"
      ]
     },
     "execution_count": 42,
     "metadata": {},
     "output_type": "execute_result"
    }
   ],
   "source": [
    "arr"
   ]
  },
  {
   "cell_type": "code",
   "execution_count": 43,
   "id": "c20fcb2d",
   "metadata": {},
   "outputs": [
    {
     "data": {
      "text/plain": [
       "array([0.4160139 , 0.15596438])"
      ]
     },
     "execution_count": 43,
     "metadata": {},
     "output_type": "execute_result"
    }
   ],
   "source": [
    "arr[[1,2],[2]]"
   ]
  },
  {
   "cell_type": "code",
   "execution_count": 45,
   "id": "ce98cc40",
   "metadata": {},
   "outputs": [],
   "source": [
    "arr = np.random.rand(8,5)"
   ]
  },
  {
   "cell_type": "code",
   "execution_count": 46,
   "id": "0c80b1f6",
   "metadata": {},
   "outputs": [
    {
     "data": {
      "text/plain": [
       "array([[0.97932424, 0.5923086 , 0.86240833, 0.74723932, 0.46925258],\n",
       "       [0.79026305, 0.83331662, 0.55231928, 0.4241246 , 0.49300809],\n",
       "       [0.67353991, 0.40341303, 0.43894954, 0.37931957, 0.34532758],\n",
       "       [0.0232081 , 0.67610981, 0.86698294, 0.71872449, 0.31279847],\n",
       "       [0.07166851, 0.22986975, 0.88644356, 0.64641142, 0.10959851],\n",
       "       [0.79707971, 0.0955583 , 0.50135261, 0.12580202, 0.794457  ],\n",
       "       [0.50067734, 0.93303421, 0.39199521, 0.44355208, 0.17934996],\n",
       "       [0.99661495, 0.60768677, 0.54412669, 0.0459898 , 0.55532904]])"
      ]
     },
     "execution_count": 46,
     "metadata": {},
     "output_type": "execute_result"
    }
   ],
   "source": [
    "arr"
   ]
  },
  {
   "cell_type": "code",
   "execution_count": 51,
   "id": "6af50fc9",
   "metadata": {},
   "outputs": [],
   "source": [
    "a2=arr[1:8,0:3]"
   ]
  },
  {
   "cell_type": "code",
   "execution_count": 52,
   "id": "ad4d0b65",
   "metadata": {},
   "outputs": [
    {
     "data": {
      "text/plain": [
       "array([[0.79026305, 0.83331662, 0.55231928],\n",
       "       [0.67353991, 0.40341303, 0.43894954],\n",
       "       [0.0232081 , 0.67610981, 0.86698294],\n",
       "       [0.07166851, 0.22986975, 0.88644356],\n",
       "       [0.79707971, 0.0955583 , 0.50135261],\n",
       "       [0.50067734, 0.93303421, 0.39199521],\n",
       "       [0.99661495, 0.60768677, 0.54412669]])"
      ]
     },
     "execution_count": 52,
     "metadata": {},
     "output_type": "execute_result"
    }
   ],
   "source": [
    "a2"
   ]
  },
  {
   "cell_type": "code",
   "execution_count": 54,
   "id": "66086316",
   "metadata": {},
   "outputs": [],
   "source": [
    "a2[0,0]=123"
   ]
  },
  {
   "cell_type": "code",
   "execution_count": 55,
   "id": "69c7b9f3",
   "metadata": {},
   "outputs": [
    {
     "data": {
      "text/plain": [
       "array([[1.23000000e+02, 8.33316621e-01, 5.52319282e-01],\n",
       "       [6.73539913e-01, 4.03413025e-01, 4.38949544e-01],\n",
       "       [2.32081019e-02, 6.76109812e-01, 8.66982943e-01],\n",
       "       [7.16685110e-02, 2.29869751e-01, 8.86443561e-01],\n",
       "       [7.97079714e-01, 9.55582953e-02, 5.01352611e-01],\n",
       "       [5.00677338e-01, 9.33034207e-01, 3.91995206e-01],\n",
       "       [9.96614945e-01, 6.07686774e-01, 5.44126692e-01]])"
      ]
     },
     "execution_count": 55,
     "metadata": {},
     "output_type": "execute_result"
    }
   ],
   "source": [
    "a2"
   ]
  },
  {
   "cell_type": "code",
   "execution_count": 59,
   "id": "d46f7846",
   "metadata": {},
   "outputs": [],
   "source": [
    "a = np.array([[1,2],[3,4]])\n",
    "b = np.array([[2,3],[4,5]])"
   ]
  },
  {
   "cell_type": "code",
   "execution_count": 60,
   "id": "df141eca",
   "metadata": {},
   "outputs": [
    {
     "data": {
      "text/plain": [
       "array([[1, 2],\n",
       "       [3, 4]])"
      ]
     },
     "execution_count": 60,
     "metadata": {},
     "output_type": "execute_result"
    }
   ],
   "source": [
    "a"
   ]
  },
  {
   "cell_type": "code",
   "execution_count": 61,
   "id": "507ef6a2",
   "metadata": {},
   "outputs": [
    {
     "data": {
      "text/plain": [
       "array([[2, 3],\n",
       "       [4, 5]])"
      ]
     },
     "execution_count": 61,
     "metadata": {},
     "output_type": "execute_result"
    }
   ],
   "source": [
    "b"
   ]
  },
  {
   "cell_type": "code",
   "execution_count": 62,
   "id": "a54e21df",
   "metadata": {},
   "outputs": [
    {
     "data": {
      "text/plain": [
       "array([[ 2,  6],\n",
       "       [12, 20]])"
      ]
     },
     "execution_count": 62,
     "metadata": {},
     "output_type": "execute_result"
    }
   ],
   "source": [
    "a*b #elementwise multiplication"
   ]
  },
  {
   "cell_type": "code",
   "execution_count": 64,
   "id": "6642769d",
   "metadata": {},
   "outputs": [],
   "source": [
    "#matrix Multiplication\n",
    "m=a@b"
   ]
  },
  {
   "cell_type": "code",
   "execution_count": 65,
   "id": "91b484ad",
   "metadata": {},
   "outputs": [
    {
     "data": {
      "text/plain": [
       "array([[10, 13],\n",
       "       [22, 29]])"
      ]
     },
     "execution_count": 65,
     "metadata": {},
     "output_type": "execute_result"
    }
   ],
   "source": [
    "m"
   ]
  },
  {
   "cell_type": "code",
   "execution_count": 66,
   "id": "8d328826",
   "metadata": {},
   "outputs": [
    {
     "name": "stderr",
     "output_type": "stream",
     "text": [
      "C:\\Users\\Harshith D\\AppData\\Local\\Temp/ipykernel_28196/3791875896.py:1: RuntimeWarning: divide by zero encountered in true_divide\n",
      "  m/0\n"
     ]
    },
    {
     "data": {
      "text/plain": [
       "array([[inf, inf],\n",
       "       [inf, inf]])"
      ]
     },
     "execution_count": 66,
     "metadata": {},
     "output_type": "execute_result"
    }
   ],
   "source": [
    "m/0"
   ]
  },
  {
   "cell_type": "code",
   "execution_count": null,
   "id": "c9edce8e",
   "metadata": {},
   "outputs": [],
   "source": []
  }
 ],
 "metadata": {
  "kernelspec": {
   "display_name": "Python 3 (ipykernel)",
   "language": "python",
   "name": "python3"
  },
  "language_info": {
   "codemirror_mode": {
    "name": "ipython",
    "version": 3
   },
   "file_extension": ".py",
   "mimetype": "text/x-python",
   "name": "python",
   "nbconvert_exporter": "python",
   "pygments_lexer": "ipython3",
   "version": "3.9.7"
  }
 },
 "nbformat": 4,
 "nbformat_minor": 5
}
