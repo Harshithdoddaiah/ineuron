{
 "cells": [
  {
   "cell_type": "code",
   "execution_count": 1,
   "id": "8def9940",
   "metadata": {},
   "outputs": [],
   "source": [
    "#inheritance"
   ]
  },
  {
   "cell_type": "code",
   "execution_count": 2,
   "id": "7d54b4d0",
   "metadata": {},
   "outputs": [],
   "source": [
    "class xyz:\n",
    "    def __init__(self, a, b, c):\n",
    "        self.a=a\n",
    "        self.b=b\n",
    "        self.c=c\n",
    "        \n",
    "    def test(self):\n",
    "        print(\"this is my first test method of xyz class\")\n",
    "        \n",
    "    def test1(self):\n",
    "        print(\"this is my first test1 method of xyz class\")\n",
    "        \n",
    "    def test2(self):\n",
    "        print(\"this is my first tes2 method of xyz class\")"
   ]
  },
  {
   "cell_type": "code",
   "execution_count": 4,
   "id": "92bb5199",
   "metadata": {},
   "outputs": [],
   "source": [
    "p=xyz(1,2,3)"
   ]
  },
  {
   "cell_type": "code",
   "execution_count": 5,
   "id": "59f9d72e",
   "metadata": {},
   "outputs": [
    {
     "name": "stdout",
     "output_type": "stream",
     "text": [
      "this is my first test method of xyz class\n"
     ]
    }
   ],
   "source": [
    "p.test()"
   ]
  },
  {
   "cell_type": "code",
   "execution_count": 6,
   "id": "c027f097",
   "metadata": {},
   "outputs": [
    {
     "data": {
      "text/plain": [
       "1"
      ]
     },
     "execution_count": 6,
     "metadata": {},
     "output_type": "execute_result"
    }
   ],
   "source": [
    "p.a"
   ]
  },
  {
   "cell_type": "code",
   "execution_count": null,
   "id": "fc14640d",
   "metadata": {},
   "outputs": [],
   "source": []
  },
  {
   "cell_type": "code",
   "execution_count": 7,
   "id": "811e9365",
   "metadata": {},
   "outputs": [],
   "source": [
    "class xyz1(xyz):           #inheritance xyz in xyz1\n",
    "    pass"
   ]
  },
  {
   "cell_type": "code",
   "execution_count": 9,
   "id": "14c154fb",
   "metadata": {},
   "outputs": [],
   "source": [
    "q=xyz1(2,3,4)"
   ]
  },
  {
   "cell_type": "code",
   "execution_count": 10,
   "id": "867e0416",
   "metadata": {},
   "outputs": [
    {
     "name": "stdout",
     "output_type": "stream",
     "text": [
      "this is my first tes2 method of xyz class\n"
     ]
    }
   ],
   "source": [
    "q.test2()"
   ]
  },
  {
   "cell_type": "code",
   "execution_count": 11,
   "id": "eda2fc6d",
   "metadata": {},
   "outputs": [
    {
     "data": {
      "text/plain": [
       "2"
      ]
     },
     "execution_count": 11,
     "metadata": {},
     "output_type": "execute_result"
    }
   ],
   "source": [
    "q.a"
   ]
  },
  {
   "cell_type": "code",
   "execution_count": 12,
   "id": "ce6f16f2",
   "metadata": {},
   "outputs": [],
   "source": [
    "class xyz1(xyz):\n",
    "    def test(self):\n",
    "        print(\"this is my first test method of xyz1 class\")"
   ]
  },
  {
   "cell_type": "code",
   "execution_count": 13,
   "id": "90261d89",
   "metadata": {},
   "outputs": [],
   "source": [
    "g=xyz1(4,5,6)"
   ]
  },
  {
   "cell_type": "code",
   "execution_count": 14,
   "id": "48b1033e",
   "metadata": {},
   "outputs": [
    {
     "name": "stdout",
     "output_type": "stream",
     "text": [
      "this is my first test method of xyz1 class\n"
     ]
    }
   ],
   "source": [
    "g.test()"
   ]
  },
  {
   "cell_type": "code",
   "execution_count": 1,
   "id": "e879a21b",
   "metadata": {},
   "outputs": [],
   "source": [
    "class xyz():\n",
    "    def __init__(self,a,b,c):\n",
    "        self.a=a\n",
    "        self.b=b\n",
    "        self.c=c\n",
    "        \n",
    "    def test(self):\n",
    "        print(\"this is a method of xyz class\")\n",
    "        \n",
    "class xyz1:\n",
    "    def __init__(self,p,q,r):\n",
    "        self.p=p\n",
    "        self.q=q\n",
    "        self.r=r\n",
    "        \n",
    "    def test1(self):\n",
    "        print(\"this is a method from class xyz1\")\n",
    "        \n",
    "class child(xyz1,xyz): #it is inheritance the variable of 1st class i.e.from xyz1\n",
    "    def __init__(self,*args,**kwargs):\n",
    "        xyz.__init__(self,*args)\n",
    "        xyz1.__init__(self,**kwargs)"
   ]
  },
  {
   "cell_type": "code",
   "execution_count": 5,
   "id": "637e1a26",
   "metadata": {},
   "outputs": [],
   "source": [
    "n=child(1,2,3,p=4,q=5,r=6)"
   ]
  },
  {
   "cell_type": "code",
   "execution_count": 6,
   "id": "193cb243",
   "metadata": {},
   "outputs": [
    {
     "name": "stdout",
     "output_type": "stream",
     "text": [
      "this is a method from class xyz1\n"
     ]
    }
   ],
   "source": [
    "n.test1()"
   ]
  },
  {
   "cell_type": "code",
   "execution_count": 8,
   "id": "805d0abe",
   "metadata": {},
   "outputs": [],
   "source": [
    "#multilevel inheritance\n",
    "class xyz:\n",
    "    def __init__(self,a,b,c):\n",
    "        self.a=a\n",
    "        self.b=b\n",
    "        self.c=c\n",
    "        \n",
    "    def test(self):\n",
    "        print(\"this is a method of xyz class\")\n",
    "        \n",
    "class xyz1(xyz):\n",
    "    def test1(self):\n",
    "        print(\"this is a method of xyz1 class\")\n",
    "        \n",
    "class xyz2(xyz1):\n",
    "    def test2(self):\n",
    "        print(\"this is a method of xyz2 class\")\n",
    "        \n"
   ]
  },
  {
   "cell_type": "code",
   "execution_count": 10,
   "id": "38452072",
   "metadata": {},
   "outputs": [],
   "source": [
    "v=xyz2(1,2,3)"
   ]
  },
  {
   "cell_type": "code",
   "execution_count": 11,
   "id": "d66d0c17",
   "metadata": {},
   "outputs": [
    {
     "data": {
      "text/plain": [
       "1"
      ]
     },
     "execution_count": 11,
     "metadata": {},
     "output_type": "execute_result"
    }
   ],
   "source": [
    "v.a"
   ]
  },
  {
   "cell_type": "code",
   "execution_count": 12,
   "id": "2942d3ae",
   "metadata": {},
   "outputs": [],
   "source": [
    "#task\n",
    "#1. create a file class for reading data from respective file\n",
    "#2. Try to inherit read and write method from parent class to child class to perform read and write operation"
   ]
  },
  {
   "cell_type": "code",
   "execution_count": 16,
   "id": "c34b58fd",
   "metadata": {},
   "outputs": [],
   "source": [
    "class file:\n",
    "    def __init__(self,file_name):\n",
    "        self.file_name=file_name\n",
    "        \n",
    "    def read_file(self):\n",
    "        f=open(self.file_name,\"r\")\n",
    "        return f.read()\n",
    "    \n",
    "    def write_file(self,w):\n",
    "        self.w=w\n",
    "        f=open(self.file_name,\"w\")\n",
    "        return f.write(self.w)\n",
    "    \n",
    "class child(file):\n",
    "    pass"
   ]
  },
  {
   "cell_type": "code",
   "execution_count": 17,
   "id": "d8f40a44",
   "metadata": {},
   "outputs": [],
   "source": [
    "b=file(\"test.txt\")"
   ]
  },
  {
   "cell_type": "code",
   "execution_count": 18,
   "id": "4a7d9463",
   "metadata": {},
   "outputs": [
    {
     "data": {
      "text/plain": [
       "'test.txt'"
      ]
     },
     "execution_count": 18,
     "metadata": {},
     "output_type": "execute_result"
    }
   ],
   "source": [
    "b.file_name"
   ]
  },
  {
   "cell_type": "code",
   "execution_count": 21,
   "id": "12570a40",
   "metadata": {},
   "outputs": [
    {
     "data": {
      "text/plain": [
       "'efghijk'"
      ]
     },
     "execution_count": 21,
     "metadata": {},
     "output_type": "execute_result"
    }
   ],
   "source": [
    "b.read_file()"
   ]
  },
  {
   "cell_type": "code",
   "execution_count": 20,
   "id": "8ee04576",
   "metadata": {},
   "outputs": [
    {
     "data": {
      "text/plain": [
       "7"
      ]
     },
     "execution_count": 20,
     "metadata": {},
     "output_type": "execute_result"
    }
   ],
   "source": [
    "b.write_file(\"efghijk\")"
   ]
  },
  {
   "cell_type": "code",
   "execution_count": 22,
   "id": "2be7d3b8",
   "metadata": {},
   "outputs": [],
   "source": [
    "#public, private, protected"
   ]
  },
  {
   "cell_type": "code",
   "execution_count": 26,
   "id": "8dd39695",
   "metadata": {},
   "outputs": [],
   "source": [
    "class test:\n",
    "    def __init__(self,a,b,c):\n",
    "        self.a=a\n",
    "        self.b=b\n",
    "        self.c=c\n",
    "class test1(test):\n",
    "    pass\n",
    "    \n",
    "u=test(4,5,6) "
   ]
  },
  {
   "cell_type": "code",
   "execution_count": 27,
   "id": "01860178",
   "metadata": {},
   "outputs": [],
   "source": [
    "v=test1(3,4,5)"
   ]
  },
  {
   "cell_type": "code",
   "execution_count": 28,
   "id": "00fc6e86",
   "metadata": {},
   "outputs": [
    {
     "data": {
      "text/plain": [
       "3"
      ]
     },
     "execution_count": 28,
     "metadata": {},
     "output_type": "execute_result"
    }
   ],
   "source": [
    "v.a"
   ]
  },
  {
   "cell_type": "code",
   "execution_count": 60,
   "id": "804fe67b",
   "metadata": {},
   "outputs": [],
   "source": [
    "class test:\n",
    "    def __init__(self):\n",
    "        self.__a=4 #_a protected inside a subclass we can access\n",
    "\n",
    "class test1(test):\n",
    "    def __init__(self):\n",
    "        self.__a=7\n",
    "\n",
    "u =test()"
   ]
  },
  {
   "cell_type": "code",
   "execution_count": 62,
   "id": "c380c197",
   "metadata": {},
   "outputs": [
    {
     "ename": "AttributeError",
     "evalue": "'test' object has no attribute '__a'",
     "output_type": "error",
     "traceback": [
      "\u001b[1;31m---------------------------------------------------------------------------\u001b[0m",
      "\u001b[1;31mAttributeError\u001b[0m                            Traceback (most recent call last)",
      "\u001b[1;32m~\\AppData\\Local\\Temp/ipykernel_8780/3701111835.py\u001b[0m in \u001b[0;36m<module>\u001b[1;34m\u001b[0m\n\u001b[1;32m----> 1\u001b[1;33m \u001b[0mu\u001b[0m\u001b[1;33m.\u001b[0m\u001b[0m__a\u001b[0m\u001b[1;33m\u001b[0m\u001b[1;33m\u001b[0m\u001b[0m\n\u001b[0m",
      "\u001b[1;31mAttributeError\u001b[0m: 'test' object has no attribute '__a'"
     ]
    }
   ],
   "source": [
    "u.__a"
   ]
  },
  {
   "cell_type": "code",
   "execution_count": 63,
   "id": "835a7a00",
   "metadata": {},
   "outputs": [],
   "source": [
    "v=test1()"
   ]
  },
  {
   "cell_type": "code",
   "execution_count": 64,
   "id": "27f1b437",
   "metadata": {},
   "outputs": [
    {
     "ename": "AttributeError",
     "evalue": "'test1' object has no attribute '__a'",
     "output_type": "error",
     "traceback": [
      "\u001b[1;31m---------------------------------------------------------------------------\u001b[0m",
      "\u001b[1;31mAttributeError\u001b[0m                            Traceback (most recent call last)",
      "\u001b[1;32m~\\AppData\\Local\\Temp/ipykernel_8780/699859394.py\u001b[0m in \u001b[0;36m<module>\u001b[1;34m\u001b[0m\n\u001b[1;32m----> 1\u001b[1;33m \u001b[0mv\u001b[0m\u001b[1;33m.\u001b[0m\u001b[0m__a\u001b[0m\u001b[1;33m\u001b[0m\u001b[1;33m\u001b[0m\u001b[0m\n\u001b[0m",
      "\u001b[1;31mAttributeError\u001b[0m: 'test1' object has no attribute '__a'"
     ]
    }
   ],
   "source": [
    "v.__a"
   ]
  },
  {
   "cell_type": "code",
   "execution_count": 78,
   "id": "269997d3",
   "metadata": {},
   "outputs": [],
   "source": [
    "class test:\n",
    "    def __init__(self,a,b,c):\n",
    "        self._a=a  #protected scope within class and sub class\n",
    "        self.__b=b #private scope within the class only\n",
    "        self.c=c   #Public\n",
    "class test1(test):\n",
    "    pass\n",
    "        \n",
    "v=test(4,5,6)"
   ]
  },
  {
   "cell_type": "code",
   "execution_count": 79,
   "id": "b28e3416",
   "metadata": {},
   "outputs": [
    {
     "data": {
      "text/plain": [
       "4"
      ]
     },
     "execution_count": 79,
     "metadata": {},
     "output_type": "execute_result"
    }
   ],
   "source": [
    "v._a"
   ]
  },
  {
   "cell_type": "code",
   "execution_count": 80,
   "id": "c82b3775",
   "metadata": {},
   "outputs": [
    {
     "data": {
      "text/plain": [
       "5"
      ]
     },
     "execution_count": 80,
     "metadata": {},
     "output_type": "execute_result"
    }
   ],
   "source": [
    "v._test__b"
   ]
  },
  {
   "cell_type": "code",
   "execution_count": 81,
   "id": "cb30b7d9",
   "metadata": {},
   "outputs": [
    {
     "data": {
      "text/plain": [
       "6"
      ]
     },
     "execution_count": 81,
     "metadata": {},
     "output_type": "execute_result"
    }
   ],
   "source": [
    "v.c"
   ]
  },
  {
   "cell_type": "code",
   "execution_count": 88,
   "id": "5ab2cb1b",
   "metadata": {},
   "outputs": [
    {
     "data": {
      "text/plain": [
       "5"
      ]
     },
     "execution_count": 88,
     "metadata": {},
     "output_type": "execute_result"
    }
   ],
   "source": [
    "v._test__b"
   ]
  },
  {
   "cell_type": "code",
   "execution_count": 82,
   "id": "5c9f3dff",
   "metadata": {},
   "outputs": [],
   "source": [
    "u=test1(3,4,7)"
   ]
  },
  {
   "cell_type": "code",
   "execution_count": 83,
   "id": "e9be01a8",
   "metadata": {},
   "outputs": [
    {
     "data": {
      "text/plain": [
       "7"
      ]
     },
     "execution_count": 83,
     "metadata": {},
     "output_type": "execute_result"
    }
   ],
   "source": [
    "u.c"
   ]
  },
  {
   "cell_type": "code",
   "execution_count": 84,
   "id": "2678ff00",
   "metadata": {},
   "outputs": [
    {
     "data": {
      "text/plain": [
       "3"
      ]
     },
     "execution_count": 84,
     "metadata": {},
     "output_type": "execute_result"
    }
   ],
   "source": [
    "u._a"
   ]
  },
  {
   "cell_type": "code",
   "execution_count": 90,
   "id": "756a8658",
   "metadata": {},
   "outputs": [
    {
     "data": {
      "text/plain": [
       "4"
      ]
     },
     "execution_count": 90,
     "metadata": {},
     "output_type": "execute_result"
    }
   ],
   "source": [
    "u._test__b #when ever calling private variable using child class object give a name of parent class"
   ]
  },
  {
   "cell_type": "code",
   "execution_count": 112,
   "id": "6fcb1743",
   "metadata": {},
   "outputs": [],
   "source": [
    "class bonouscalculator:\n",
    "    def __init__(self,empid,emprating):\n",
    "        self.empid = empid\n",
    "        self.emprating = emprating\n",
    "        self._empmail=\"abcd@dcba.com\"\n",
    "        self.__bonusforratingA = \"70%\"\n",
    "        self.__bonusforratingB = \"60%\"\n",
    "        self.__bonusforratingC = \"40%\"\n",
    "        \n",
    "    def bonuscalculator(self):\n",
    "        if self.emprating == \"A\":\n",
    "            bonus = self.__bonusforratingA\n",
    "            return bonus\n",
    "        elif self.emprating == \"B\":\n",
    "            bonus = self.__bonusforratingB\n",
    "            return bonus\n",
    "        else:\n",
    "            bonus = self.__bonusforratingC\n",
    "            return bonus"
   ]
  },
  {
   "cell_type": "code",
   "execution_count": 113,
   "id": "d6131965",
   "metadata": {},
   "outputs": [],
   "source": [
    "emp1 = bonouscalculator(101,\"A\")\n",
    "emp2 = bonouscalculator(102,\"B\")\n",
    "emp3 = bonouscalculator(103,\"C\")"
   ]
  },
  {
   "cell_type": "code",
   "execution_count": 95,
   "id": "34b4de8c",
   "metadata": {},
   "outputs": [
    {
     "data": {
      "text/plain": [
       "'70%'"
      ]
     },
     "execution_count": 95,
     "metadata": {},
     "output_type": "execute_result"
    }
   ],
   "source": [
    "emp1.bonuscalculator()"
   ]
  },
  {
   "cell_type": "code",
   "execution_count": 96,
   "id": "a76d2e12",
   "metadata": {},
   "outputs": [
    {
     "data": {
      "text/plain": [
       "'60%'"
      ]
     },
     "execution_count": 96,
     "metadata": {},
     "output_type": "execute_result"
    }
   ],
   "source": [
    "emp2.bonuscalculator()"
   ]
  },
  {
   "cell_type": "code",
   "execution_count": 97,
   "id": "6d5e929b",
   "metadata": {},
   "outputs": [
    {
     "data": {
      "text/plain": [
       "'40%'"
      ]
     },
     "execution_count": 97,
     "metadata": {},
     "output_type": "execute_result"
    }
   ],
   "source": [
    "emp3.bonuscalculator()"
   ]
  },
  {
   "cell_type": "code",
   "execution_count": 98,
   "id": "062cb917",
   "metadata": {},
   "outputs": [],
   "source": [
    "emp1.empid=104"
   ]
  },
  {
   "cell_type": "code",
   "execution_count": 99,
   "id": "a06cf067",
   "metadata": {},
   "outputs": [
    {
     "data": {
      "text/plain": [
       "104"
      ]
     },
     "execution_count": 99,
     "metadata": {},
     "output_type": "execute_result"
    }
   ],
   "source": [
    "emp1.empid"
   ]
  },
  {
   "cell_type": "code",
   "execution_count": 100,
   "id": "917a914a",
   "metadata": {},
   "outputs": [],
   "source": [
    "emp1.emprating=\"B\""
   ]
  },
  {
   "cell_type": "code",
   "execution_count": 101,
   "id": "7ce567d0",
   "metadata": {},
   "outputs": [
    {
     "data": {
      "text/plain": [
       "'60%'"
      ]
     },
     "execution_count": 101,
     "metadata": {},
     "output_type": "execute_result"
    }
   ],
   "source": [
    "emp1.bonuscalculator()"
   ]
  },
  {
   "cell_type": "code",
   "execution_count": 105,
   "id": "e9d98fe4",
   "metadata": {},
   "outputs": [],
   "source": [
    "emp1.__bonusforratingB = \"90%\""
   ]
  },
  {
   "cell_type": "code",
   "execution_count": 107,
   "id": "8fcc7060",
   "metadata": {},
   "outputs": [
    {
     "data": {
      "text/plain": [
       "'60%'"
      ]
     },
     "execution_count": 107,
     "metadata": {},
     "output_type": "execute_result"
    }
   ],
   "source": [
    "emp2.bonuscalculator()"
   ]
  },
  {
   "cell_type": "code",
   "execution_count": 108,
   "id": "fb386fe0",
   "metadata": {},
   "outputs": [],
   "source": [
    "emp2._bonouscalculator__bonusforratingB=\"100%\""
   ]
  },
  {
   "cell_type": "code",
   "execution_count": 109,
   "id": "1b2dff33",
   "metadata": {},
   "outputs": [
    {
     "data": {
      "text/plain": [
       "'100%'"
      ]
     },
     "execution_count": 109,
     "metadata": {},
     "output_type": "execute_result"
    }
   ],
   "source": [
    "emp2.bonuscalculator()"
   ]
  },
  {
   "cell_type": "code",
   "execution_count": 115,
   "id": "0d40eefa",
   "metadata": {},
   "outputs": [
    {
     "data": {
      "text/plain": [
       "'abcd@dcba.com'"
      ]
     },
     "execution_count": 115,
     "metadata": {},
     "output_type": "execute_result"
    }
   ],
   "source": [
    "emp1._empmail"
   ]
  },
  {
   "cell_type": "code",
   "execution_count": 116,
   "id": "ec2c8690",
   "metadata": {},
   "outputs": [],
   "source": [
    "emp1._empmail = \"harshith@gmail.com\""
   ]
  },
  {
   "cell_type": "code",
   "execution_count": 117,
   "id": "853642f8",
   "metadata": {},
   "outputs": [
    {
     "data": {
      "text/plain": [
       "'harshith@gmail.com'"
      ]
     },
     "execution_count": 117,
     "metadata": {},
     "output_type": "execute_result"
    }
   ],
   "source": [
    "emp1._empmail"
   ]
  },
  {
   "cell_type": "code",
   "execution_count": null,
   "id": "ea2a57b7",
   "metadata": {},
   "outputs": [],
   "source": []
  }
 ],
 "metadata": {
  "kernelspec": {
   "display_name": "Python 3 (ipykernel)",
   "language": "python",
   "name": "python3"
  },
  "language_info": {
   "codemirror_mode": {
    "name": "ipython",
    "version": 3
   },
   "file_extension": ".py",
   "mimetype": "text/x-python",
   "name": "python",
   "nbconvert_exporter": "python",
   "pygments_lexer": "ipython3",
   "version": "3.9.7"
  }
 },
 "nbformat": 4,
 "nbformat_minor": 5
}
