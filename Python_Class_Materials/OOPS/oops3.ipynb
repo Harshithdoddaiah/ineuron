{
 "cells": [
  {
   "cell_type": "code",
   "execution_count": 1,
   "id": "e06132f1",
   "metadata": {},
   "outputs": [],
   "source": [
    "def test(a,b):\n",
    "    return a+b"
   ]
  },
  {
   "cell_type": "code",
   "execution_count": 2,
   "id": "5b20f369",
   "metadata": {},
   "outputs": [
    {
     "data": {
      "text/plain": [
       "7"
      ]
     },
     "execution_count": 2,
     "metadata": {},
     "output_type": "execute_result"
    }
   ],
   "source": [
    "test(3,4)"
   ]
  },
  {
   "cell_type": "code",
   "execution_count": 6,
   "id": "a09ea888",
   "metadata": {},
   "outputs": [
    {
     "data": {
      "text/plain": [
       "'Harshith D'"
      ]
     },
     "execution_count": 6,
     "metadata": {},
     "output_type": "execute_result"
    }
   ],
   "source": [
    "test(\"Harshith\",\" D\")"
   ]
  },
  {
   "cell_type": "code",
   "execution_count": 7,
   "id": "0dd5c5d6",
   "metadata": {},
   "outputs": [],
   "source": [
    "#polymarphism\n",
    "class insta:\n",
    "    def share_stories(self):\n",
    "        print(\"this will share my insta story\")\n",
    "        \n",
    "class facebook:\n",
    "    def share_stories(self):\n",
    "        print(\"this will share my facebook stories\")"
   ]
  },
  {
   "cell_type": "code",
   "execution_count": 11,
   "id": "7bc87dad",
   "metadata": {},
   "outputs": [],
   "source": [
    "def sharestories(app):\n",
    "    app.share_stories()"
   ]
  },
  {
   "cell_type": "code",
   "execution_count": 12,
   "id": "7b4c7355",
   "metadata": {},
   "outputs": [],
   "source": [
    "i = insta()\n",
    "f = facebook()"
   ]
  },
  {
   "cell_type": "code",
   "execution_count": 13,
   "id": "fedd68ac",
   "metadata": {},
   "outputs": [
    {
     "name": "stdout",
     "output_type": "stream",
     "text": [
      "this will share my insta story\n"
     ]
    }
   ],
   "source": [
    "sharestories(i)"
   ]
  },
  {
   "cell_type": "code",
   "execution_count": 14,
   "id": "3b3393f6",
   "metadata": {},
   "outputs": [
    {
     "name": "stdout",
     "output_type": "stream",
     "text": [
      "this will share my facebook stories\n"
     ]
    }
   ],
   "source": [
    "sharestories(f)"
   ]
  },
  {
   "cell_type": "code",
   "execution_count": 15,
   "id": "a15a2133",
   "metadata": {},
   "outputs": [],
   "source": [
    "class social_media:\n",
    "    def share_stories(self):\n",
    "        print(\"share a stories\")\n",
    "        \n",
    "    def upload_pic(self):\n",
    "        print(\"this will help u to upload pic on social media\")\n",
    "        \n",
    "class facebook(social_media):\n",
    "    def share_stories(self):\n",
    "        print(\"this is a fun for sharing the story for facebook\")\n",
    "        \n",
    "class insta(social_media):\n",
    "    def share_stories(self):\n",
    "        print(\"this is a fun for sharing the story for insta\")"
   ]
  },
  {
   "cell_type": "code",
   "execution_count": 17,
   "id": "74677a31",
   "metadata": {},
   "outputs": [],
   "source": [
    "f = facebook()\n",
    "i = insta()"
   ]
  },
  {
   "cell_type": "code",
   "execution_count": 19,
   "id": "0e0eb44a",
   "metadata": {},
   "outputs": [
    {
     "name": "stdout",
     "output_type": "stream",
     "text": [
      "this is a fun for sharing the story for facebook\n"
     ]
    }
   ],
   "source": [
    "f.share_stories()"
   ]
  },
  {
   "cell_type": "code",
   "execution_count": 20,
   "id": "a55912b8",
   "metadata": {},
   "outputs": [
    {
     "name": "stdout",
     "output_type": "stream",
     "text": [
      "this is a fun for sharing the story for insta\n"
     ]
    }
   ],
   "source": [
    "i.share_stories()"
   ]
  },
  {
   "cell_type": "code",
   "execution_count": 21,
   "id": "6d61a45a",
   "metadata": {},
   "outputs": [],
   "source": [
    "class test(Exception):\n",
    "    def __init__(self,msg):\n",
    "        self.msg = msg"
   ]
  },
  {
   "cell_type": "code",
   "execution_count": 22,
   "id": "4e90415d",
   "metadata": {},
   "outputs": [
    {
     "name": "stdout",
     "output_type": "stream",
     "text": [
      "This is my own exception class\n"
     ]
    }
   ],
   "source": [
    "try:\n",
    "    raise(test(\"This is my own exception class\"))\n",
    "except test as t:\n",
    "    print(t)"
   ]
  },
  {
   "cell_type": "code",
   "execution_count": 23,
   "id": "d332c2a9",
   "metadata": {},
   "outputs": [
    {
     "data": {
      "text/plain": [
       "'1. create your own class for to achive multiple , multilevel inheritance\\n2. create your own class to represent polymorphism\\n3. create your own class to custom exception\\n4. create your own class to achive encapsulation\\n5. create your own class to achive method overloading and overridng'"
      ]
     },
     "execution_count": 23,
     "metadata": {},
     "output_type": "execute_result"
    }
   ],
   "source": [
    "\"\"\"1. create your own class for to achive multiple , multilevel inheritance\n",
    "2. create your own class to represent polymorphism\n",
    "3. create your own class to custom exception\n",
    "4. create your own class to achive encapsulation\n",
    "5. create your own class to achive method overloading and overridng\"\"\""
   ]
  },
  {
   "cell_type": "code",
   "execution_count": null,
   "id": "134c9b65",
   "metadata": {},
   "outputs": [],
   "source": [
    "#abstraction class -> blueprint or skeleton\n",
    "class abc:\n",
    "    pass"
   ]
  }
 ],
 "metadata": {
  "kernelspec": {
   "display_name": "Python 3 (ipykernel)",
   "language": "python",
   "name": "python3"
  },
  "language_info": {
   "codemirror_mode": {
    "name": "ipython",
    "version": 3
   },
   "file_extension": ".py",
   "mimetype": "text/x-python",
   "name": "python",
   "nbconvert_exporter": "python",
   "pygments_lexer": "ipython3",
   "version": "3.9.7"
  }
 },
 "nbformat": 4,
 "nbformat_minor": 5
}
