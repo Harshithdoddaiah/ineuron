{
 "cells": [
  {
   "cell_type": "code",
   "execution_count": null,
   "id": "063623c0",
   "metadata": {},
   "outputs": [],
   "source": [
    "#i will be able to create more structure modules\n",
    "#i will be able to reuse of code"
   ]
  },
  {
   "cell_type": "code",
   "execution_count": null,
   "id": "ea42576d",
   "metadata": {},
   "outputs": [],
   "source": [
    "#Class blue print\n",
    "#object real entity which is exsist\n",
    "#"
   ]
  },
  {
   "cell_type": "code",
   "execution_count": 1,
   "id": "4bf53f8f",
   "metadata": {},
   "outputs": [],
   "source": [
    "class car:\n",
    "    pass"
   ]
  },
  {
   "cell_type": "code",
   "execution_count": 10,
   "id": "0f3584ce",
   "metadata": {},
   "outputs": [],
   "source": [
    "class car:\n",
    "    def __init__(self,brand_name,fule_type,body_type):\n",
    "        self.brand_name=brand_name\n",
    "        self.fule_type=fule_type\n",
    "        self.body_type=body_type\n",
    "        \n",
    "    def desc_car(self):\n",
    "        print(self.brand_name, self.fule_type, self.body_type)"
   ]
  },
  {
   "cell_type": "code",
   "execution_count": 16,
   "id": "ed7f5de8",
   "metadata": {},
   "outputs": [],
   "source": [
    "#object\n",
    "innova = car(\"toyota\",\"petrol\",\"suv\")\n",
    "nexon = car(\"tata\",\"petrol\",\"min suv\")\n",
    "fortuner = car(\"toyota\",\"petrol\",\"suv\")"
   ]
  },
  {
   "cell_type": "code",
   "execution_count": 12,
   "id": "75f5139c",
   "metadata": {},
   "outputs": [
    {
     "name": "stdout",
     "output_type": "stream",
     "text": [
      "toyota petrol suv\n"
     ]
    }
   ],
   "source": [
    "innova.desc_car()"
   ]
  },
  {
   "cell_type": "code",
   "execution_count": 13,
   "id": "4d34d572",
   "metadata": {},
   "outputs": [
    {
     "data": {
      "text/plain": [
       "'toyota'"
      ]
     },
     "execution_count": 13,
     "metadata": {},
     "output_type": "execute_result"
    }
   ],
   "source": [
    "innova.brand_name"
   ]
  },
  {
   "cell_type": "code",
   "execution_count": 18,
   "id": "d96686e3",
   "metadata": {},
   "outputs": [
    {
     "name": "stdout",
     "output_type": "stream",
     "text": [
      "tata petrol min suv\n"
     ]
    }
   ],
   "source": [
    "nexon.desc_car()"
   ]
  },
  {
   "cell_type": "code",
   "execution_count": 17,
   "id": "1e543c93",
   "metadata": {},
   "outputs": [],
   "source": [
    "class cars:\n",
    "    def __init__(self,body_type,engine,fuel_type):\n",
    "        self.body_type1=body_type\n",
    "        self.engine=engine\n",
    "        self.fuel_type=fuel_type\n",
    "        \n",
    "    def test(self):\n",
    "        print(\"this is my first method in  my car class\")"
   ]
  },
  {
   "cell_type": "code",
   "execution_count": 4,
   "id": "3a96376e",
   "metadata": {},
   "outputs": [],
   "source": [
    "fortuner=cars(\"suv\",\"bs4\",\"petrol\")"
   ]
  },
  {
   "cell_type": "code",
   "execution_count": 5,
   "id": "59a53f35",
   "metadata": {},
   "outputs": [
    {
     "name": "stdout",
     "output_type": "stream",
     "text": [
      "this is my first method in  my car class\n"
     ]
    }
   ],
   "source": [
    "fortuner.test()"
   ]
  },
  {
   "cell_type": "code",
   "execution_count": 14,
   "id": "061557f2",
   "metadata": {},
   "outputs": [],
   "source": [
    "nexon = cars(\"suv\",\"bs3\",\"EV\")"
   ]
  },
  {
   "cell_type": "code",
   "execution_count": 8,
   "id": "e9f9e17f",
   "metadata": {},
   "outputs": [
    {
     "name": "stdout",
     "output_type": "stream",
     "text": [
      "this is my first method in  my car class\n"
     ]
    }
   ],
   "source": [
    "nexon.test()"
   ]
  },
  {
   "cell_type": "code",
   "execution_count": 16,
   "id": "f483f65c",
   "metadata": {},
   "outputs": [
    {
     "data": {
      "text/plain": [
       "'suv'"
      ]
     },
     "execution_count": 16,
     "metadata": {},
     "output_type": "execute_result"
    }
   ],
   "source": [
    "nexon.body_type1"
   ]
  },
  {
   "cell_type": "code",
   "execution_count": 10,
   "id": "3f451559",
   "metadata": {},
   "outputs": [
    {
     "data": {
      "text/plain": [
       "'petrol'"
      ]
     },
     "execution_count": 10,
     "metadata": {},
     "output_type": "execute_result"
    }
   ],
   "source": [
    "fortuner.fuel_type"
   ]
  },
  {
   "cell_type": "code",
   "execution_count": 22,
   "id": "50be308c",
   "metadata": {},
   "outputs": [],
   "source": [
    "class abcd:\n",
    "    def cd(sudh):\n",
    "        print(\"ABCD\")"
   ]
  },
  {
   "cell_type": "code",
   "execution_count": 23,
   "id": "385d5aac",
   "metadata": {},
   "outputs": [],
   "source": [
    "hari =abcd()"
   ]
  },
  {
   "cell_type": "code",
   "execution_count": 24,
   "id": "29eb769c",
   "metadata": {},
   "outputs": [
    {
     "name": "stdout",
     "output_type": "stream",
     "text": [
      "ABCD\n"
     ]
    }
   ],
   "source": [
    "hari.cd()"
   ]
  },
  {
   "cell_type": "code",
   "execution_count": 42,
   "id": "e3cba994",
   "metadata": {},
   "outputs": [],
   "source": [
    "class list_parser:\n",
    "    def __init__(self,l):\n",
    "        self.l=l\n",
    "        \n",
    "    def parser(self):\n",
    "        if type(self.l)==list:\n",
    "            for i in self.l:\n",
    "                print(i)\n",
    "    \n",
    "    def reverse_list(self):\n",
    "        if type(self.l)==list:\n",
    "            return self.l[::-1]\n",
    "        \n",
    "    def alternaate(self):\n",
    "        if type(self.l)==list:\n",
    "            return self.l[::2]"
   ]
  },
  {
   "cell_type": "code",
   "execution_count": 43,
   "id": "0b1ca456",
   "metadata": {},
   "outputs": [
    {
     "name": "stdout",
     "output_type": "stream",
     "text": [
      "1\n",
      "2\n",
      "3\n",
      "4\n",
      "5\n",
      "6\n",
      "7\n"
     ]
    }
   ],
   "source": [
    "c=list_parser([1,2,3,4,5,6,7])\n",
    "c.parser()"
   ]
  },
  {
   "cell_type": "code",
   "execution_count": 44,
   "id": "40458571",
   "metadata": {},
   "outputs": [
    {
     "data": {
      "text/plain": [
       "[7, 6, 5, 4, 3, 2, 1]"
      ]
     },
     "execution_count": 44,
     "metadata": {},
     "output_type": "execute_result"
    }
   ],
   "source": [
    "c.reverse_list()"
   ]
  },
  {
   "cell_type": "code",
   "execution_count": 45,
   "id": "fd802c8e",
   "metadata": {},
   "outputs": [
    {
     "data": {
      "text/plain": [
       "[1, 3, 5, 7]"
      ]
     },
     "execution_count": 45,
     "metadata": {},
     "output_type": "execute_result"
    }
   ],
   "source": [
    "c.alternaate()"
   ]
  },
  {
   "cell_type": "code",
   "execution_count": null,
   "id": "9fb700e9",
   "metadata": {},
   "outputs": [],
   "source": [
    "#create a class for dictonary parsing\n",
    "#1. write a fun to give all the keys\n",
    "#2. write a fun to give all the values\n",
    "#3. write a fun to throw an error in case of input is not dict\n",
    "#4. write a fun for take user input and thn parse a key and value out of dict\n",
    "#5. write a func to insert new key value pair into dict"
   ]
  },
  {
   "cell_type": "code",
   "execution_count": 44,
   "id": "dd55e31d",
   "metadata": {},
   "outputs": [],
   "source": [
    "class dict_parsing:\n",
    "    def __init__(self,d):\n",
    "        self.d=d\n",
    "        \n",
    "    def dict_key(self):\n",
    "        if type(self.d)==dict:\n",
    "            return self.d.keys()\n",
    "        \n",
    "    def dict_value(self):\n",
    "        if type(self.d)==dict:\n",
    "            return self.d.values()\n",
    "        \n",
    "    def dict_error(self):\n",
    "        if type(self.d)!=dict:\n",
    "            return \"Please Enter Dict\"\n",
    "        else:\n",
    "            return \"It is a Dict\"\n",
    "        \n",
    "    def dict_input(self,a):\n",
    "        self.a=a\n",
    "        if type(a)==dict:\n",
    "            return a\n",
    "        \n",
    "    def dict_append(self,c,e):\n",
    "        self.c=c\n",
    "        self.e=e\n",
    "        self.d[c]=e\n",
    "        return self.d"
   ]
  },
  {
   "cell_type": "code",
   "execution_count": 50,
   "id": "7c1dd010",
   "metadata": {},
   "outputs": [
    {
     "data": {
      "text/plain": [
       "<_io.TextIOWrapper name='mydict.py' mode='w' encoding='cp1252'>"
      ]
     },
     "execution_count": 50,
     "metadata": {},
     "output_type": "execute_result"
    }
   ],
   "source": [
    "open(\"mydict.py\",\"w\")"
   ]
  },
  {
   "cell_type": "code",
   "execution_count": 45,
   "id": "8956202b",
   "metadata": {},
   "outputs": [
    {
     "data": {
      "text/plain": [
       "dict_keys(['key1', 'key2', 'key3'])"
      ]
     },
     "execution_count": 45,
     "metadata": {},
     "output_type": "execute_result"
    }
   ],
   "source": [
    "o=dict_parsing({\"key1\":123,\"key2\":45,\"key3\":\"hari\"})\n",
    "o.dict_key()"
   ]
  },
  {
   "cell_type": "code",
   "execution_count": 51,
   "id": "b4ba389c",
   "metadata": {},
   "outputs": [
    {
     "name": "stdout",
     "output_type": "stream",
     "text": [
      " Volume in drive C is OS\n",
      " Volume Serial Number is 8450-1D05\n",
      "\n",
      " Directory of C:\\Users\\Harshith D\n",
      "\n",
      "01-02-2022  10:27 AM    <DIR>          .\n",
      "01-02-2022  10:27 AM    <DIR>          ..\n",
      "05-09-2018  09:22 PM    <DIR>          .android\n",
      "05-04-2018  06:43 PM    <DIR>          .AndroidStudio3.0\n",
      "11-05-2018  02:35 AM    <DIR>          .AndroidStudio3.1\n",
      "26-12-2020  08:13 AM                57 .angular-config.json\n",
      "30-01-2022  10:01 AM    <DIR>          .astropy\n",
      "14-04-2021  09:49 AM    <DIR>          .atom\n",
      "16-03-2021  12:09 PM             2,267 .bash_history\n",
      "09-12-2021  06:59 PM    <DIR>          .conda\n",
      "09-12-2021  12:50 PM                25 .condarc\n",
      "29-07-2020  07:13 PM    <DIR>          .config\n",
      "09-12-2021  12:49 PM    <DIR>          .continuum\n",
      "24-09-2020  07:33 AM             1,127 .dbshell\n",
      "06-08-2019  01:22 PM    <DIR>          .eclipse\n",
      "29-07-2020  07:46 PM               174 .gitconfig\n",
      "05-09-2018  08:18 PM    <DIR>          .gradle\n",
      "22-02-2019  06:26 PM    <DIR>          .idlerc\n",
      "30-01-2022  11:56 AM    <DIR>          .ipynb_checkpoints\n",
      "09-12-2021  01:31 PM    <DIR>          .ipython\n",
      "05-01-2022  08:33 AM    <DIR>          .jupyter\n",
      "20-07-2019  09:37 AM    <DIR>          .m2\n",
      "30-01-2022  10:06 AM    <DIR>          .matplotlib\n",
      "25-07-2020  08:48 AM                 0 .mongorc.js\n",
      "03-08-2020  10:14 AM                47 .node_repl_history\n",
      "27-06-2021  10:27 PM    <DIR>          .p2\n",
      "09-01-2022  11:08 AM    <DIR>          .spyder-py3\n",
      "02-08-2020  08:42 AM    <DIR>          .ssh\n",
      "03-07-2021  09:51 PM    <DIR>          .tcssbws\n",
      "20-07-2019  08:01 AM    <DIR>          .tooling\n",
      "26-06-2020  08:36 AM    <DIR>          .vscode\n",
      "17-11-2018  09:11 PM    <DIR>          .wdc\n",
      "29-01-2022  01:18 PM    <DIR>          __pycache__\n",
      "29-07-2020  07:48 PM               214 _netrc\n",
      "29-01-2021  08:14 AM    <DIR>          3D Objects\n",
      "16-03-2021  11:54 AM                20 abc\n",
      "23-06-2021  07:11 AM    <DIR>          AndroidStudioProjects\n",
      "08-01-2022  08:39 AM    <DIR>          Assignment\n",
      "19-08-2021  07:41 AM               151 BullseyeCoverageError.txt\n",
      "16-12-2021  10:48 AM             1,337 calendar.ipynb\n",
      "29-01-2021  08:14 AM    <DIR>          Contacts\n",
      "09-12-2021  12:50 PM    <DIR>          D\n",
      "10-12-2021  11:56 AM            12,878 Day 1.ipynb\n",
      "11-12-2021  09:34 AM            28,606 Day2.ipynb\n",
      "21-01-2022  07:11 AM    <DIR>          Desktop\n",
      "29-08-2021  03:54 PM    <DIR>          Documents\n",
      "30-01-2022  09:19 AM    <DIR>          Downloads\n",
      "21-04-2020  08:02 AM    <DIR>          eclipse\n",
      "16-02-2021  03:27 PM    <DIR>          eclipse-workspace\n",
      "28-01-2022  09:01 PM            16,103 exception handling.ipynb\n",
      "29-01-2021  08:14 AM    <DIR>          Favorites\n",
      "16-01-2022  09:52 AM            17,536 function.ipynb\n",
      "26-01-2022  12:35 PM            25,306 function2.ipynb\n",
      "06-08-2019  01:11 PM    <DIR>          git\n",
      "30-09-2018  11:48 AM    <DIR>          IdeaProjects\n",
      "08-01-2022  11:44 AM            24,316 if, for-else,while.ipynb\n",
      "28-01-2022  08:28 AM           214,133 iterable,iterator,generator,filesystem.ipynb\n",
      "29-01-2021  08:14 AM    <DIR>          Links\n",
      "28-01-2022  10:15 PM             5,090 logging.ipynb\n",
      "30-01-2022  11:15 AM            19,241 Modules, packages.ipynb\n",
      "29-01-2021  08:14 AM    <DIR>          Music\n",
      "01-02-2022  10:27 AM                 0 mydict.py\n",
      "29-01-2022  01:18 PM               228 mymodule.py\n",
      "29-01-2022  01:12 PM                 0 mymodule.py.bak\n",
      "29-01-2022  01:28 PM    <DIR>          myproject\n",
      "11-08-2021  07:37 PM    <DIR>          OneDrive\n",
      "01-02-2022  10:27 AM            10,909 oops.ipynb\n",
      "23-01-2022  07:16 PM    <DIR>          Pictures\n",
      "26-12-2021  10:19 AM                15 pillamma.txt\n",
      "21-07-2020  07:04 AM    <DIR>          Postman\n",
      "30-01-2022  01:17 PM    <DIR>          PycharmProjects\n",
      "08-01-2022  02:42 PM             6,645 reverse, palindrome.ipynb\n",
      "29-01-2021  08:14 AM    <DIR>          Saved Games\n",
      "29-01-2021  08:14 AM    <DIR>          Searches\n",
      "16-01-2022  01:05 PM             7,542 Task.ipynb\n",
      "28-01-2022  09:26 PM               591 teat.log\n",
      "29-01-2022  12:54 PM               249 test.py\n",
      "29-01-2022  12:30 PM               187 test.py.bak\n",
      "28-01-2022  09:20 AM                 4 test.txt\n",
      "29-01-2022  12:15 PM                 0 test1.py\n",
      "28-01-2022  07:14 PM                22 test1.txt\n",
      "28-01-2022  10:02 PM             3,970 test2.log\n",
      "27-01-2022  10:01 PM                25 test2.txt\n",
      "28-01-2022  10:15 PM               621 test3.log\n",
      "28-01-2022  07:27 PM                 0 test4.txt\n",
      "01-02-2022  07:21 AM            16,890 Tuple,set,dict.ipynb\n",
      "08-01-2022  08:43 AM    <DIR>          Untitled Folder\n",
      "29-01-2021  08:14 AM    <DIR>          Videos\n",
      "              38 File(s)        416,526 bytes\n",
      "              50 Dir(s)  294,250,528,768 bytes free\n"
     ]
    }
   ],
   "source": [
    "ls"
   ]
  },
  {
   "cell_type": "code",
   "execution_count": 46,
   "id": "0e33751b",
   "metadata": {},
   "outputs": [
    {
     "data": {
      "text/plain": [
       "dict_values([123, 45, 'hari'])"
      ]
     },
     "execution_count": 46,
     "metadata": {},
     "output_type": "execute_result"
    }
   ],
   "source": [
    "o.dict_value()"
   ]
  },
  {
   "cell_type": "code",
   "execution_count": 47,
   "id": "7092b06b",
   "metadata": {},
   "outputs": [
    {
     "data": {
      "text/plain": [
       "'It is a Dict'"
      ]
     },
     "execution_count": 47,
     "metadata": {},
     "output_type": "execute_result"
    }
   ],
   "source": [
    "o.dict_error()"
   ]
  },
  {
   "cell_type": "code",
   "execution_count": 48,
   "id": "634d789e",
   "metadata": {},
   "outputs": [
    {
     "data": {
      "text/plain": [
       "{'key1': 123, 'key2': 45, 'key3': 'hari'}"
      ]
     },
     "execution_count": 48,
     "metadata": {},
     "output_type": "execute_result"
    }
   ],
   "source": [
    "o.dict_input({\"key1\":123,\"key2\":45,\"key3\":\"hari\"})"
   ]
  },
  {
   "cell_type": "code",
   "execution_count": 49,
   "id": "d74c7a75",
   "metadata": {},
   "outputs": [
    {
     "data": {
      "text/plain": [
       "{'key1': 123, 'key2': 45, 'key3': 'hari', 'key4': 45}"
      ]
     },
     "execution_count": 49,
     "metadata": {},
     "output_type": "execute_result"
    }
   ],
   "source": [
    "o.dict_append(\"key4\",45)"
   ]
  },
  {
   "cell_type": "code",
   "execution_count": null,
   "id": "61876f40",
   "metadata": {},
   "outputs": [],
   "source": []
  }
 ],
 "metadata": {
  "kernelspec": {
   "display_name": "Python 3 (ipykernel)",
   "language": "python",
   "name": "python3"
  },
  "language_info": {
   "codemirror_mode": {
    "name": "ipython",
    "version": 3
   },
   "file_extension": ".py",
   "mimetype": "text/x-python",
   "name": "python",
   "nbconvert_exporter": "python",
   "pygments_lexer": "ipython3",
   "version": "3.9.7"
  }
 },
 "nbformat": 4,
 "nbformat_minor": 5
}
