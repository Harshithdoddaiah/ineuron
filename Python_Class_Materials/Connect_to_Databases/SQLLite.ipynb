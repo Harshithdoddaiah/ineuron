{
 "cells": [
  {
   "cell_type": "code",
   "execution_count": 2,
   "id": "ee26db0a",
   "metadata": {},
   "outputs": [],
   "source": [
    "#in memory database(Local System)"
   ]
  },
  {
   "cell_type": "code",
   "execution_count": 1,
   "id": "9e0b0110",
   "metadata": {},
   "outputs": [],
   "source": [
    "import sqlite3"
   ]
  },
  {
   "cell_type": "code",
   "execution_count": 4,
   "id": "8a4a5d74",
   "metadata": {},
   "outputs": [],
   "source": [
    "db = sqlite3.connect(\"ineuron.db\")"
   ]
  },
  {
   "cell_type": "code",
   "execution_count": 5,
   "id": "cbc5608f",
   "metadata": {},
   "outputs": [],
   "source": [
    "c = db.cursor()"
   ]
  },
  {
   "cell_type": "code",
   "execution_count": 6,
   "id": "b86f9ae5",
   "metadata": {},
   "outputs": [
    {
     "data": {
      "text/plain": [
       "<sqlite3.Cursor at 0x2bc93a00dc0>"
      ]
     },
     "execution_count": 6,
     "metadata": {},
     "output_type": "execute_result"
    }
   ],
   "source": [
    "c.execute('create table fsds(name text, batchid int, marks real)')"
   ]
  },
  {
   "cell_type": "code",
   "execution_count": 9,
   "id": "74742ba0",
   "metadata": {},
   "outputs": [
    {
     "name": "stdout",
     "output_type": "stream",
     "text": [
      " Volume in drive C is OS\n",
      " Volume Serial Number is 8450-1D05\n",
      "\n",
      " Directory of C:\\Users\\Harshith D\\ineuron\n",
      "\n",
      "05-03-2022  02:36 PM    <DIR>          .\n",
      "05-03-2022  02:36 PM    <DIR>          ..\n",
      "05-03-2022  11:48 AM    <DIR>          .ipynb_checkpoints\n",
      "28-02-2022  08:05 PM    <DIR>          19.3 MongoDB\n",
      "19-08-2021  07:41 AM               151 BullseyeCoverageError.txt\n",
      "16-12-2021  10:48 AM             1,337 calendar.ipynb\n",
      "23-02-2022  08:53 AM            51,867 car.data\n",
      "26-02-2022  10:39 AM             3,097 car.names\n",
      "27-02-2022  11:35 AM           659,601 Car_Mysql.ipynb\n",
      "10-12-2021  11:56 AM            12,878 Day 1.ipynb\n",
      "11-12-2021  09:34 AM            28,606 Day2.ipynb\n",
      "28-01-2022  09:01 PM            16,103 exception handling.ipynb\n",
      "16-01-2022  09:52 AM            17,536 function.ipynb\n",
      "26-01-2022  12:35 PM            25,306 function2.ipynb\n",
      "08-01-2022  11:44 AM            24,316 if, for-else,while.ipynb\n",
      "05-03-2022  02:24 PM             8,192 ineuron.db\n",
      "05-03-2022  02:36 PM                 0 ineuron.db-journal\n",
      "28-01-2022  08:28 AM           214,133 iterable,iterator,generator,filesystem.ipynb\n",
      "28-01-2022  10:15 PM             5,090 logging.ipynb\n",
      "30-01-2022  11:15 AM            19,241 Modules, packages.ipynb\n",
      "01-03-2022  12:25 PM             8,364 Mongodb_1.ipynb\n",
      "01-03-2022  11:44 AM             3,280 Mongodb_1_Sunny.ipynb\n",
      "01-02-2022  10:28 AM               657 mydict.py\n",
      "29-01-2022  01:18 PM               228 mymodule.py\n",
      "01-02-2022  10:29 AM            17,072 oops.ipynb\n",
      "04-02-2022  04:20 PM            19,886 oops2.ipynb\n",
      "08-02-2022  08:48 AM             5,978 oops3.ipynb\n",
      "26-12-2021  10:19 AM                15 pillamma.txt\n",
      "10-02-2022  08:40 AM           143,693 Python_MYSql1.ipynb\n",
      "23-02-2022  08:44 AM           189,543 Python_MYSql2.ipynb\n",
      "08-01-2022  02:42 PM             6,645 reverse, palindrome.ipynb\n",
      "05-03-2022  02:31 PM             5,033 SQLLite.ipynb\n",
      "16-01-2022  01:05 PM             7,542 Task.ipynb\n",
      "28-01-2022  09:26 PM               591 teat.log\n",
      "29-01-2022  12:54 PM               249 test.py\n",
      "03-02-2022  08:07 AM                 7 test.txt\n",
      "29-01-2022  12:15 PM                 0 test1.py\n",
      "28-01-2022  07:14 PM                22 test1.txt\n",
      "28-01-2022  10:02 PM             3,970 test2.log\n",
      "27-01-2022  10:01 PM                25 test2.txt\n",
      "28-01-2022  10:15 PM               621 test3.log\n",
      "28-01-2022  07:27 PM                 0 test4.txt\n",
      "01-02-2022  07:21 AM            16,890 Tuple,set,dict.ipynb\n",
      "01-02-2022  07:17 PM             2,255 Untitled.ipynb\n",
      "              40 File(s)      1,520,020 bytes\n",
      "               4 Dir(s)  285,728,112,640 bytes free\n"
     ]
    }
   ],
   "source": [
    "ls"
   ]
  },
  {
   "cell_type": "code",
   "execution_count": 8,
   "id": "6912e66c",
   "metadata": {},
   "outputs": [
    {
     "data": {
      "text/plain": [
       "<sqlite3.Cursor at 0x2bc93a00dc0>"
      ]
     },
     "execution_count": 8,
     "metadata": {},
     "output_type": "execute_result"
    }
   ],
   "source": [
    "c.execute(\"insert into fsds values('sudh',34535,454.6)\")"
   ]
  },
  {
   "cell_type": "code",
   "execution_count": 10,
   "id": "3560113f",
   "metadata": {},
   "outputs": [
    {
     "data": {
      "text/plain": [
       "<sqlite3.Cursor at 0x2bc93a00dc0>"
      ]
     },
     "execution_count": 10,
     "metadata": {},
     "output_type": "execute_result"
    }
   ],
   "source": [
    "c.execute(\"insert into fsds values('sudh',34535,454.6)\")\n",
    "c.execute(\"insert into fsds values('sudh',34535,454.6)\")\n",
    "c.execute(\"insert into fsds values('sudh',34535,454.6)\")\n",
    "c.execute(\"insert into fsds values('sudh',34535,454.6)\")\n",
    "c.execute(\"insert into fsds values('sudh',34535,454.6)\")\n",
    "c.execute(\"insert into fsds values('sudh',34535,454.6)\")\n",
    "c.execute(\"insert into fsds values('sudh',34535,454.6)\")\n",
    "c.execute(\"insert into fsds values('sudh',34535,454.6)\")"
   ]
  },
  {
   "cell_type": "code",
   "execution_count": 12,
   "id": "7ab0b739",
   "metadata": {},
   "outputs": [],
   "source": [
    "data = c.execute(\"select * from fsds\")"
   ]
  },
  {
   "cell_type": "code",
   "execution_count": 13,
   "id": "ef54933a",
   "metadata": {},
   "outputs": [
    {
     "name": "stdout",
     "output_type": "stream",
     "text": [
      "('sudh', 34535, 454.6)\n",
      "('sudh', 34535, 454.6)\n",
      "('sudh', 34535, 454.6)\n",
      "('sudh', 34535, 454.6)\n",
      "('sudh', 34535, 454.6)\n",
      "('sudh', 34535, 454.6)\n",
      "('sudh', 34535, 454.6)\n",
      "('sudh', 34535, 454.6)\n",
      "('sudh', 34535, 454.6)\n"
     ]
    }
   ],
   "source": [
    "for i in data:\n",
    "    print(i)"
   ]
  },
  {
   "cell_type": "code",
   "execution_count": 14,
   "id": "9aeb8b39",
   "metadata": {},
   "outputs": [],
   "source": [
    "db.commit()"
   ]
  },
  {
   "cell_type": "code",
   "execution_count": 15,
   "id": "826fdb42",
   "metadata": {},
   "outputs": [],
   "source": [
    "db.close()"
   ]
  },
  {
   "cell_type": "code",
   "execution_count": 16,
   "id": "746d73df",
   "metadata": {},
   "outputs": [],
   "source": [
    "db=sqlite3.connect(\"ineuron.db\")"
   ]
  },
  {
   "cell_type": "code",
   "execution_count": 17,
   "id": "7fbf97e7",
   "metadata": {},
   "outputs": [],
   "source": [
    "c=db.cursor()"
   ]
  },
  {
   "cell_type": "code",
   "execution_count": 19,
   "id": "a3fe5303",
   "metadata": {},
   "outputs": [],
   "source": [
    "data=c.execute(\"select * from fsds where marks > 400\")"
   ]
  },
  {
   "cell_type": "code",
   "execution_count": 20,
   "id": "605cea4e",
   "metadata": {},
   "outputs": [
    {
     "name": "stdout",
     "output_type": "stream",
     "text": [
      "('sudh', 34535, 454.6)\n",
      "('sudh', 34535, 454.6)\n",
      "('sudh', 34535, 454.6)\n",
      "('sudh', 34535, 454.6)\n",
      "('sudh', 34535, 454.6)\n",
      "('sudh', 34535, 454.6)\n",
      "('sudh', 34535, 454.6)\n",
      "('sudh', 34535, 454.6)\n",
      "('sudh', 34535, 454.6)\n"
     ]
    }
   ],
   "source": [
    "for i in data:\n",
    "    print(i)"
   ]
  },
  {
   "cell_type": "code",
   "execution_count": 23,
   "id": "bd3ce9fa",
   "metadata": {},
   "outputs": [],
   "source": [
    "data = c.execute(\"select * from fsds where name ='sudh'\")"
   ]
  },
  {
   "cell_type": "code",
   "execution_count": 24,
   "id": "536ede30",
   "metadata": {},
   "outputs": [
    {
     "name": "stdout",
     "output_type": "stream",
     "text": [
      "('sudh', 34535, 454.6)\n",
      "('sudh', 34535, 454.6)\n",
      "('sudh', 34535, 454.6)\n",
      "('sudh', 34535, 454.6)\n",
      "('sudh', 34535, 454.6)\n",
      "('sudh', 34535, 454.6)\n",
      "('sudh', 34535, 454.6)\n",
      "('sudh', 34535, 454.6)\n",
      "('sudh', 34535, 454.6)\n"
     ]
    }
   ],
   "source": [
    "for i in data:\n",
    "    print(i)"
   ]
  },
  {
   "cell_type": "code",
   "execution_count": 25,
   "id": "d6ffff34",
   "metadata": {},
   "outputs": [],
   "source": [
    "data = c.execute(\"select name,marks from fsds\")"
   ]
  },
  {
   "cell_type": "code",
   "execution_count": 26,
   "id": "2d0cca5c",
   "metadata": {},
   "outputs": [
    {
     "name": "stdout",
     "output_type": "stream",
     "text": [
      "('sudh', 454.6)\n",
      "('sudh', 454.6)\n",
      "('sudh', 454.6)\n",
      "('sudh', 454.6)\n",
      "('sudh', 454.6)\n",
      "('sudh', 454.6)\n",
      "('sudh', 454.6)\n",
      "('sudh', 454.6)\n",
      "('sudh', 454.6)\n"
     ]
    }
   ],
   "source": [
    "for i in data:\n",
    "    print(i)"
   ]
  },
  {
   "cell_type": "code",
   "execution_count": 28,
   "id": "401e6dab",
   "metadata": {},
   "outputs": [],
   "source": [
    "data = c.execute(\"select name,marks from fsds order by marks\")"
   ]
  },
  {
   "cell_type": "code",
   "execution_count": 29,
   "id": "02ebc2f8",
   "metadata": {},
   "outputs": [
    {
     "name": "stdout",
     "output_type": "stream",
     "text": [
      "('sudh', 454.6)\n",
      "('sudh', 454.6)\n",
      "('sudh', 454.6)\n",
      "('sudh', 454.6)\n",
      "('sudh', 454.6)\n",
      "('sudh', 454.6)\n",
      "('sudh', 454.6)\n",
      "('sudh', 454.6)\n",
      "('sudh', 454.6)\n"
     ]
    }
   ],
   "source": [
    "for i in data:\n",
    "    print(i)"
   ]
  },
  {
   "cell_type": "code",
   "execution_count": 30,
   "id": "1b20a598",
   "metadata": {},
   "outputs": [],
   "source": [
    "db.close()"
   ]
  },
  {
   "cell_type": "code",
   "execution_count": 2,
   "id": "df3131fd",
   "metadata": {},
   "outputs": [],
   "source": [
    "db=sqlite3.connect(\"person.db\")"
   ]
  },
  {
   "cell_type": "code",
   "execution_count": 4,
   "id": "20344815",
   "metadata": {},
   "outputs": [],
   "source": [
    "c=db.cursor()"
   ]
  },
  {
   "cell_type": "code",
   "execution_count": 5,
   "id": "ef5c4ab9",
   "metadata": {},
   "outputs": [
    {
     "ename": "OperationalError",
     "evalue": "table person_table already exists",
     "output_type": "error",
     "traceback": [
      "\u001b[1;31m---------------------------------------------------------------------------\u001b[0m",
      "\u001b[1;31mOperationalError\u001b[0m                          Traceback (most recent call last)",
      "\u001b[1;32m~\\AppData\\Local\\Temp/ipykernel_11440/411381828.py\u001b[0m in \u001b[0;36m<module>\u001b[1;34m\u001b[0m\n\u001b[1;32m----> 1\u001b[1;33m \u001b[0mc\u001b[0m\u001b[1;33m.\u001b[0m\u001b[0mexecute\u001b[0m\u001b[1;33m(\u001b[0m\u001b[1;34m\"create table person_table(name text,email_id text,age int,salary real)\"\u001b[0m\u001b[1;33m)\u001b[0m\u001b[1;33m\u001b[0m\u001b[1;33m\u001b[0m\u001b[0m\n\u001b[0m",
      "\u001b[1;31mOperationalError\u001b[0m: table person_table already exists"
     ]
    }
   ],
   "source": [
    "c.execute(\"create table person_table(name text,email_id text,age int,salary real)\")"
   ]
  },
  {
   "cell_type": "code",
   "execution_count": 8,
   "id": "e19bb84e",
   "metadata": {},
   "outputs": [
    {
     "data": {
      "text/plain": [
       "<sqlite3.Cursor at 0x20ae0e0e9d0>"
      ]
     },
     "execution_count": 8,
     "metadata": {},
     "output_type": "execute_result"
    }
   ],
   "source": [
    "c.execute(\"insert into person_table values('sudh', 'sudhanshu@ineuron.ai',12,2342.4)\")"
   ]
  },
  {
   "cell_type": "code",
   "execution_count": 9,
   "id": "cb3c10c4",
   "metadata": {},
   "outputs": [
    {
     "data": {
      "text/plain": [
       "<sqlite3.Cursor at 0x20ae0e0e9d0>"
      ]
     },
     "execution_count": 9,
     "metadata": {},
     "output_type": "execute_result"
    }
   ],
   "source": [
    "c.execute(\"insert into person_table values('harshi', 'harshi@ineuron.ai',24,2342.4)\")\n",
    "c.execute(\"insert into person_table values('rakshi', 'rakshi@ineuron.ai',25,2342.4)\")\n",
    "c.execute(\"insert into person_table values('hemu', 'hemu@ineuron.ai',26,2342.4)\")"
   ]
  },
  {
   "cell_type": "code",
   "execution_count": 12,
   "id": "d545efdd",
   "metadata": {},
   "outputs": [],
   "source": [
    "d=c.execute(\"select * from person_table\")"
   ]
  },
  {
   "cell_type": "code",
   "execution_count": 13,
   "id": "a8c244f5",
   "metadata": {},
   "outputs": [
    {
     "name": "stdout",
     "output_type": "stream",
     "text": [
      "('sudh', 'sudhanshu@ineuron.ai', 12, 2342.4)\n",
      "('harshi', 'harshi@ineuron.ai', 24, 2342.4)\n",
      "('rakshi', 'rakshi@ineuron.ai', 25, 2342.4)\n",
      "('hemu', 'hemu@ineuron.ai', 26, 2342.4)\n"
     ]
    }
   ],
   "source": [
    "for i in d:\n",
    "    print(i)"
   ]
  },
  {
   "cell_type": "code",
   "execution_count": 14,
   "id": "6fef9cc9",
   "metadata": {},
   "outputs": [],
   "source": [
    "db.commit()"
   ]
  },
  {
   "cell_type": "code",
   "execution_count": 15,
   "id": "be27103f",
   "metadata": {},
   "outputs": [],
   "source": [
    "db.close()"
   ]
  },
  {
   "cell_type": "code",
   "execution_count": 16,
   "id": "e77e828d",
   "metadata": {},
   "outputs": [],
   "source": [
    "db=sqlite3.connect('ineuron.db')"
   ]
  },
  {
   "cell_type": "code",
   "execution_count": 17,
   "id": "28801e57",
   "metadata": {},
   "outputs": [],
   "source": [
    "c=db.cursor()"
   ]
  },
  {
   "cell_type": "code",
   "execution_count": 18,
   "id": "28b29918",
   "metadata": {},
   "outputs": [
    {
     "data": {
      "text/plain": [
       "<sqlite3.Cursor at 0x20ae3d4e340>"
      ]
     },
     "execution_count": 18,
     "metadata": {},
     "output_type": "execute_result"
    }
   ],
   "source": [
    "c.execute(\"drop table fsds\")"
   ]
  },
  {
   "cell_type": "code",
   "execution_count": 19,
   "id": "02d6a601",
   "metadata": {},
   "outputs": [
    {
     "ename": "OperationalError",
     "evalue": "no such table: fsds",
     "output_type": "error",
     "traceback": [
      "\u001b[1;31m---------------------------------------------------------------------------\u001b[0m",
      "\u001b[1;31mOperationalError\u001b[0m                          Traceback (most recent call last)",
      "\u001b[1;32m~\\AppData\\Local\\Temp/ipykernel_11440/3918647245.py\u001b[0m in \u001b[0;36m<module>\u001b[1;34m\u001b[0m\n\u001b[1;32m----> 1\u001b[1;33m \u001b[0mc\u001b[0m\u001b[1;33m.\u001b[0m\u001b[0mexecute\u001b[0m\u001b[1;33m(\u001b[0m\u001b[1;34m\"select * from fsds\"\u001b[0m\u001b[1;33m)\u001b[0m\u001b[1;33m\u001b[0m\u001b[1;33m\u001b[0m\u001b[0m\n\u001b[0m",
      "\u001b[1;31mOperationalError\u001b[0m: no such table: fsds"
     ]
    }
   ],
   "source": [
    "c.execute(\"select * from fsds\")"
   ]
  },
  {
   "cell_type": "code",
   "execution_count": 20,
   "id": "eee63b0f",
   "metadata": {},
   "outputs": [],
   "source": [
    "db.close()"
   ]
  },
  {
   "cell_type": "code",
   "execution_count": 21,
   "id": "a9f3b925",
   "metadata": {},
   "outputs": [],
   "source": [
    "db=sqlite3.connect('person.db')"
   ]
  },
  {
   "cell_type": "code",
   "execution_count": 22,
   "id": "0c6722dc",
   "metadata": {},
   "outputs": [],
   "source": [
    "c = db.cursor()"
   ]
  },
  {
   "cell_type": "code",
   "execution_count": 24,
   "id": "4aea5edd",
   "metadata": {},
   "outputs": [],
   "source": [
    "d=c.execute(\"select * from person_table\")"
   ]
  },
  {
   "cell_type": "code",
   "execution_count": 25,
   "id": "157f0954",
   "metadata": {},
   "outputs": [
    {
     "name": "stdout",
     "output_type": "stream",
     "text": [
      "('sudh', 'sudhanshu@ineuron.ai', 12, 2342.4)\n",
      "('harshi', 'harshi@ineuron.ai', 24, 2342.4)\n",
      "('rakshi', 'rakshi@ineuron.ai', 25, 2342.4)\n",
      "('hemu', 'hemu@ineuron.ai', 26, 2342.4)\n"
     ]
    }
   ],
   "source": [
    "for i in d:\n",
    "    print(i)"
   ]
  },
  {
   "cell_type": "code",
   "execution_count": 26,
   "id": "3dfaa820",
   "metadata": {},
   "outputs": [],
   "source": [
    "db.close()"
   ]
  },
  {
   "cell_type": "code",
   "execution_count": 27,
   "id": "928d7b7e",
   "metadata": {},
   "outputs": [],
   "source": [
    "db = sqlite3.connect('joindb.db')"
   ]
  },
  {
   "cell_type": "code",
   "execution_count": 28,
   "id": "12771615",
   "metadata": {},
   "outputs": [],
   "source": [
    "c= db.cursor()"
   ]
  },
  {
   "cell_type": "code",
   "execution_count": 29,
   "id": "c1882b16",
   "metadata": {},
   "outputs": [
    {
     "data": {
      "text/plain": [
       "<sqlite3.Cursor at 0x20ae2fd6ce0>"
      ]
     },
     "execution_count": 29,
     "metadata": {},
     "output_type": "execute_result"
    }
   ],
   "source": [
    "c.execute(\"create table student(studentid int, student_name text, student_mailid text, marks int)\")"
   ]
  },
  {
   "cell_type": "code",
   "execution_count": 30,
   "id": "21ed121b",
   "metadata": {},
   "outputs": [
    {
     "data": {
      "text/plain": [
       "<sqlite3.Cursor at 0x20ae2fd6ce0>"
      ]
     },
     "execution_count": 30,
     "metadata": {},
     "output_type": "execute_result"
    }
   ],
   "source": [
    "c.execute(\"create table address(studentid int, pincode int, location text, nearby text, phone_no int)\")"
   ]
  },
  {
   "cell_type": "code",
   "execution_count": 32,
   "id": "eb0fbb72",
   "metadata": {},
   "outputs": [
    {
     "data": {
      "text/plain": [
       "<sqlite3.Cursor at 0x20ae2fd6ce0>"
      ]
     },
     "execution_count": 32,
     "metadata": {},
     "output_type": "execute_result"
    }
   ],
   "source": [
    "c.execute(\"insert into student values(234,'harshith','harshi@gmail.com',234)\")\n",
    "c.execute(\"insert into student values(235,'rakshith','rakshi@gmail.com',234)\")\n",
    "c.execute(\"insert into student values(236,'rakshith','rakshi@gmail.com',234)\")\n",
    "c.execute(\"insert into student values(237,'rakshith','rakshi@gmail.com',234)\")\n",
    "c.execute(\"insert into student values(238,'rakshith','rakshi@gmail.com',234)\")\n",
    "c.execute(\"insert into student values(239,'rakshith','rakshi@gmail.com',234)\")\n",
    "c.execute(\"insert into student values(240,'rakshith','rakshi@gmail.com',234)\")\n",
    "c.execute(\"insert into student values(241,'rakshith','rakshi@gmail.com',234)\")\n",
    "c.execute(\"insert into student values(242,'rakshith','rakshi@gmail.com',234)\")\n",
    "c.execute(\"insert into student values(243,'rakshith','rakshi@gmail.com',234)\")"
   ]
  },
  {
   "cell_type": "code",
   "execution_count": 33,
   "id": "f8c14e16",
   "metadata": {},
   "outputs": [
    {
     "data": {
      "text/plain": [
       "<sqlite3.Cursor at 0x20ae2fd6ce0>"
      ]
     },
     "execution_count": 33,
     "metadata": {},
     "output_type": "execute_result"
    }
   ],
   "source": [
    "c.execute(\"insert into address values(235,560034,'whitefeild','ineuron office',123456789)\")"
   ]
  },
  {
   "cell_type": "code",
   "execution_count": 34,
   "id": "3b9ddbe6",
   "metadata": {},
   "outputs": [
    {
     "data": {
      "text/plain": [
       "<sqlite3.Cursor at 0x20ae2fd6ce0>"
      ]
     },
     "execution_count": 34,
     "metadata": {},
     "output_type": "execute_result"
    }
   ],
   "source": [
    "c.execute(\"insert into address values(234,560034,'whitefeild','ineuron office',123456789)\")\n",
    "c.execute(\"insert into address values(236,560034,'whitefeild','ineuron office',123456789)\")\n",
    "c.execute(\"insert into address values(237,560034,'whitefeild','ineuron office',123456789)\")\n",
    "c.execute(\"insert into address values(238,560034,'whitefeild','ineuron office',123456789)\")\n",
    "c.execute(\"insert into address values(239,560034,'whitefeild','ineuron office',123456789)\")\n",
    "c.execute(\"insert into address values(240,560034,'whitefeild','ineuron office',123456789)\")\n",
    "c.execute(\"insert into address values(241,560034,'whitefeild','ineuron office',123456789)\")\n",
    "c.execute(\"insert into address values(242,560034,'whitefeild','ineuron office',123456789)\")\n",
    "c.execute(\"insert into address values(243,560034,'whitefeild','ineuron office',123456789)\")"
   ]
  },
  {
   "cell_type": "code",
   "execution_count": 35,
   "id": "730a32fd",
   "metadata": {},
   "outputs": [],
   "source": [
    "d=c.execute(\"select * from address\")"
   ]
  },
  {
   "cell_type": "code",
   "execution_count": 36,
   "id": "e0563436",
   "metadata": {},
   "outputs": [
    {
     "name": "stdout",
     "output_type": "stream",
     "text": [
      "(235, 560034, 'whitefeild', 'ineuron office', 123456789)\n",
      "(234, 560034, 'whitefeild', 'ineuron office', 123456789)\n",
      "(236, 560034, 'whitefeild', 'ineuron office', 123456789)\n",
      "(237, 560034, 'whitefeild', 'ineuron office', 123456789)\n",
      "(238, 560034, 'whitefeild', 'ineuron office', 123456789)\n",
      "(239, 560034, 'whitefeild', 'ineuron office', 123456789)\n",
      "(240, 560034, 'whitefeild', 'ineuron office', 123456789)\n",
      "(241, 560034, 'whitefeild', 'ineuron office', 123456789)\n",
      "(242, 560034, 'whitefeild', 'ineuron office', 123456789)\n",
      "(243, 560034, 'whitefeild', 'ineuron office', 123456789)\n"
     ]
    }
   ],
   "source": [
    "for i in d:\n",
    "    print(i)"
   ]
  },
  {
   "cell_type": "code",
   "execution_count": 39,
   "id": "59987a61",
   "metadata": {},
   "outputs": [],
   "source": [
    "data = c.execute(\"select * from student s left join address a on s.studentid=a.studentid\")"
   ]
  },
  {
   "cell_type": "code",
   "execution_count": 40,
   "id": "7fecd2bb",
   "metadata": {},
   "outputs": [
    {
     "name": "stdout",
     "output_type": "stream",
     "text": [
      "(234, 'harshith', 'harshi@gmail.com', 234, 234, 560034, 'whitefeild', 'ineuron office', 123456789)\n",
      "(234, 'rakshith', 'rakshi@gmail.com', 234, 234, 560034, 'whitefeild', 'ineuron office', 123456789)\n",
      "(234, 'rakshith', 'rakshi@gmail.com', 234, 234, 560034, 'whitefeild', 'ineuron office', 123456789)\n",
      "(234, 'rakshith', 'rakshi@gmail.com', 234, 234, 560034, 'whitefeild', 'ineuron office', 123456789)\n",
      "(234, 'rakshith', 'rakshi@gmail.com', 234, 234, 560034, 'whitefeild', 'ineuron office', 123456789)\n",
      "(234, 'rakshith', 'rakshi@gmail.com', 234, 234, 560034, 'whitefeild', 'ineuron office', 123456789)\n",
      "(234, 'rakshith', 'rakshi@gmail.com', 234, 234, 560034, 'whitefeild', 'ineuron office', 123456789)\n",
      "(234, 'rakshith', 'rakshi@gmail.com', 234, 234, 560034, 'whitefeild', 'ineuron office', 123456789)\n",
      "(234, 'rakshith', 'rakshi@gmail.com', 234, 234, 560034, 'whitefeild', 'ineuron office', 123456789)\n",
      "(234, 'rakshith', 'rakshi@gmail.com', 234, 234, 560034, 'whitefeild', 'ineuron office', 123456789)\n",
      "(234, 'harshith', 'harshi@gmail.com', 234, 234, 560034, 'whitefeild', 'ineuron office', 123456789)\n",
      "(235, 'rakshith', 'rakshi@gmail.com', 234, 235, 560034, 'whitefeild', 'ineuron office', 123456789)\n",
      "(236, 'rakshith', 'rakshi@gmail.com', 234, 236, 560034, 'whitefeild', 'ineuron office', 123456789)\n",
      "(237, 'rakshith', 'rakshi@gmail.com', 234, 237, 560034, 'whitefeild', 'ineuron office', 123456789)\n",
      "(238, 'rakshith', 'rakshi@gmail.com', 234, 238, 560034, 'whitefeild', 'ineuron office', 123456789)\n",
      "(239, 'rakshith', 'rakshi@gmail.com', 234, 239, 560034, 'whitefeild', 'ineuron office', 123456789)\n",
      "(240, 'rakshith', 'rakshi@gmail.com', 234, 240, 560034, 'whitefeild', 'ineuron office', 123456789)\n",
      "(241, 'rakshith', 'rakshi@gmail.com', 234, 241, 560034, 'whitefeild', 'ineuron office', 123456789)\n",
      "(242, 'rakshith', 'rakshi@gmail.com', 234, 242, 560034, 'whitefeild', 'ineuron office', 123456789)\n",
      "(243, 'rakshith', 'rakshi@gmail.com', 234, 243, 560034, 'whitefeild', 'ineuron office', 123456789)\n"
     ]
    }
   ],
   "source": [
    "for i in data:\n",
    "    print(i)"
   ]
  },
  {
   "cell_type": "code",
   "execution_count": 42,
   "id": "5e892478",
   "metadata": {},
   "outputs": [],
   "source": [
    "data = c.execute(\"select * from address s left join student a on s.studentid=a.studentid\")"
   ]
  },
  {
   "cell_type": "code",
   "execution_count": 43,
   "id": "09d9f394",
   "metadata": {},
   "outputs": [
    {
     "name": "stdout",
     "output_type": "stream",
     "text": [
      "(235, 560034, 'whitefeild', 'ineuron office', 123456789, 235, 'rakshith', 'rakshi@gmail.com', 234)\n",
      "(234, 560034, 'whitefeild', 'ineuron office', 123456789, 234, 'harshith', 'harshi@gmail.com', 234)\n",
      "(234, 560034, 'whitefeild', 'ineuron office', 123456789, 234, 'harshith', 'harshi@gmail.com', 234)\n",
      "(234, 560034, 'whitefeild', 'ineuron office', 123456789, 234, 'rakshith', 'rakshi@gmail.com', 234)\n",
      "(234, 560034, 'whitefeild', 'ineuron office', 123456789, 234, 'rakshith', 'rakshi@gmail.com', 234)\n",
      "(234, 560034, 'whitefeild', 'ineuron office', 123456789, 234, 'rakshith', 'rakshi@gmail.com', 234)\n",
      "(234, 560034, 'whitefeild', 'ineuron office', 123456789, 234, 'rakshith', 'rakshi@gmail.com', 234)\n",
      "(234, 560034, 'whitefeild', 'ineuron office', 123456789, 234, 'rakshith', 'rakshi@gmail.com', 234)\n",
      "(234, 560034, 'whitefeild', 'ineuron office', 123456789, 234, 'rakshith', 'rakshi@gmail.com', 234)\n",
      "(234, 560034, 'whitefeild', 'ineuron office', 123456789, 234, 'rakshith', 'rakshi@gmail.com', 234)\n",
      "(234, 560034, 'whitefeild', 'ineuron office', 123456789, 234, 'rakshith', 'rakshi@gmail.com', 234)\n",
      "(234, 560034, 'whitefeild', 'ineuron office', 123456789, 234, 'rakshith', 'rakshi@gmail.com', 234)\n",
      "(236, 560034, 'whitefeild', 'ineuron office', 123456789, 236, 'rakshith', 'rakshi@gmail.com', 234)\n",
      "(237, 560034, 'whitefeild', 'ineuron office', 123456789, 237, 'rakshith', 'rakshi@gmail.com', 234)\n",
      "(238, 560034, 'whitefeild', 'ineuron office', 123456789, 238, 'rakshith', 'rakshi@gmail.com', 234)\n",
      "(239, 560034, 'whitefeild', 'ineuron office', 123456789, 239, 'rakshith', 'rakshi@gmail.com', 234)\n",
      "(240, 560034, 'whitefeild', 'ineuron office', 123456789, 240, 'rakshith', 'rakshi@gmail.com', 234)\n",
      "(241, 560034, 'whitefeild', 'ineuron office', 123456789, 241, 'rakshith', 'rakshi@gmail.com', 234)\n",
      "(242, 560034, 'whitefeild', 'ineuron office', 123456789, 242, 'rakshith', 'rakshi@gmail.com', 234)\n",
      "(243, 560034, 'whitefeild', 'ineuron office', 123456789, 243, 'rakshith', 'rakshi@gmail.com', 234)\n"
     ]
    }
   ],
   "source": [
    "for i in data:\n",
    "    print(i)"
   ]
  },
  {
   "cell_type": "code",
   "execution_count": 45,
   "id": "f6de9ba7",
   "metadata": {},
   "outputs": [
    {
     "name": "stdout",
     "output_type": "stream",
     "text": [
      "(234, 'harshith', 'harshi@gmail.com', 234)\n",
      "(234, 'rakshith', 'rakshi@gmail.com', 234)\n",
      "(234, 'rakshith', 'rakshi@gmail.com', 234)\n",
      "(234, 'rakshith', 'rakshi@gmail.com', 234)\n",
      "(234, 'rakshith', 'rakshi@gmail.com', 234)\n",
      "(234, 'rakshith', 'rakshi@gmail.com', 234)\n",
      "(234, 'rakshith', 'rakshi@gmail.com', 234)\n",
      "(234, 'rakshith', 'rakshi@gmail.com', 234)\n",
      "(234, 'rakshith', 'rakshi@gmail.com', 234)\n",
      "(234, 'rakshith', 'rakshi@gmail.com', 234)\n",
      "(234, 'harshith', 'harshi@gmail.com', 234)\n",
      "(235, 'rakshith', 'rakshi@gmail.com', 234)\n",
      "(236, 'rakshith', 'rakshi@gmail.com', 234)\n",
      "(237, 'rakshith', 'rakshi@gmail.com', 234)\n",
      "(238, 'rakshith', 'rakshi@gmail.com', 234)\n",
      "(239, 'rakshith', 'rakshi@gmail.com', 234)\n",
      "(240, 'rakshith', 'rakshi@gmail.com', 234)\n",
      "(241, 'rakshith', 'rakshi@gmail.com', 234)\n",
      "(242, 'rakshith', 'rakshi@gmail.com', 234)\n",
      "(243, 'rakshith', 'rakshi@gmail.com', 234)\n"
     ]
    }
   ],
   "source": [
    "for i in c.execute(\"select * from student\"):\n",
    "    print(i)"
   ]
  },
  {
   "cell_type": "code",
   "execution_count": 47,
   "id": "ad25a832",
   "metadata": {},
   "outputs": [
    {
     "data": {
      "text/plain": [
       "<sqlite3.Cursor at 0x20ae2fd6ce0>"
      ]
     },
     "execution_count": 47,
     "metadata": {},
     "output_type": "execute_result"
    }
   ],
   "source": [
    "c.execute('delete from student where studentid < 235')"
   ]
  },
  {
   "cell_type": "code",
   "execution_count": 48,
   "id": "f4a11b22",
   "metadata": {},
   "outputs": [
    {
     "name": "stdout",
     "output_type": "stream",
     "text": [
      "(235, 'rakshith', 'rakshi@gmail.com', 234)\n",
      "(236, 'rakshith', 'rakshi@gmail.com', 234)\n",
      "(237, 'rakshith', 'rakshi@gmail.com', 234)\n",
      "(238, 'rakshith', 'rakshi@gmail.com', 234)\n",
      "(239, 'rakshith', 'rakshi@gmail.com', 234)\n",
      "(240, 'rakshith', 'rakshi@gmail.com', 234)\n",
      "(241, 'rakshith', 'rakshi@gmail.com', 234)\n",
      "(242, 'rakshith', 'rakshi@gmail.com', 234)\n",
      "(243, 'rakshith', 'rakshi@gmail.com', 234)\n"
     ]
    }
   ],
   "source": [
    "for i in c.execute(\"select * from student\"):\n",
    "    print(i)"
   ]
  },
  {
   "cell_type": "code",
   "execution_count": 50,
   "id": "fd704155",
   "metadata": {},
   "outputs": [],
   "source": [
    "data=c.execute(\"select * from student\")"
   ]
  },
  {
   "cell_type": "code",
   "execution_count": 51,
   "id": "d286aabe",
   "metadata": {},
   "outputs": [
    {
     "data": {
      "text/plain": [
       "[(235, 'rakshith', 'rakshi@gmail.com', 234),\n",
       " (236, 'rakshith', 'rakshi@gmail.com', 234),\n",
       " (237, 'rakshith', 'rakshi@gmail.com', 234),\n",
       " (238, 'rakshith', 'rakshi@gmail.com', 234),\n",
       " (239, 'rakshith', 'rakshi@gmail.com', 234),\n",
       " (240, 'rakshith', 'rakshi@gmail.com', 234),\n",
       " (241, 'rakshith', 'rakshi@gmail.com', 234),\n",
       " (242, 'rakshith', 'rakshi@gmail.com', 234),\n",
       " (243, 'rakshith', 'rakshi@gmail.com', 234)]"
      ]
     },
     "execution_count": 51,
     "metadata": {},
     "output_type": "execute_result"
    }
   ],
   "source": [
    "data.fetchall()"
   ]
  },
  {
   "cell_type": "code",
   "execution_count": 52,
   "id": "526c13d9",
   "metadata": {},
   "outputs": [
    {
     "data": {
      "text/plain": [
       "<sqlite3.Cursor at 0x20ae2fd6ce0>"
      ]
     },
     "execution_count": 52,
     "metadata": {},
     "output_type": "execute_result"
    }
   ],
   "source": [
    "c.execute(\"update student set studentid=1000 where studentid=236\")"
   ]
  },
  {
   "cell_type": "code",
   "execution_count": 53,
   "id": "5a196efb",
   "metadata": {},
   "outputs": [],
   "source": [
    "data=c.execute(\"select * from student\")"
   ]
  },
  {
   "cell_type": "code",
   "execution_count": 54,
   "id": "fb29611f",
   "metadata": {},
   "outputs": [
    {
     "data": {
      "text/plain": [
       "[(235, 'rakshith', 'rakshi@gmail.com', 234),\n",
       " (1000, 'rakshith', 'rakshi@gmail.com', 234),\n",
       " (237, 'rakshith', 'rakshi@gmail.com', 234),\n",
       " (238, 'rakshith', 'rakshi@gmail.com', 234),\n",
       " (239, 'rakshith', 'rakshi@gmail.com', 234),\n",
       " (240, 'rakshith', 'rakshi@gmail.com', 234),\n",
       " (241, 'rakshith', 'rakshi@gmail.com', 234),\n",
       " (242, 'rakshith', 'rakshi@gmail.com', 234),\n",
       " (243, 'rakshith', 'rakshi@gmail.com', 234)]"
      ]
     },
     "execution_count": 54,
     "metadata": {},
     "output_type": "execute_result"
    }
   ],
   "source": [
    "data.fetchall()"
   ]
  },
  {
   "cell_type": "code",
   "execution_count": 4,
   "id": "f0a3521d",
   "metadata": {},
   "outputs": [],
   "source": [
    " l= [1,2,3,4,5,6]"
   ]
  },
  {
   "cell_type": "code",
   "execution_count": 56,
   "id": "fb868497",
   "metadata": {},
   "outputs": [
    {
     "name": "stdout",
     "output_type": "stream",
     "text": [
      "6\n",
      "7\n",
      "8\n",
      "9\n",
      "10\n",
      "11\n"
     ]
    }
   ],
   "source": [
    "for i in l:\n",
    "    print(i+5)"
   ]
  },
  {
   "cell_type": "code",
   "execution_count": 2,
   "id": "5bab184d",
   "metadata": {},
   "outputs": [],
   "source": [
    "def test(a):\n",
    "    return a+5"
   ]
  },
  {
   "cell_type": "code",
   "execution_count": 6,
   "id": "06e53b9f",
   "metadata": {},
   "outputs": [
    {
     "data": {
      "text/plain": [
       "[6, 7, 8, 9, 10, 11]"
      ]
     },
     "execution_count": 6,
     "metadata": {},
     "output_type": "execute_result"
    }
   ],
   "source": [
    "list(map(test,l))"
   ]
  },
  {
   "cell_type": "code",
   "execution_count": 7,
   "id": "cd1ead0f",
   "metadata": {},
   "outputs": [],
   "source": [
    "def test1(a):\n",
    "    return a*3454+454"
   ]
  },
  {
   "cell_type": "code",
   "execution_count": 8,
   "id": "e115264c",
   "metadata": {},
   "outputs": [
    {
     "data": {
      "text/plain": [
       "[3908, 7362, 10816, 14270, 17724, 21178]"
      ]
     },
     "execution_count": 8,
     "metadata": {},
     "output_type": "execute_result"
    }
   ],
   "source": [
    "list(map(test1,l))"
   ]
  },
  {
   "cell_type": "code",
   "execution_count": 9,
   "id": "fc00c0b7",
   "metadata": {},
   "outputs": [],
   "source": [
    "l1=['234','345','456','567']"
   ]
  },
  {
   "cell_type": "code",
   "execution_count": 10,
   "id": "ede420e6",
   "metadata": {},
   "outputs": [],
   "source": [
    "def test2(a):\n",
    "    return int(a)"
   ]
  },
  {
   "cell_type": "code",
   "execution_count": null,
   "id": "40b12a72",
   "metadata": {},
   "outputs": [],
   "source": [
    "#map fun"
   ]
  },
  {
   "cell_type": "code",
   "execution_count": 11,
   "id": "55a395d8",
   "metadata": {},
   "outputs": [
    {
     "data": {
      "text/plain": [
       "[234, 345, 456, 567]"
      ]
     },
     "execution_count": 11,
     "metadata": {},
     "output_type": "execute_result"
    }
   ],
   "source": [
    "list(map(test2,l1))"
   ]
  },
  {
   "cell_type": "code",
   "execution_count": 12,
   "id": "c09b1667",
   "metadata": {},
   "outputs": [
    {
     "data": {
      "text/plain": [
       "[234, 345, 456, 567]"
      ]
     },
     "execution_count": 12,
     "metadata": {},
     "output_type": "execute_result"
    }
   ],
   "source": [
    "list(map(lambda x: int(x),l1))"
   ]
  },
  {
   "cell_type": "code",
   "execution_count": 13,
   "id": "a96d0e17",
   "metadata": {},
   "outputs": [
    {
     "data": {
      "text/plain": [
       "[6, 7, 8, 9, 10, 11]"
      ]
     },
     "execution_count": 13,
     "metadata": {},
     "output_type": "execute_result"
    }
   ],
   "source": [
    "list(map(lambda x : x+5,l))"
   ]
  },
  {
   "cell_type": "code",
   "execution_count": 1,
   "id": "1f79111f",
   "metadata": {},
   "outputs": [],
   "source": [
    "l=[4,5,6,7,78,8,78]"
   ]
  },
  {
   "cell_type": "code",
   "execution_count": null,
   "id": "394ddbfe",
   "metadata": {},
   "outputs": [],
   "source": [
    "#filter"
   ]
  },
  {
   "cell_type": "code",
   "execution_count": 9,
   "id": "25e06593",
   "metadata": {},
   "outputs": [],
   "source": [
    "def test3(a):\n",
    "        if a%2==0:\n",
    "            return a"
   ]
  },
  {
   "cell_type": "code",
   "execution_count": 10,
   "id": "ecb7fa81",
   "metadata": {},
   "outputs": [
    {
     "data": {
      "text/plain": [
       "[4, None, 6, None, 78, 8, 78]"
      ]
     },
     "execution_count": 10,
     "metadata": {},
     "output_type": "execute_result"
    }
   ],
   "source": [
    "list(map(test3,l))"
   ]
  },
  {
   "cell_type": "code",
   "execution_count": 11,
   "id": "19878139",
   "metadata": {},
   "outputs": [
    {
     "data": {
      "text/plain": [
       "[4, 6, 78, 8, 78]"
      ]
     },
     "execution_count": 11,
     "metadata": {},
     "output_type": "execute_result"
    }
   ],
   "source": [
    "[i for i in l if i%2==0]"
   ]
  },
  {
   "cell_type": "code",
   "execution_count": 13,
   "id": "035811d5",
   "metadata": {},
   "outputs": [
    {
     "data": {
      "text/plain": [
       "[4, 6, 78, 8, 78]"
      ]
     },
     "execution_count": 13,
     "metadata": {},
     "output_type": "execute_result"
    }
   ],
   "source": [
    "list(filter(test3,l))"
   ]
  },
  {
   "cell_type": "code",
   "execution_count": 14,
   "id": "613b4deb",
   "metadata": {},
   "outputs": [
    {
     "data": {
      "text/plain": [
       "[4, 6, 78, 8, 78]"
      ]
     },
     "execution_count": 14,
     "metadata": {},
     "output_type": "execute_result"
    }
   ],
   "source": [
    "list(filter(lambda x: x%2 ==0, l))"
   ]
  },
  {
   "cell_type": "code",
   "execution_count": 16,
   "id": "76894d0a",
   "metadata": {},
   "outputs": [
    {
     "data": {
      "text/plain": [
       "[4, 5, 6, 7, 78, 8, 78]"
      ]
     },
     "execution_count": 16,
     "metadata": {},
     "output_type": "execute_result"
    }
   ],
   "source": [
    "list(filter(lambda x: x+5, l))"
   ]
  },
  {
   "cell_type": "code",
   "execution_count": 17,
   "id": "53e4d3f7",
   "metadata": {},
   "outputs": [],
   "source": [
    "#reduce"
   ]
  },
  {
   "cell_type": "code",
   "execution_count": 4,
   "id": "a496c95a",
   "metadata": {},
   "outputs": [],
   "source": [
    "from functools import reduce"
   ]
  },
  {
   "cell_type": "code",
   "execution_count": 19,
   "id": "3b2f84d2",
   "metadata": {},
   "outputs": [],
   "source": [
    "l=[3,4,5,6,7,8,9]"
   ]
  },
  {
   "cell_type": "code",
   "execution_count": 20,
   "id": "d74e5e64",
   "metadata": {},
   "outputs": [
    {
     "data": {
      "text/plain": [
       "42"
      ]
     },
     "execution_count": 20,
     "metadata": {},
     "output_type": "execute_result"
    }
   ],
   "source": [
    "sum(l)"
   ]
  },
  {
   "cell_type": "code",
   "execution_count": 30,
   "id": "4d46d86c",
   "metadata": {},
   "outputs": [],
   "source": [
    "def test5(a,b):\n",
    "    return a+b"
   ]
  },
  {
   "cell_type": "code",
   "execution_count": 31,
   "id": "17a8caa3",
   "metadata": {},
   "outputs": [
    {
     "data": {
      "text/plain": [
       "42"
      ]
     },
     "execution_count": 31,
     "metadata": {},
     "output_type": "execute_result"
    }
   ],
   "source": [
    "reduce(test5,l)"
   ]
  },
  {
   "cell_type": "code",
   "execution_count": 26,
   "id": "16a851ad",
   "metadata": {},
   "outputs": [],
   "source": [
    "def test6(a,b):\n",
    "    return a*b"
   ]
  },
  {
   "cell_type": "code",
   "execution_count": 27,
   "id": "d9a54a40",
   "metadata": {},
   "outputs": [
    {
     "data": {
      "text/plain": [
       "181440"
      ]
     },
     "execution_count": 27,
     "metadata": {},
     "output_type": "execute_result"
    }
   ],
   "source": [
    "reduce(test6,l)"
   ]
  },
  {
   "cell_type": "code",
   "execution_count": 5,
   "id": "f119fab9",
   "metadata": {},
   "outputs": [],
   "source": [
    "l=[3]"
   ]
  },
  {
   "cell_type": "code",
   "execution_count": 6,
   "id": "26993a8a",
   "metadata": {},
   "outputs": [
    {
     "ename": "NameError",
     "evalue": "name 'test6' is not defined",
     "output_type": "error",
     "traceback": [
      "\u001b[1;31m---------------------------------------------------------------------------\u001b[0m",
      "\u001b[1;31mNameError\u001b[0m                                 Traceback (most recent call last)",
      "\u001b[1;32m~\\AppData\\Local\\Temp/ipykernel_6476/2277181660.py\u001b[0m in \u001b[0;36m<module>\u001b[1;34m\u001b[0m\n\u001b[1;32m----> 1\u001b[1;33m \u001b[0mreduce\u001b[0m\u001b[1;33m(\u001b[0m\u001b[0mtest6\u001b[0m\u001b[1;33m,\u001b[0m\u001b[0ml\u001b[0m\u001b[1;33m)\u001b[0m\u001b[1;33m\u001b[0m\u001b[1;33m\u001b[0m\u001b[0m\n\u001b[0m",
      "\u001b[1;31mNameError\u001b[0m: name 'test6' is not defined"
     ]
    }
   ],
   "source": [
    "reduce(test6,l)"
   ]
  },
  {
   "cell_type": "code",
   "execution_count": 7,
   "id": "3a9cf803",
   "metadata": {},
   "outputs": [
    {
     "data": {
      "text/plain": [
       "3"
      ]
     },
     "execution_count": 7,
     "metadata": {},
     "output_type": "execute_result"
    }
   ],
   "source": [
    "reduce(lambda x,y :x/y,l)"
   ]
  },
  {
   "cell_type": "code",
   "execution_count": null,
   "id": "cb00bd58",
   "metadata": {},
   "outputs": [],
   "source": [
    "#zip"
   ]
  },
  {
   "cell_type": "code",
   "execution_count": 12,
   "id": "3bd8529a",
   "metadata": {},
   "outputs": [],
   "source": [
    "l=[1,2,3,4,5,6]\n",
    "l1=[7,8,9,1,2,3]"
   ]
  },
  {
   "cell_type": "code",
   "execution_count": 13,
   "id": "b2fc7297",
   "metadata": {},
   "outputs": [
    {
     "data": {
      "text/plain": [
       "[(1, 7), (2, 8), (3, 9), (4, 1), (5, 2), (6, 3)]"
      ]
     },
     "execution_count": 13,
     "metadata": {},
     "output_type": "execute_result"
    }
   ],
   "source": [
    "list(zip(l,l1))"
   ]
  },
  {
   "cell_type": "code",
   "execution_count": null,
   "id": "f8b7321a",
   "metadata": {},
   "outputs": [],
   "source": [
    "Task:\n",
    "    "
   ]
  }
 ],
 "metadata": {
  "kernelspec": {
   "display_name": "Python 3 (ipykernel)",
   "language": "python",
   "name": "python3"
  },
  "language_info": {
   "codemirror_mode": {
    "name": "ipython",
    "version": 3
   },
   "file_extension": ".py",
   "mimetype": "text/x-python",
   "name": "python",
   "nbconvert_exporter": "python",
   "pygments_lexer": "ipython3",
   "version": "3.9.7"
  }
 },
 "nbformat": 4,
 "nbformat_minor": 5
}
